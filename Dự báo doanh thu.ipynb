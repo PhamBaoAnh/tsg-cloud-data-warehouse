{
 "cells": [
  {
   "cell_type": "markdown",
   "metadata": {},
   "source": [
    "<h2 style=\"font-family: 'Arial', sans-serif; text-align: center; color: #4B8BBE;\">\n",
    "    Xây dựng mô hình Prophet trong dự báo doanh thu theo nhóm sản phẩm \n",
    "</h2>\n"
   ]
  },
  {
   "cell_type": "code",
   "execution_count": 1,
   "metadata": {},
   "outputs": [
    {
     "data": {
      "text/html": [
       "<div>\n",
       "<style scoped>\n",
       "    .dataframe tbody tr th:only-of-type {\n",
       "        vertical-align: middle;\n",
       "    }\n",
       "\n",
       "    .dataframe tbody tr th {\n",
       "        vertical-align: top;\n",
       "    }\n",
       "\n",
       "    .dataframe thead th {\n",
       "        text-align: right;\n",
       "    }\n",
       "</style>\n",
       "<table border=\"1\" class=\"dataframe\">\n",
       "  <thead>\n",
       "    <tr style=\"text-align: right;\">\n",
       "      <th></th>\n",
       "      <th>matg</th>\n",
       "      <th>madh</th>\n",
       "      <th>macn</th>\n",
       "      <th>manv</th>\n",
       "      <th>masp</th>\n",
       "      <th>makh</th>\n",
       "      <th>soluong</th>\n",
       "      <th>doanhthu</th>\n",
       "      <th>loinhuan</th>\n",
       "      <th>nhomsp</th>\n",
       "    </tr>\n",
       "  </thead>\n",
       "  <tbody>\n",
       "    <tr>\n",
       "      <th>0</th>\n",
       "      <td>20221003</td>\n",
       "      <td>ĐH9811891</td>\n",
       "      <td>CN DN</td>\n",
       "      <td>NV248</td>\n",
       "      <td>P-347</td>\n",
       "      <td>KH-0608</td>\n",
       "      <td>9</td>\n",
       "      <td>354780000.0</td>\n",
       "      <td>118260000.0</td>\n",
       "      <td>Phần mềm</td>\n",
       "    </tr>\n",
       "    <tr>\n",
       "      <th>1</th>\n",
       "      <td>20221003</td>\n",
       "      <td>ĐH4485598</td>\n",
       "      <td>CN DN</td>\n",
       "      <td>NV247</td>\n",
       "      <td>P-340</td>\n",
       "      <td>KH-0550</td>\n",
       "      <td>7</td>\n",
       "      <td>1785000.0</td>\n",
       "      <td>595000.0</td>\n",
       "      <td>Phụ kiện</td>\n",
       "    </tr>\n",
       "    <tr>\n",
       "      <th>2</th>\n",
       "      <td>20221003</td>\n",
       "      <td>ĐH1539758</td>\n",
       "      <td>CN DN</td>\n",
       "      <td>NV058</td>\n",
       "      <td>P-724</td>\n",
       "      <td>KH-0157</td>\n",
       "      <td>6</td>\n",
       "      <td>4050000.0</td>\n",
       "      <td>1350000.0</td>\n",
       "      <td>Phần mềm</td>\n",
       "    </tr>\n",
       "    <tr>\n",
       "      <th>3</th>\n",
       "      <td>20221003</td>\n",
       "      <td>ĐH2490023</td>\n",
       "      <td>CN DN</td>\n",
       "      <td>NV207</td>\n",
       "      <td>P-248</td>\n",
       "      <td>KH-0593</td>\n",
       "      <td>7</td>\n",
       "      <td>4935000.0</td>\n",
       "      <td>1645000.0</td>\n",
       "      <td>Phần mềm</td>\n",
       "    </tr>\n",
       "    <tr>\n",
       "      <th>4</th>\n",
       "      <td>20221003</td>\n",
       "      <td>ĐH6321654</td>\n",
       "      <td>CN DN</td>\n",
       "      <td>NV195</td>\n",
       "      <td>P-334</td>\n",
       "      <td>KH-0681</td>\n",
       "      <td>9</td>\n",
       "      <td>36045000.0</td>\n",
       "      <td>12015000.0</td>\n",
       "      <td>Phụ kiện</td>\n",
       "    </tr>\n",
       "  </tbody>\n",
       "</table>\n",
       "</div>"
      ],
      "text/plain": [
       "       matg       madh   macn   manv   masp     makh  soluong     doanhthu  \\\n",
       "0  20221003  ĐH9811891  CN DN  NV248  P-347  KH-0608        9  354780000.0   \n",
       "1  20221003  ĐH4485598  CN DN  NV247  P-340  KH-0550        7    1785000.0   \n",
       "2  20221003  ĐH1539758  CN DN  NV058  P-724  KH-0157        6    4050000.0   \n",
       "3  20221003  ĐH2490023  CN DN  NV207  P-248  KH-0593        7    4935000.0   \n",
       "4  20221003  ĐH6321654  CN DN  NV195  P-334  KH-0681        9   36045000.0   \n",
       "\n",
       "      loinhuan    nhomsp  \n",
       "0  118260000.0  Phần mềm  \n",
       "1     595000.0  Phụ kiện  \n",
       "2    1350000.0  Phần mềm  \n",
       "3    1645000.0  Phần mềm  \n",
       "4   12015000.0  Phụ kiện  "
      ]
     },
     "execution_count": 1,
     "metadata": {},
     "output_type": "execute_result"
    }
   ],
   "source": [
    "import pyodbc\n",
    "import numpy as np\n",
    "import pandas as pd\n",
    "from prophet import Prophet\n",
    "import seaborn as sns\n",
    "import matplotlib.pyplot as plt\n",
    "\n",
    "import redshift_connector\n",
    "\n",
    "\n",
    "conn = redshift_connector.connect(\n",
    "    host     = \"datnvn.870889396351.us-east-1.redshift-serverless.amazonaws.com\",\n",
    "    port     = 5439,\n",
    "    database = \"dev\",\n",
    "    user     = \"admin\",\n",
    "    password  = 'Datn1234'\n",
    ")\n",
    "\n",
    "cursor = conn.cursor()\n",
    "\n",
    "cursor.execute(\"SELECT b.*, s.nhomsp  FROM  Fact_BanHang b join Dim_sanpham s on b.masp = s.masp\")\n",
    "# Directly fetch the results as a pandas DataFrame\n",
    "df = cursor.fetch_dataframe()\n",
    "df.head(5)\n"
   ]
  },
  {
   "cell_type": "code",
   "execution_count": 2,
   "metadata": {},
   "outputs": [
    {
     "data": {
      "text/html": [
       "<div>\n",
       "<style scoped>\n",
       "    .dataframe tbody tr th:only-of-type {\n",
       "        vertical-align: middle;\n",
       "    }\n",
       "\n",
       "    .dataframe tbody tr th {\n",
       "        vertical-align: top;\n",
       "    }\n",
       "\n",
       "    .dataframe thead th {\n",
       "        text-align: right;\n",
       "    }\n",
       "</style>\n",
       "<table border=\"1\" class=\"dataframe\">\n",
       "  <thead>\n",
       "    <tr style=\"text-align: right;\">\n",
       "      <th></th>\n",
       "      <th>matg</th>\n",
       "      <th>soluong</th>\n",
       "      <th>doanhthu</th>\n",
       "      <th>loinhuan</th>\n",
       "    </tr>\n",
       "  </thead>\n",
       "  <tbody>\n",
       "    <tr>\n",
       "      <th>count</th>\n",
       "      <td>2.912900e+04</td>\n",
       "      <td>29129.000000</td>\n",
       "      <td>2.895600e+04</td>\n",
       "      <td>2.912500e+04</td>\n",
       "    </tr>\n",
       "    <tr>\n",
       "      <th>mean</th>\n",
       "      <td>2.023073e+07</td>\n",
       "      <td>6.047684</td>\n",
       "      <td>9.915063e+07</td>\n",
       "      <td>3.966611e+07</td>\n",
       "    </tr>\n",
       "    <tr>\n",
       "      <th>std</th>\n",
       "      <td>8.311830e+03</td>\n",
       "      <td>2.226735</td>\n",
       "      <td>2.249571e+08</td>\n",
       "      <td>1.118842e+08</td>\n",
       "    </tr>\n",
       "    <tr>\n",
       "      <th>min</th>\n",
       "      <td>2.022011e+07</td>\n",
       "      <td>1.000000</td>\n",
       "      <td>3.000000e+04</td>\n",
       "      <td>1.000000e+04</td>\n",
       "    </tr>\n",
       "    <tr>\n",
       "      <th>25%</th>\n",
       "      <td>2.022101e+07</td>\n",
       "      <td>5.000000</td>\n",
       "      <td>7.110000e+06</td>\n",
       "      <td>2.400000e+06</td>\n",
       "    </tr>\n",
       "    <tr>\n",
       "      <th>50%</th>\n",
       "      <td>2.023073e+07</td>\n",
       "      <td>6.000000</td>\n",
       "      <td>2.904750e+07</td>\n",
       "      <td>9.840000e+06</td>\n",
       "    </tr>\n",
       "    <tr>\n",
       "      <th>75%</th>\n",
       "      <td>2.024050e+07</td>\n",
       "      <td>7.000000</td>\n",
       "      <td>9.253125e+07</td>\n",
       "      <td>3.164000e+07</td>\n",
       "    </tr>\n",
       "    <tr>\n",
       "      <th>max</th>\n",
       "      <td>2.024123e+07</td>\n",
       "      <td>10.000000</td>\n",
       "      <td>2.138850e+09</td>\n",
       "      <td>2.053350e+09</td>\n",
       "    </tr>\n",
       "  </tbody>\n",
       "</table>\n",
       "</div>"
      ],
      "text/plain": [
       "               matg       soluong      doanhthu      loinhuan\n",
       "count  2.912900e+04  29129.000000  2.895600e+04  2.912500e+04\n",
       "mean   2.023073e+07      6.047684  9.915063e+07  3.966611e+07\n",
       "std    8.311830e+03      2.226735  2.249571e+08  1.118842e+08\n",
       "min    2.022011e+07      1.000000  3.000000e+04  1.000000e+04\n",
       "25%    2.022101e+07      5.000000  7.110000e+06  2.400000e+06\n",
       "50%    2.023073e+07      6.000000  2.904750e+07  9.840000e+06\n",
       "75%    2.024050e+07      7.000000  9.253125e+07  3.164000e+07\n",
       "max    2.024123e+07     10.000000  2.138850e+09  2.053350e+09"
      ]
     },
     "execution_count": 2,
     "metadata": {},
     "output_type": "execute_result"
    }
   ],
   "source": [
    "# Kiểm tra các giá trị thống kê cơ bản\n",
    "df.describe()"
   ]
  },
  {
   "cell_type": "code",
   "execution_count": 3,
   "metadata": {},
   "outputs": [],
   "source": [
    "df['matg'] = pd.to_datetime(df['matg'], format='%Y%m%d')\n",
    "df.sort_values('matg', inplace=True)\n",
    "\n",
    "df_pm = df[df['nhomsp'] == 'Phần mềm']\n",
    "df_mt = df[df['nhomsp'] == 'Máy tính']\n",
    "df_pk = df[df['nhomsp'] == 'Phụ kiện']\n",
    "\n",
    "df_pm_monthly = df_pm.resample('M', on='matg')['doanhthu'].sum().reset_index()\n",
    "df_mt_monthly = df_mt.resample('M', on='matg')['doanhthu'].sum().reset_index()\n",
    "df_pk_monthly = df_pk.resample('M', on='matg')['doanhthu'].sum().reset_index()"
   ]
  },
  {
   "cell_type": "code",
   "execution_count": 24,
   "metadata": {},
   "outputs": [
    {
     "data": {
      "image/png": "[encoded data removed]",
      "text/plain": [
       "<Figure size 1000x400 with 1 Axes>"
      ]
     },
     "metadata": {},
     "output_type": "display_data"
    }
   ],
   "source": [
    "import matplotlib.pyplot as plt\n",
    "plt.figure(figsize=(10,4))\n",
    "plt.plot(df_pm_monthly['matg'], df_pm_monthly['doanhthu'], label='Phần mềm')\n",
    "plt.plot(df_mt_monthly['matg'], df_mt_monthly['doanhthu'], label='Máy tính')\n",
    "plt.plot(df_pk_monthly['matg'], df_pk_monthly['doanhthu'], label='Phụ kiện')\n",
    "plt.legend()\n",
    "plt.xlabel('Thời gian')\n",
    "plt.ylabel('Doanh thu')\n",
    "plt.title('Doanh thu theo nhóm sản phẩm')\n",
    "plt.grid()\n",
    "plt.show()\n"
   ]
  },
  {
   "cell_type": "markdown",
   "metadata": {},
   "source": [
    "### Dự đoán doanh thu cho nhóm sản phẩm máy tính "
   ]
  },
  {
   "cell_type": "markdown",
   "metadata": {},
   "source": [
    "***Phân rã chuỗi thời gian***"
   ]
  },
  {
   "cell_type": "code",
   "execution_count": null,
   "metadata": {},
   "outputs": [
    {
     "data": {
      "image/png": "[encoded data removed]",
      "text/plain": [
       "<Figure size 640x480 with 4 Axes>"
      ]
     },
     "metadata": {},
     "output_type": "display_data"
    }
   ],
   "source": [
    "import statsmodels.api as sm\n",
    "ts_mt = df_mt_monthly.set_index('matg')['doanhthu']\n",
    "res_add = sm.tsa.seasonal_decompose(ts_mt, model='additive', period=12)\n",
    "res_add.plot()\n",
    "plt.show()"
   ]
  },
  {
   "cell_type": "markdown",
   "metadata": {},
   "source": [
    "Nhìn vào biểu đồ cho thấy không có tính mùa vụ theo tuần"
   ]
  },
  {
   "cell_type": "markdown",
   "metadata": {},
   "source": [
    "### Tiền xử lý dữ liệu"
   ]
  },
  {
   "cell_type": "code",
   "execution_count": 6,
   "metadata": {},
   "outputs": [
    {
     "data": {
      "text/html": [
       "<div>\n",
       "<style scoped>\n",
       "    .dataframe tbody tr th:only-of-type {\n",
       "        vertical-align: middle;\n",
       "    }\n",
       "\n",
       "    .dataframe tbody tr th {\n",
       "        vertical-align: top;\n",
       "    }\n",
       "\n",
       "    .dataframe thead th {\n",
       "        text-align: right;\n",
       "    }\n",
       "</style>\n",
       "<table border=\"1\" class=\"dataframe\">\n",
       "  <thead>\n",
       "    <tr style=\"text-align: right;\">\n",
       "      <th></th>\n",
       "      <th>ds</th>\n",
       "      <th>y</th>\n",
       "    </tr>\n",
       "  </thead>\n",
       "  <tbody>\n",
       "    <tr>\n",
       "      <th>0</th>\n",
       "      <td>2022-01-31</td>\n",
       "      <td>3.654750e+08</td>\n",
       "    </tr>\n",
       "    <tr>\n",
       "      <th>1</th>\n",
       "      <td>2022-02-28</td>\n",
       "      <td>1.367290e+10</td>\n",
       "    </tr>\n",
       "    <tr>\n",
       "      <th>2</th>\n",
       "      <td>2022-03-31</td>\n",
       "      <td>1.628370e+10</td>\n",
       "    </tr>\n",
       "    <tr>\n",
       "      <th>3</th>\n",
       "      <td>2022-04-30</td>\n",
       "      <td>1.130366e+10</td>\n",
       "    </tr>\n",
       "    <tr>\n",
       "      <th>4</th>\n",
       "      <td>2022-05-31</td>\n",
       "      <td>9.971430e+09</td>\n",
       "    </tr>\n",
       "  </tbody>\n",
       "</table>\n",
       "</div>"
      ],
      "text/plain": [
       "          ds             y\n",
       "0 2022-01-31  3.654750e+08\n",
       "1 2022-02-28  1.367290e+10\n",
       "2 2022-03-31  1.628370e+10\n",
       "3 2022-04-30  1.130366e+10\n",
       "4 2022-05-31  9.971430e+09"
      ]
     },
     "execution_count": 6,
     "metadata": {},
     "output_type": "execute_result"
    }
   ],
   "source": [
    "\n",
    "# Đổi tên các cột để phù hợp với yêu cầu của Prophet:\n",
    "# 'Order_Date' đổi thành 'ds' và 'Sales' đổi thành 'y' (giá trị cần dự báo)\n",
    "monthly_data_mt = df_mt_monthly.rename(columns={'matg': 'ds', 'doanhthu': 'y'})\n",
    "\n",
    "# Hiển thị 5 dòng đầu của dữ liệu đã xử lý\n",
    "monthly_data_mt.head(5)\n"
   ]
  },
  {
   "cell_type": "markdown",
   "metadata": {},
   "source": [
    "***Huấn luyện mô hình***"
   ]
  },
  {
   "cell_type": "code",
   "execution_count": 7,
   "metadata": {},
   "outputs": [
    {
     "name": "stderr",
     "output_type": "stream",
     "text": [
      "09:48:52 - cmdstanpy - INFO - Chain [1] start processing\n",
      "09:48:53 - cmdstanpy - INFO - Chain [1] done processing\n"
     ]
    }
   ],
   "source": [
    "from prophet import Prophet\n",
    "\n",
    "\n",
    "# Tạo DataFrame chứa ngày lễ và ảnh hưởng chiến dịch\n",
    "holidays = pd.DataFrame({\n",
    "  'holiday': ['Tet2022', 'ChuyenDoiSo2022', 'Tet2023', 'ChuyenDoiSo2023', 'Tet2024', 'ChuyenDoiSo2024'],\n",
    "  'ds': pd.to_datetime(['2022-02-01', '2022-10-10',  # Ngày bắt đầu ảnh hưởng Tết và ngày Chuyển đổi số\n",
    "                         '2023-01-22', '2023-10-10',  # Tết và ngày Chuyển đổi số\n",
    "                         '2024-02-10', '2024-10-10']),  # Tết và ngày Chuyển đổi số năm 2024\n",
    "  'lower_window': [-7, -7, -7, -7, -7, -7],  # Ảnh hưởng trước ngày lễ (10 ngày trước Tết và ngày 10-10)\n",
    "  'upper_window': [7, 1, 7, 1, 7, 1],        # Ảnh hưởng sau ngày lễ (7 ngày sau Tết, 1 ngày sau ngày 10-10)\n",
    "})\n",
    "\n",
    "holidays['ds'] = pd.to_datetime(holidays['ds'])  # Chuyển đổi thành datetime\n",
    "\n",
    "# Khởi tạo mô hình Prophet\n",
    "model = Prophet(holidays=holidays, \n",
    "                yearly_seasonality=True,   # Nếu có tính mùa vụ theo năm\n",
    "                weekly_seasonality=False)  # Nếu không có mùa vụ theo tuần\n",
    "\n",
    "\n",
    "# Huấn luyện mô hình Prophet với dữ liệu lịch sử\n",
    "# Prophet sẽ học các đặc điểm trong dữ liệu như xu hướng (trend),\n",
    "# mùa vụ (seasonality), và yếu tố bất thường (holidays/events).\n",
    "model.fit(monthly_data_mt)\n",
    "\n",
    "# Tạo một DataFrame mới chứa các mốc thời gian lịch sử và tương lai (12 tháng tiếp theo).\n",
    "future = model.make_future_dataframe(periods=12, freq='M')\n",
    "\n",
    "# Dự báo giá trị tương lai dựa trên mô hình Prophet đã huấn luyện\n",
    "forecast = model.predict(future)\n",
    "forecast['yhat'] = forecast['yhat'].apply(lambda x: max(x, 100000000))\n",
    "# Lấy doanh thu thực tế trong dữ liệu lịch sử\n",
    "actual_data_mt = monthly_data_mt['y']\n",
    "\n",
    "# Lấy giá trị dự báo mà Prophet đã khớp trên dữ liệu lịch sử (fitted values)\n",
    "fitted_data_mt = forecast['yhat'][:len(monthly_data_mt)]\n",
    "\n",
    "# Lấy giá trị dự báo cho 12 tháng tiếp theo (giá trị tương lai)\n",
    "forecast_data_mt = forecast['yhat'][len(monthly_data_mt):]\n"
   ]
  },
  {
   "cell_type": "markdown",
   "metadata": {},
   "source": [
    "***Trực quan hóa kết quả dự báo***"
   ]
  },
  {
   "cell_type": "code",
   "execution_count": 27,
   "metadata": {},
   "outputs": [
    {
     "data": {
      "application/vnd.plotly.v1+json": {
       "config": {
        "plotlyServerURL": "https://plot.ly"
       },
       "data": [
        {
         "hoverinfo": "x+y+name",
         "line": {
          "color": "green"
         },
         "mode": "lines",
         "name": "Doanh thu thực tế",
         "type": "scatter",
         "x": [
          "2022-01-31T00:00:00",
          "2022-02-28T00:00:00",
          "2022-03-31T00:00:00",
          "2022-04-30T00:00:00",
          "2022-05-31T00:00:00",
          "2022-06-30T00:00:00",
          "2022-07-31T00:00:00",
          "2022-08-31T00:00:00",
          "2022-09-30T00:00:00",
          "2022-10-31T00:00:00",
          "2022-11-30T00:00:00",
          "2022-12-31T00:00:00",
          "2023-01-31T00:00:00",
          "2023-02-28T00:00:00",
          "2023-03-31T00:00:00",
          "2023-04-30T00:00:00",
          "2023-05-31T00:00:00",
          "2023-06-30T00:00:00",
          "2023-07-31T00:00:00",
          "2023-08-31T00:00:00",
          "2023-09-30T00:00:00",
          "2023-10-31T00:00:00",
          "2023-11-30T00:00:00",
          "2023-12-31T00:00:00",
          "2024-01-31T00:00:00",
          "2024-02-29T00:00:00",
          "2024-03-31T00:00:00",
          "2024-04-30T00:00:00",
          "2024-05-31T00:00:00",
          "2024-06-30T00:00:00",
          "2024-07-31T00:00:00",
          "2024-08-31T00:00:00",
          "2024-09-30T00:00:00",
          "2024-10-31T00:00:00",
          "2024-11-30T00:00:00",
          "2024-12-31T00:00:00"
         ],
         "y": [
          365475000,
          13672905000,
          16283700000,
          11303655000,
          9971430000,
          16720065000,
          11360820000,
          8949360000,
          11070390000,
          20765820000,
          18456300000,
          7306875000,
          299715000,
          10403325000,
          13052055000,
          9906165000,
          8929440000,
          10571580000,
          9029535000,
          11727165000,
          12182805000,
          13582950000,
          19000365000,
          6987270000,
          362160000,
          9755130000,
          10818780000,
          6352560000,
          8603070000,
          11301060000,
          9339600000,
          5953125000,
          10384920000,
          14377710000,
          11893380000,
          5471655000
         ]
        },
        {
         "hoverinfo": "x+y+name",
         "line": {
          "color": "blue"
         },
         "mode": "lines",
         "name": "Doanh thu dự đoán",
         "type": "scatter",
         "x": [
          "2022-01-31T00:00:00",
          "2022-02-28T00:00:00",
          "2022-03-31T00:00:00",
          "2022-04-30T00:00:00",
          "2022-05-31T00:00:00",
          "2022-06-30T00:00:00",
          "2022-07-31T00:00:00",
          "2022-08-31T00:00:00",
          "2022-09-30T00:00:00",
          "2022-10-31T00:00:00",
          "2022-11-30T00:00:00",
          "2022-12-31T00:00:00",
          "2023-01-31T00:00:00",
          "2023-02-28T00:00:00",
          "2023-03-31T00:00:00",
          "2023-04-30T00:00:00",
          "2023-05-31T00:00:00",
          "2023-06-30T00:00:00",
          "2023-07-31T00:00:00",
          "2023-08-31T00:00:00",
          "2023-09-30T00:00:00",
          "2023-10-31T00:00:00",
          "2023-11-30T00:00:00",
          "2023-12-31T00:00:00",
          "2024-01-31T00:00:00",
          "2024-02-29T00:00:00",
          "2024-03-31T00:00:00",
          "2024-04-30T00:00:00",
          "2024-05-31T00:00:00",
          "2024-06-30T00:00:00",
          "2024-07-31T00:00:00",
          "2024-08-31T00:00:00",
          "2024-09-30T00:00:00",
          "2024-10-31T00:00:00",
          "2024-11-30T00:00:00",
          "2024-12-31T00:00:00"
         ],
         "y": [
          387192733.55382156,
          12951467743.836206,
          15301154041.850906,
          11271109702.952631,
          10880632534.089502,
          14556415968.488268,
          11509916644.52082,
          11055035867.705894,
          12929985121.06178,
          17786265845.80618,
          18740777405.940735,
          8245870194.626061,
          1354528703.2775211,
          10756474746.15038,
          13839421102.438791,
          10235802499.734554,
          8705633781.586775,
          12357151339.700058,
          9108397632.34732,
          10349503297.922266,
          10769788126.819248,
          15197064282.87994,
          18344821188.43644,
          5899016399.576324,
          100000000,
          10121514944.22559,
          11014770743.792192,
          6055513750.79829,
          7918136914.859779,
          11687822730.944504,
          9118993435.4562,
          5231724243.3927555,
          9945158180.636244,
          15755258352.94569,
          12270133665.151161,
          5619657032.493507
         ]
        },
        {
         "hoverinfo": "x+y+name",
         "line": {
          "color": "red"
         },
         "mode": "lines",
         "name": "Doanh thu dự báo 12 tháng tiếp theo",
         "type": "scatter",
         "x": [
          "2025-01-31T00:00:00",
          "2025-02-28T00:00:00",
          "2025-03-31T00:00:00",
          "2025-04-30T00:00:00",
          "2025-05-31T00:00:00",
          "2025-06-30T00:00:00",
          "2025-07-31T00:00:00",
          "2025-08-31T00:00:00",
          "2025-09-30T00:00:00",
          "2025-10-31T00:00:00",
          "2025-11-30T00:00:00",
          "2025-12-31T00:00:00"
         ],
         "y": [
          100000000,
          7903005703.000971,
          9522520800.156652,
          5040464110.749171,
          5781311215.659231,
          9496640594.096752,
          6676740213.330468,
          4511876939.171995,
          7818297952.82703,
          13135641544.457039,
          11878587587.199696,
          3316009033.717406
         ]
        }
       ],
       "layout": {
        "height": 400,
        "legend": {
         "title": {
          "text": "Dữ liệu"
         }
        },
        "template": {
         "data": {
          "bar": [
           {
            "error_x": {
             "color": "#2a3f5f"
            },
            "error_y": {
             "color": "#2a3f5f"
            },
            "marker": {
             "line": {
              "color": "white",
              "width": 0.5
             },
             "pattern": {
              "fillmode": "overlay",
              "size": 10,
              "solidity": 0.2
             }
            },
            "type": "bar"
           }
          ],
          "barpolar": [
           {
            "marker": {
             "line": {
              "color": "white",
              "width": 0.5
             },
             "pattern": {
              "fillmode": "overlay",
              "size": 10,
              "solidity": 0.2
             }
            },
            "type": "barpolar"
           }
          ],
          "carpet": [
           {
            "aaxis": {
             "endlinecolor": "#2a3f5f",
             "gridcolor": "#C8D4E3",
             "linecolor": "#C8D4E3",
             "minorgridcolor": "#C8D4E3",
             "startlinecolor": "#2a3f5f"
            },
            "baxis": {
             "endlinecolor": "#2a3f5f",
             "gridcolor": "#C8D4E3",
             "linecolor": "#C8D4E3",
             "minorgridcolor": "#C8D4E3",
             "startlinecolor": "#2a3f5f"
            },
            "type": "carpet"
           }
          ],
          "choropleth": [
           {
            "colorbar": {
             "outlinewidth": 0,
             "ticks": ""
            },
            "type": "choropleth"
           }
          ],
          "contour": [
           {
            "colorbar": {
             "outlinewidth": 0,
             "ticks": ""
            },
            "colorscale": [
             [
              0,
              "#0d0887"
             ],
             [
              0.1111111111111111,
              "#46039f"
             ],
             [
              0.2222222222222222,
              "#7201a8"
             ],
             [
              0.3333333333333333,
              "#9c179e"
             ],
             [
              0.4444444444444444,
              "#bd3786"
             ],
             [
              0.5555555555555556,
              "#d8576b"
             ],
             [
              0.6666666666666666,
              "#ed7953"
             ],
             [
              0.7777777777777778,
              "#fb9f3a"
             ],
             [
              0.8888888888888888,
              "#fdca26"
             ],
             [
              1,
              "#f0f921"
             ]
            ],
            "type": "contour"
           }
          ],
          "contourcarpet": [
           {
            "colorbar": {
             "outlinewidth": 0,
             "ticks": ""
            },
            "type": "contourcarpet"
           }
          ],
          "heatmap": [
           {
            "colorbar": {
             "outlinewidth": 0,
             "ticks": ""
            },
            "colorscale": [
             [
              0,
              "#0d0887"
             ],
             [
              0.1111111111111111,
              "#46039f"
             ],
             [
              0.2222222222222222,
              "#7201a8"
             ],
             [
              0.3333333333333333,
              "#9c179e"
             ],
             [
              0.4444444444444444,
              "#bd3786"
             ],
             [
              0.5555555555555556,
              "#d8576b"
             ],
             [
              0.6666666666666666,
              "#ed7953"
             ],
             [
              0.7777777777777778,
              "#fb9f3a"
             ],
             [
              0.8888888888888888,
              "#fdca26"
             ],
             [
              1,
              "#f0f921"
             ]
            ],
            "type": "heatmap"
           }
          ],
          "heatmapgl": [
           {
            "colorbar": {
             "outlinewidth": 0,
             "ticks": ""
            },
            "colorscale": [
             [
              0,
              "#0d0887"
             ],
             [
              0.1111111111111111,
              "#46039f"
             ],
             [
              0.2222222222222222,
              "#7201a8"
             ],
             [
              0.3333333333333333,
              "#9c179e"
             ],
             [
              0.4444444444444444,
              "#bd3786"
             ],
             [
              0.5555555555555556,
              "#d8576b"
             ],
             [
              0.6666666666666666,
              "#ed7953"
             ],
             [
              0.7777777777777778,
              "#fb9f3a"
             ],
             [
              0.8888888888888888,
              "#fdca26"
             ],
             [
              1,
              "#f0f921"
             ]
            ],
            "type": "heatmapgl"
           }
          ],
          "histogram": [
           {
            "marker": {
             "pattern": {
              "fillmode": "overlay",
              "size": 10,
              "solidity": 0.2
             }
            },
            "type": "histogram"
           }
          ],
          "histogram2d": [
           {
            "colorbar": {
             "outlinewidth": 0,
             "ticks": ""
            },
            "colorscale": [
             [
              0,
              "#0d0887"
             ],
             [
              0.1111111111111111,
              "#46039f"
             ],
             [
              0.2222222222222222,
              "#7201a8"
             ],
             [
              0.3333333333333333,
              "#9c179e"
             ],
             [
              0.4444444444444444,
              "#bd3786"
             ],
             [
              0.5555555555555556,
              "#d8576b"
             ],
             [
              0.6666666666666666,
              "#ed7953"
             ],
             [
              0.7777777777777778,
              "#fb9f3a"
             ],
             [
              0.8888888888888888,
              "#fdca26"
             ],
             [
              1,
              "#f0f921"
             ]
            ],
            "type": "histogram2d"
           }
          ],
          "histogram2dcontour": [
           {
            "colorbar": {
             "outlinewidth": 0,
             "ticks": ""
            },
            "colorscale": [
             [
              0,
              "#0d0887"
             ],
             [
              0.1111111111111111,
              "#46039f"
             ],
             [
              0.2222222222222222,
              "#7201a8"
             ],
             [
              0.3333333333333333,
              "#9c179e"
             ],
             [
              0.4444444444444444,
              "#bd3786"
             ],
             [
              0.5555555555555556,
              "#d8576b"
             ],
             [
              0.6666666666666666,
              "#ed7953"
             ],
             [
              0.7777777777777778,
              "#fb9f3a"
             ],
             [
              0.8888888888888888,
              "#fdca26"
             ],
             [
              1,
              "#f0f921"
             ]
            ],
            "type": "histogram2dcontour"
           }
          ],
          "mesh3d": [
           {
            "colorbar": {
             "outlinewidth": 0,
             "ticks": ""
            },
            "type": "mesh3d"
           }
          ],
          "parcoords": [
           {
            "line": {
             "colorbar": {
              "outlinewidth": 0,
              "ticks": ""
             }
            },
            "type": "parcoords"
           }
          ],
          "pie": [
           {
            "automargin": true,
            "type": "pie"
           }
          ],
          "scatter": [
           {
            "fillpattern": {
             "fillmode": "overlay",
             "size": 10,
             "solidity": 0.2
            },
            "type": "scatter"
           }
          ],
          "scatter3d": [
           {
            "line": {
             "colorbar": {
              "outlinewidth": 0,
              "ticks": ""
             }
            },
            "marker": {
             "colorbar": {
              "outlinewidth": 0,
              "ticks": ""
             }
            },
            "type": "scatter3d"
           }
          ],
          "scattercarpet": [
           {
            "marker": {
             "colorbar": {
              "outlinewidth": 0,
              "ticks": ""
             }
            },
            "type": "scattercarpet"
           }
          ],
          "scattergeo": [
           {
            "marker": {
             "colorbar": {
              "outlinewidth": 0,
              "ticks": ""
             }
            },
            "type": "scattergeo"
           }
          ],
          "scattergl": [
           {
            "marker": {
             "colorbar": {
              "outlinewidth": 0,
              "ticks": ""
             }
            },
            "type": "scattergl"
           }
          ],
          "scattermapbox": [
           {
            "marker": {
             "colorbar": {
              "outlinewidth": 0,
              "ticks": ""
             }
            },
            "type": "scattermapbox"
           }
          ],
          "scatterpolar": [
           {
            "marker": {
             "colorbar": {
              "outlinewidth": 0,
              "ticks": ""
             }
            },
            "type": "scatterpolar"
           }
          ],
          "scatterpolargl": [
           {
            "marker": {
             "colorbar": {
              "outlinewidth": 0,
              "ticks": ""
             }
            },
            "type": "scatterpolargl"
           }
          ],
          "scatterternary": [
           {
            "marker": {
             "colorbar": {
              "outlinewidth": 0,
              "ticks": ""
             }
            },
            "type": "scatterternary"
           }
          ],
          "surface": [
           {
            "colorbar": {
             "outlinewidth": 0,
             "ticks": ""
            },
            "colorscale": [
             [
              0,
              "#0d0887"
             ],
             [
              0.1111111111111111,
              "#46039f"
             ],
             [
              0.2222222222222222,
              "#7201a8"
             ],
             [
              0.3333333333333333,
              "#9c179e"
             ],
             [
              0.4444444444444444,
              "#bd3786"
             ],
             [
              0.5555555555555556,
              "#d8576b"
             ],
             [
              0.6666666666666666,
              "#ed7953"
             ],
             [
              0.7777777777777778,
              "#fb9f3a"
             ],
             [
              0.8888888888888888,
              "#fdca26"
             ],
             [
              1,
              "#f0f921"
             ]
            ],
            "type": "surface"
           }
          ],
          "table": [
           {
            "cells": {
             "fill": {
              "color": "#EBF0F8"
             },
             "line": {
              "color": "white"
             }
            },
            "header": {
             "fill": {
              "color": "#C8D4E3"
             },
             "line": {
              "color": "white"
             }
            },
            "type": "table"
           }
          ]
         },
         "layout": {
          "annotationdefaults": {
           "arrowcolor": "#2a3f5f",
           "arrowhead": 0,
           "arrowwidth": 1
          },
          "autotypenumbers": "strict",
          "coloraxis": {
           "colorbar": {
            "outlinewidth": 0,
            "ticks": ""
           }
          },
          "colorscale": {
           "diverging": [
            [
             0,
             "#8e0152"
            ],
            [
             0.1,
             "#c51b7d"
            ],
            [
             0.2,
             "#de77ae"
            ],
            [
             0.3,
             "#f1b6da"
            ],
            [
             0.4,
             "#fde0ef"
            ],
            [
             0.5,
             "#f7f7f7"
            ],
            [
             0.6,
             "#e6f5d0"
            ],
            [
             0.7,
             "#b8e186"
            ],
            [
             0.8,
             "#7fbc41"
            ],
            [
             0.9,
             "#4d9221"
            ],
            [
             1,
             "#276419"
            ]
           ],
           "sequential": [
            [
             0,
             "#0d0887"
            ],
            [
             0.1111111111111111,
             "#46039f"
            ],
            [
             0.2222222222222222,
             "#7201a8"
            ],
            [
             0.3333333333333333,
             "#9c179e"
            ],
            [
             0.4444444444444444,
             "#bd3786"
            ],
            [
             0.5555555555555556,
             "#d8576b"
            ],
            [
             0.6666666666666666,
             "#ed7953"
            ],
            [
             0.7777777777777778,
             "#fb9f3a"
            ],
            [
             0.8888888888888888,
             "#fdca26"
            ],
            [
             1,
             "#f0f921"
            ]
           ],
           "sequentialminus": [
            [
             0,
             "#0d0887"
            ],
            [
             0.1111111111111111,
             "#46039f"
            ],
            [
             0.2222222222222222,
             "#7201a8"
            ],
            [
             0.3333333333333333,
             "#9c179e"
            ],
            [
             0.4444444444444444,
             "#bd3786"
            ],
            [
             0.5555555555555556,
             "#d8576b"
            ],
            [
             0.6666666666666666,
             "#ed7953"
            ],
            [
             0.7777777777777778,
             "#fb9f3a"
            ],
            [
             0.8888888888888888,
             "#fdca26"
            ],
            [
             1,
             "#f0f921"
            ]
           ]
          },
          "colorway": [
           "#636efa",
           "#EF553B",
           "#00cc96",
           "#ab63fa",
           "#FFA15A",
           "#19d3f3",
           "#FF6692",
           "#B6E880",
           "#FF97FF",
           "#FECB52"
          ],
          "font": {
           "color": "#2a3f5f"
          },
          "geo": {
           "bgcolor": "white",
           "lakecolor": "white",
           "landcolor": "white",
           "showlakes": true,
           "showland": true,
           "subunitcolor": "#C8D4E3"
          },
          "hoverlabel": {
           "align": "left"
          },
          "hovermode": "closest",
          "mapbox": {
           "style": "light"
          },
          "paper_bgcolor": "white",
          "plot_bgcolor": "white",
          "polar": {
           "angularaxis": {
            "gridcolor": "#EBF0F8",
            "linecolor": "#EBF0F8",
            "ticks": ""
           },
           "bgcolor": "white",
           "radialaxis": {
            "gridcolor": "#EBF0F8",
            "linecolor": "#EBF0F8",
            "ticks": ""
           }
          },
          "scene": {
           "xaxis": {
            "backgroundcolor": "white",
            "gridcolor": "#DFE8F3",
            "gridwidth": 2,
            "linecolor": "#EBF0F8",
            "showbackground": true,
            "ticks": "",
            "zerolinecolor": "#EBF0F8"
           },
           "yaxis": {
            "backgroundcolor": "white",
            "gridcolor": "#DFE8F3",
            "gridwidth": 2,
            "linecolor": "#EBF0F8",
            "showbackground": true,
            "ticks": "",
            "zerolinecolor": "#EBF0F8"
           },
           "zaxis": {
            "backgroundcolor": "white",
            "gridcolor": "#DFE8F3",
            "gridwidth": 2,
            "linecolor": "#EBF0F8",
            "showbackground": true,
            "ticks": "",
            "zerolinecolor": "#EBF0F8"
           }
          },
          "shapedefaults": {
           "line": {
            "color": "#2a3f5f"
           }
          },
          "ternary": {
           "aaxis": {
            "gridcolor": "#DFE8F3",
            "linecolor": "#A2B1C6",
            "ticks": ""
           },
           "baxis": {
            "gridcolor": "#DFE8F3",
            "linecolor": "#A2B1C6",
            "ticks": ""
           },
           "bgcolor": "white",
           "caxis": {
            "gridcolor": "#DFE8F3",
            "linecolor": "#A2B1C6",
            "ticks": ""
           }
          },
          "title": {
           "x": 0.05
          },
          "xaxis": {
           "automargin": true,
           "gridcolor": "#EBF0F8",
           "linecolor": "#EBF0F8",
           "ticks": "",
           "title": {
            "standoff": 15
           },
           "zerolinecolor": "#EBF0F8",
           "zerolinewidth": 2
          },
          "yaxis": {
           "automargin": true,
           "gridcolor": "#EBF0F8",
           "linecolor": "#EBF0F8",
           "ticks": "",
           "title": {
            "standoff": 15
           },
           "zerolinecolor": "#EBF0F8",
           "zerolinewidth": 2
          }
         }
        },
        "title": {
         "text": "Dự đoán doanh thu cho nhóm sản phẩm máy tính"
        },
        "width": 1000,
        "xaxis": {
         "title": {
          "text": "Thời gian"
         }
        },
        "yaxis": {
         "title": {
          "text": "Doanh thu"
         }
        }
       }
      }
     },
     "metadata": {},
     "output_type": "display_data"
    }
   ],
   "source": [
    "import plotly.graph_objects as go\n",
    "\n",
    "# Tạo một figure\n",
    "fig = go.Figure()\n",
    "\n",
    "# Thêm dữ liệu thực tế (Doanh thu thực tế)\n",
    "fig.add_trace(go.Scatter(\n",
    "    x=monthly_data_mt['ds'],\n",
    "    y=actual_data_mt,\n",
    "    mode='lines',\n",
    "    name='Doanh thu thực tế',\n",
    "    line=dict(color='green'),\n",
    "    hoverinfo='x+y+name',  # Hiển thị x và y khi hover\n",
    "))\n",
    "\n",
    "# Thêm dữ liệu dự đoán (Doanh thu dự đoán)\n",
    "fig.add_trace(go.Scatter(\n",
    "    x=monthly_data_mt['ds'],\n",
    "    y=fitted_data_mt,\n",
    "    mode='lines',\n",
    "    name='Doanh thu dự đoán',\n",
    "    line=dict(color='blue'),\n",
    "    hoverinfo='x+y+name',\n",
    "))\n",
    "\n",
    "# Thêm dữ liệu dự báo (Doanh thu dự báo tương lai)\n",
    "fig.add_trace(go.Scatter(\n",
    "    x=forecast['ds'][len(monthly_data_mt):],\n",
    "    y=forecast_data_mt,\n",
    "    mode='lines',\n",
    "    name='Doanh thu dự báo 12 tháng tiếp theo',\n",
    "    line=dict(color='red'),\n",
    "    hoverinfo='x+y+name',\n",
    "))\n",
    "\n",
    "# Hiển thị biểu đồ\n",
    "fig.update_layout(\n",
    "    title=\"Dự đoán doanh thu cho nhóm sản phẩm máy tính\",\n",
    "    xaxis_title=\"Thời gian\",\n",
    "    yaxis_title=\"Doanh thu\",\n",
    "    legend_title=\"Dữ liệu\",\n",
    "    template=\"plotly_white\",\n",
    "    width=1000,   # Chiều rộng biểu đồ (px)\n",
    "    height=400   # Chiều cao biểu đồ (px)\n",
    ")\n",
    "\n",
    "\n",
    "# Hiển thị biểu đồ\n",
    "fig.show()\n"
   ]
  },
  {
   "cell_type": "code",
   "execution_count": 9,
   "metadata": {},
   "outputs": [
    {
     "name": "stdout",
     "output_type": "stream",
     "text": [
      "R-squared score for fitted data: 0.95\n"
     ]
    }
   ],
   "source": [
    "# Tính chỉ số R-squared để đánh giá mức độ khớp (fitted) của mô hình trên dữ liệu lịch sử\n",
    "r2_fitted_mt = 1 - np.sum((actual_data_mt - fitted_data_mt) ** 2) / np.sum((actual_data_mt - actual_data_mt.mean()) ** 2)\n",
    "\n",
    "# Hiển thị giá trị R-squared đã tính toán\n",
    "print(f\"R-squared score for fitted data: {r2_fitted_mt:.2f}\")\n"
   ]
  },
  {
   "cell_type": "markdown",
   "metadata": {},
   "source": [
    "### Dự đoán doanh thu cho nhóm sản phẩm máy phần mềm"
   ]
  },
  {
   "cell_type": "markdown",
   "metadata": {},
   "source": [
    "***Phân rã chuỗi thời gian***"
   ]
  },
  {
   "cell_type": "code",
   "execution_count": 10,
   "metadata": {},
   "outputs": [
    {
     "data": {
      "image/png": "[encoded data removed]",
      "text/plain": [
       "<Figure size 640x480 with 4 Axes>"
      ]
     },
     "metadata": {},
     "output_type": "display_data"
    }
   ],
   "source": [
    "import statsmodels.api as sm\n",
    "\n",
    "ts_pm = df_pm_monthly.set_index('matg')['doanhthu']\n",
    "\n",
    "# Phân tích mùa vụ theo năm\n",
    "res_add = sm.tsa.seasonal_decompose(ts_pm, model='additive', period=12)\n",
    "res_add.plot()\n",
    "plt.show()\n"
   ]
  },
  {
   "cell_type": "code",
   "execution_count": 11,
   "metadata": {},
   "outputs": [
    {
     "data": {
      "text/html": [
       "<div>\n",
       "<style scoped>\n",
       "    .dataframe tbody tr th:only-of-type {\n",
       "        vertical-align: middle;\n",
       "    }\n",
       "\n",
       "    .dataframe tbody tr th {\n",
       "        vertical-align: top;\n",
       "    }\n",
       "\n",
       "    .dataframe thead th {\n",
       "        text-align: right;\n",
       "    }\n",
       "</style>\n",
       "<table border=\"1\" class=\"dataframe\">\n",
       "  <thead>\n",
       "    <tr style=\"text-align: right;\">\n",
       "      <th></th>\n",
       "      <th>ds</th>\n",
       "      <th>y</th>\n",
       "    </tr>\n",
       "  </thead>\n",
       "  <tbody>\n",
       "    <tr>\n",
       "      <th>0</th>\n",
       "      <td>2022-01-31</td>\n",
       "      <td>5.739045e+09</td>\n",
       "    </tr>\n",
       "    <tr>\n",
       "      <th>1</th>\n",
       "      <td>2022-02-28</td>\n",
       "      <td>5.944197e+10</td>\n",
       "    </tr>\n",
       "    <tr>\n",
       "      <th>2</th>\n",
       "      <td>2022-03-31</td>\n",
       "      <td>7.266910e+10</td>\n",
       "    </tr>\n",
       "    <tr>\n",
       "      <th>3</th>\n",
       "      <td>2022-04-30</td>\n",
       "      <td>5.963547e+10</td>\n",
       "    </tr>\n",
       "    <tr>\n",
       "      <th>4</th>\n",
       "      <td>2022-05-31</td>\n",
       "      <td>5.478872e+10</td>\n",
       "    </tr>\n",
       "  </tbody>\n",
       "</table>\n",
       "</div>"
      ],
      "text/plain": [
       "          ds             y\n",
       "0 2022-01-31  5.739045e+09\n",
       "1 2022-02-28  5.944197e+10\n",
       "2 2022-03-31  7.266910e+10\n",
       "3 2022-04-30  5.963547e+10\n",
       "4 2022-05-31  5.478872e+10"
      ]
     },
     "execution_count": 11,
     "metadata": {},
     "output_type": "execute_result"
    }
   ],
   "source": [
    "\n",
    "# Đổi tên các cột để phù hợp với yêu cầu của Prophet:\n",
    "# 'Order_Date' đổi thành 'ds' và 'Sales' đổi thành 'y' (giá trị cần dự báo)\n",
    "monthly_data_pm = df_pm_monthly.rename(columns={'matg': 'ds', 'doanhthu': 'y'})\n",
    "\n",
    "# Hiển thị 5 dòng đầu của dữ liệu đã xử lý\n",
    "monthly_data_pm.head(5)\n"
   ]
  },
  {
   "cell_type": "markdown",
   "metadata": {},
   "source": [
    "***Huấn luyện mô hình***"
   ]
  },
  {
   "cell_type": "code",
   "execution_count": 12,
   "metadata": {},
   "outputs": [
    {
     "name": "stderr",
     "output_type": "stream",
     "text": [
      "09:48:56 - cmdstanpy - INFO - Chain [1] start processing\n",
      "09:48:56 - cmdstanpy - INFO - Chain [1] done processing\n"
     ]
    }
   ],
   "source": [
    "from prophet import Prophet\n",
    "\n",
    "\n",
    "# Tạo DataFrame chứa ngày lễ và ảnh hưởng chiến dịch\n",
    "holidays = pd.DataFrame({\n",
    "  'holiday': ['Tet2022', 'ChuyenDoiSo2022', 'Tet2023', 'ChuyenDoiSo2023', 'Tet2024', 'ChuyenDoiSo2024'],\n",
    "  'ds': pd.to_datetime(['2022-02-01', '2022-10-10',  # Ngày bắt đầu ảnh hưởng Tết và ngày Chuyển đổi số\n",
    "                         '2023-01-22', '2023-10-10',  # Tết và ngày Chuyển đổi số\n",
    "                         '2024-02-10', '2024-10-10']),  # Tết và ngày Chuyển đổi số năm 2024\n",
    "  'lower_window': [-7, -7, -7, -7, -7, -7],  # Ảnh hưởng trước ngày lễ (7 ngày trước Tết và ngày 10-10)\n",
    "  'upper_window': [7, 1, 7, 1, 7, 1],        # Ảnh hưởng sau ngày lễ (7 ngày sau Tết, 1 ngày sau ngày 10-10)\n",
    "})\n",
    "\n",
    "holidays['ds'] = pd.to_datetime(holidays['ds'])  # Chuyển đổi thành datetime\n",
    "\n",
    "# Khởi tạo mô hình Prophet\n",
    "model = Prophet(holidays=holidays, \n",
    "                yearly_seasonality=True,   # Nếu có tính mùa vụ theo năm\n",
    ")  # Nếu không có mùa vụ theo tuần\n",
    "\n",
    "\n",
    "# Huấn luyện mô hình Prophet với dữ liệu lịch sử\n",
    "# Prophet sẽ học các đặc điểm trong dữ liệu như xu hướng (trend),\n",
    "# mùa vụ (seasonality), và yếu tố bất thường (holidays/events).\n",
    "model.fit(monthly_data_pm)\n",
    "\n",
    "# Tạo một DataFrame mới chứa các mốc thời gian lịch sử và tương lai (12 tháng tiếp theo).\n",
    "future = model.make_future_dataframe(periods=12, freq='M')\n",
    "\n",
    "# Dự báo giá trị tương lai dựa trên mô hình Prophet đã huấn luyện\n",
    "forecast = model.predict(future)\n",
    "forecast['yhat'] = forecast['yhat'].apply(lambda x: max(x, 1000000000))\n",
    "# Lấy doanh thu thực tế trong dữ liệu lịch sử\n",
    "actual_data_pm = monthly_data_pm['y']\n",
    "\n",
    "# Lấy giá trị dự báo mà Prophet đã khớp trên dữ liệu lịch sử (fitted values)\n",
    "fitted_data_pm = forecast['yhat'][:len(monthly_data_pm)]\n",
    "\n",
    "# Lấy giá trị dự báo cho 12 tháng tiếp theo (giá trị tương lai)\n",
    "forecast_data_pm = forecast['yhat'][len(monthly_data_pm):]\n"
   ]
  },
  {
   "cell_type": "markdown",
   "metadata": {},
   "source": [
    "***Trực quan hóa kết quả dự báo***"
   ]
  },
  {
   "cell_type": "code",
   "execution_count": 26,
   "metadata": {},
   "outputs": [
    {
     "data": {
      "application/vnd.plotly.v1+json": {
       "config": {
        "plotlyServerURL": "https://plot.ly"
       },
       "data": [
        {
         "hoverinfo": "x+y+name",
         "line": {
          "color": "green"
         },
         "mode": "lines",
         "name": "Doanh thu thực tế",
         "type": "scatter",
         "x": [
          "2022-01-31T00:00:00",
          "2022-02-28T00:00:00",
          "2022-03-31T00:00:00",
          "2022-04-30T00:00:00",
          "2022-05-31T00:00:00",
          "2022-06-30T00:00:00",
          "2022-07-31T00:00:00",
          "2022-08-31T00:00:00",
          "2022-09-30T00:00:00",
          "2022-10-31T00:00:00",
          "2022-11-30T00:00:00",
          "2022-12-31T00:00:00",
          "2023-01-31T00:00:00",
          "2023-02-28T00:00:00",
          "2023-03-31T00:00:00",
          "2023-04-30T00:00:00",
          "2023-05-31T00:00:00",
          "2023-06-30T00:00:00",
          "2023-07-31T00:00:00",
          "2023-08-31T00:00:00",
          "2023-09-30T00:00:00",
          "2023-10-31T00:00:00",
          "2023-11-30T00:00:00",
          "2023-12-31T00:00:00",
          "2024-01-31T00:00:00",
          "2024-02-29T00:00:00",
          "2024-03-31T00:00:00",
          "2024-04-30T00:00:00",
          "2024-05-31T00:00:00",
          "2024-06-30T00:00:00",
          "2024-07-31T00:00:00",
          "2024-08-31T00:00:00",
          "2024-09-30T00:00:00",
          "2024-10-31T00:00:00",
          "2024-11-30T00:00:00",
          "2024-12-31T00:00:00"
         ],
         "y": [
          5739045000,
          59441970000,
          72669105000,
          59635470000,
          54788715000,
          54933795000,
          69211245000,
          54275355000,
          61451640000,
          82470990000,
          72656760000,
          71756130000,
          4236540000,
          44232975000,
          53282115000,
          53114700000,
          43059225000,
          44911410000,
          52454295000,
          46319805000,
          46527600000,
          60411450000,
          54242790000,
          52614135000,
          4196175000,
          46923435000,
          54790665000,
          51104100000,
          47646090000,
          43147170000,
          54031935000,
          41209545000,
          49557045000,
          62231940000,
          55142850000,
          55993170000
         ]
        },
        {
         "hoverinfo": "x+y+name",
         "line": {
          "color": "blue"
         },
         "mode": "lines",
         "name": "Doanh thu dự đoán",
         "type": "scatter",
         "x": [
          "2022-01-31T00:00:00",
          "2022-02-28T00:00:00",
          "2022-03-31T00:00:00",
          "2022-04-30T00:00:00",
          "2022-05-31T00:00:00",
          "2022-06-30T00:00:00",
          "2022-07-31T00:00:00",
          "2022-08-31T00:00:00",
          "2022-09-30T00:00:00",
          "2022-10-31T00:00:00",
          "2022-11-30T00:00:00",
          "2022-12-31T00:00:00",
          "2023-01-31T00:00:00",
          "2023-02-28T00:00:00",
          "2023-03-31T00:00:00",
          "2023-04-30T00:00:00",
          "2023-05-31T00:00:00",
          "2023-06-30T00:00:00",
          "2023-07-31T00:00:00",
          "2023-08-31T00:00:00",
          "2023-09-30T00:00:00",
          "2023-10-31T00:00:00",
          "2023-11-30T00:00:00",
          "2023-12-31T00:00:00",
          "2024-01-31T00:00:00",
          "2024-02-29T00:00:00",
          "2024-03-31T00:00:00",
          "2024-04-30T00:00:00",
          "2024-05-31T00:00:00",
          "2024-06-30T00:00:00",
          "2024-07-31T00:00:00",
          "2024-08-31T00:00:00",
          "2024-09-30T00:00:00",
          "2024-10-31T00:00:00",
          "2024-11-30T00:00:00",
          "2024-12-31T00:00:00"
         ],
         "y": [
          5737407203.624817,
          58842837723.100365,
          69161969713.85286,
          63732536092.68379,
          56975539294.0152,
          56791662682.36299,
          67273281851.64926,
          56114523639.596085,
          60047220611.86571,
          75629272834.06097,
          67427415143.66997,
          66101017182.635895,
          4718653656.311249,
          45291995924.043304,
          57280293724.609825,
          53005455715.97159,
          44960466120.04371,
          47253162631.92392,
          56931916927.1207,
          47736159488.78451,
          49254523383.04296,
          65739570981.555595,
          57708012338.74721,
          56002938310.8929,
          3699282606.2013626,
          46441402334.63125,
          54272789875.3743,
          47097901815.14188,
          43538922454.75748,
          38954478597.133484,
          51503551932.63474,
          37965035700.21371,
          48260445449.6833,
          63766196694.13761,
          56919278387.11092,
          58259896455.44252
         ]
        },
        {
         "hoverinfo": "x+y+name",
         "line": {
          "color": "red"
         },
         "mode": "lines",
         "name": "Doanh thu dự báo 12 tháng tiếp theo",
         "type": "scatter",
         "x": [
          "2025-01-31T00:00:00",
          "2025-02-28T00:00:00",
          "2025-03-31T00:00:00",
          "2025-04-30T00:00:00",
          "2025-05-31T00:00:00",
          "2025-06-30T00:00:00",
          "2025-07-31T00:00:00",
          "2025-08-31T00:00:00",
          "2025-09-30T00:00:00",
          "2025-10-31T00:00:00",
          "2025-11-30T00:00:00",
          "2025-12-31T00:00:00"
         ],
         "y": [
          1000000000,
          39584936257.61753,
          48886039120.587166,
          42845177712.80804,
          37951391424.02091,
          35830160481.75725,
          47636566387.69831,
          35579876169.341606,
          42971577388.43498,
          58777449680.537704,
          51503564541.62637,
          51743202898.10739
         ]
        }
       ],
       "layout": {
        "height": 400,
        "legend": {
         "title": {
          "text": "Dữ liệu"
         }
        },
        "template": {
         "data": {
          "bar": [
           {
            "error_x": {
             "color": "#2a3f5f"
            },
            "error_y": {
             "color": "#2a3f5f"
            },
            "marker": {
             "line": {
              "color": "white",
              "width": 0.5
             },
             "pattern": {
              "fillmode": "overlay",
              "size": 10,
              "solidity": 0.2
             }
            },
            "type": "bar"
           }
          ],
          "barpolar": [
           {
            "marker": {
             "line": {
              "color": "white",
              "width": 0.5
             },
             "pattern": {
              "fillmode": "overlay",
              "size": 10,
              "solidity": 0.2
             }
            },
            "type": "barpolar"
           }
          ],
          "carpet": [
           {
            "aaxis": {
             "endlinecolor": "#2a3f5f",
             "gridcolor": "#C8D4E3",
             "linecolor": "#C8D4E3",
             "minorgridcolor": "#C8D4E3",
             "startlinecolor": "#2a3f5f"
            },
            "baxis": {
             "endlinecolor": "#2a3f5f",
             "gridcolor": "#C8D4E3",
             "linecolor": "#C8D4E3",
             "minorgridcolor": "#C8D4E3",
             "startlinecolor": "#2a3f5f"
            },
            "type": "carpet"
           }
          ],
          "choropleth": [
           {
            "colorbar": {
             "outlinewidth": 0,
             "ticks": ""
            },
            "type": "choropleth"
           }
          ],
          "contour": [
           {
            "colorbar": {
             "outlinewidth": 0,
             "ticks": ""
            },
            "colorscale": [
             [
              0,
              "#0d0887"
             ],
             [
              0.1111111111111111,
              "#46039f"
             ],
             [
              0.2222222222222222,
              "#7201a8"
             ],
             [
              0.3333333333333333,
              "#9c179e"
             ],
             [
              0.4444444444444444,
              "#bd3786"
             ],
             [
              0.5555555555555556,
              "#d8576b"
             ],
             [
              0.6666666666666666,
              "#ed7953"
             ],
             [
              0.7777777777777778,
              "#fb9f3a"
             ],
             [
              0.8888888888888888,
              "#fdca26"
             ],
             [
              1,
              "#f0f921"
             ]
            ],
            "type": "contour"
           }
          ],
          "contourcarpet": [
           {
            "colorbar": {
             "outlinewidth": 0,
             "ticks": ""
            },
            "type": "contourcarpet"
           }
          ],
          "heatmap": [
           {
            "colorbar": {
             "outlinewidth": 0,
             "ticks": ""
            },
            "colorscale": [
             [
              0,
              "#0d0887"
             ],
             [
              0.1111111111111111,
              "#46039f"
             ],
             [
              0.2222222222222222,
              "#7201a8"
             ],
             [
              0.3333333333333333,
              "#9c179e"
             ],
             [
              0.4444444444444444,
              "#bd3786"
             ],
             [
              0.5555555555555556,
              "#d8576b"
             ],
             [
              0.6666666666666666,
              "#ed7953"
             ],
             [
              0.7777777777777778,
              "#fb9f3a"
             ],
             [
              0.8888888888888888,
              "#fdca26"
             ],
             [
              1,
              "#f0f921"
             ]
            ],
            "type": "heatmap"
           }
          ],
          "heatmapgl": [
           {
            "colorbar": {
             "outlinewidth": 0,
             "ticks": ""
            },
            "colorscale": [
             [
              0,
              "#0d0887"
             ],
             [
              0.1111111111111111,
              "#46039f"
             ],
             [
              0.2222222222222222,
              "#7201a8"
             ],
             [
              0.3333333333333333,
              "#9c179e"
             ],
             [
              0.4444444444444444,
              "#bd3786"
             ],
             [
              0.5555555555555556,
              "#d8576b"
             ],
             [
              0.6666666666666666,
              "#ed7953"
             ],
             [
              0.7777777777777778,
              "#fb9f3a"
             ],
             [
              0.8888888888888888,
              "#fdca26"
             ],
             [
              1,
              "#f0f921"
             ]
            ],
            "type": "heatmapgl"
           }
          ],
          "histogram": [
           {
            "marker": {
             "pattern": {
              "fillmode": "overlay",
              "size": 10,
              "solidity": 0.2
             }
            },
            "type": "histogram"
           }
          ],
          "histogram2d": [
           {
            "colorbar": {
             "outlinewidth": 0,
             "ticks": ""
            },
            "colorscale": [
             [
              0,
              "#0d0887"
             ],
             [
              0.1111111111111111,
              "#46039f"
             ],
             [
              0.2222222222222222,
              "#7201a8"
             ],
             [
              0.3333333333333333,
              "#9c179e"
             ],
             [
              0.4444444444444444,
              "#bd3786"
             ],
             [
              0.5555555555555556,
              "#d8576b"
             ],
             [
              0.6666666666666666,
              "#ed7953"
             ],
             [
              0.7777777777777778,
              "#fb9f3a"
             ],
             [
              0.8888888888888888,
              "#fdca26"
             ],
             [
              1,
              "#f0f921"
             ]
            ],
            "type": "histogram2d"
           }
          ],
          "histogram2dcontour": [
           {
            "colorbar": {
             "outlinewidth": 0,
             "ticks": ""
            },
            "colorscale": [
             [
              0,
              "#0d0887"
             ],
             [
              0.1111111111111111,
              "#46039f"
             ],
             [
              0.2222222222222222,
              "#7201a8"
             ],
             [
              0.3333333333333333,
              "#9c179e"
             ],
             [
              0.4444444444444444,
              "#bd3786"
             ],
             [
              0.5555555555555556,
              "#d8576b"
             ],
             [
              0.6666666666666666,
              "#ed7953"
             ],
             [
              0.7777777777777778,
              "#fb9f3a"
             ],
             [
              0.8888888888888888,
              "#fdca26"
             ],
             [
              1,
              "#f0f921"
             ]
            ],
            "type": "histogram2dcontour"
           }
          ],
          "mesh3d": [
           {
            "colorbar": {
             "outlinewidth": 0,
             "ticks": ""
            },
            "type": "mesh3d"
           }
          ],
          "parcoords": [
           {
            "line": {
             "colorbar": {
              "outlinewidth": 0,
              "ticks": ""
             }
            },
            "type": "parcoords"
           }
          ],
          "pie": [
           {
            "automargin": true,
            "type": "pie"
           }
          ],
          "scatter": [
           {
            "fillpattern": {
             "fillmode": "overlay",
             "size": 10,
             "solidity": 0.2
            },
            "type": "scatter"
           }
          ],
          "scatter3d": [
           {
            "line": {
             "colorbar": {
              "outlinewidth": 0,
              "ticks": ""
             }
            },
            "marker": {
             "colorbar": {
              "outlinewidth": 0,
              "ticks": ""
             }
            },
            "type": "scatter3d"
           }
          ],
          "scattercarpet": [
           {
            "marker": {
             "colorbar": {
              "outlinewidth": 0,
              "ticks": ""
             }
            },
            "type": "scattercarpet"
           }
          ],
          "scattergeo": [
           {
            "marker": {
             "colorbar": {
              "outlinewidth": 0,
              "ticks": ""
             }
            },
            "type": "scattergeo"
           }
          ],
          "scattergl": [
           {
            "marker": {
             "colorbar": {
              "outlinewidth": 0,
              "ticks": ""
             }
            },
            "type": "scattergl"
           }
          ],
          "scattermapbox": [
           {
            "marker": {
             "colorbar": {
              "outlinewidth": 0,
              "ticks": ""
             }
            },
            "type": "scattermapbox"
           }
          ],
          "scatterpolar": [
           {
            "marker": {
             "colorbar": {
              "outlinewidth": 0,
              "ticks": ""
             }
            },
            "type": "scatterpolar"
           }
          ],
          "scatterpolargl": [
           {
            "marker": {
             "colorbar": {
              "outlinewidth": 0,
              "ticks": ""
             }
            },
            "type": "scatterpolargl"
           }
          ],
          "scatterternary": [
           {
            "marker": {
             "colorbar": {
              "outlinewidth": 0,
              "ticks": ""
             }
            },
            "type": "scatterternary"
           }
          ],
          "surface": [
           {
            "colorbar": {
             "outlinewidth": 0,
             "ticks": ""
            },
            "colorscale": [
             [
              0,
              "#0d0887"
             ],
             [
              0.1111111111111111,
              "#46039f"
             ],
             [
              0.2222222222222222,
              "#7201a8"
             ],
             [
              0.3333333333333333,
              "#9c179e"
             ],
             [
              0.4444444444444444,
              "#bd3786"
             ],
             [
              0.5555555555555556,
              "#d8576b"
             ],
             [
              0.6666666666666666,
              "#ed7953"
             ],
             [
              0.7777777777777778,
              "#fb9f3a"
             ],
             [
              0.8888888888888888,
              "#fdca26"
             ],
             [
              1,
              "#f0f921"
             ]
            ],
            "type": "surface"
           }
          ],
          "table": [
           {
            "cells": {
             "fill": {
              "color": "#EBF0F8"
             },
             "line": {
              "color": "white"
             }
            },
            "header": {
             "fill": {
              "color": "#C8D4E3"
             },
             "line": {
              "color": "white"
             }
            },
            "type": "table"
           }
          ]
         },
         "layout": {
          "annotationdefaults": {
           "arrowcolor": "#2a3f5f",
           "arrowhead": 0,
           "arrowwidth": 1
          },
          "autotypenumbers": "strict",
          "coloraxis": {
           "colorbar": {
            "outlinewidth": 0,
            "ticks": ""
           }
          },
          "colorscale": {
           "diverging": [
            [
             0,
             "#8e0152"
            ],
            [
             0.1,
             "#c51b7d"
            ],
            [
             0.2,
             "#de77ae"
            ],
            [
             0.3,
             "#f1b6da"
            ],
            [
             0.4,
             "#fde0ef"
            ],
            [
             0.5,
             "#f7f7f7"
            ],
            [
             0.6,
             "#e6f5d0"
            ],
            [
             0.7,
             "#b8e186"
            ],
            [
             0.8,
             "#7fbc41"
            ],
            [
             0.9,
             "#4d9221"
            ],
            [
             1,
             "#276419"
            ]
           ],
           "sequential": [
            [
             0,
             "#0d0887"
            ],
            [
             0.1111111111111111,
             "#46039f"
            ],
            [
             0.2222222222222222,
             "#7201a8"
            ],
            [
             0.3333333333333333,
             "#9c179e"
            ],
            [
             0.4444444444444444,
             "#bd3786"
            ],
            [
             0.5555555555555556,
             "#d8576b"
            ],
            [
             0.6666666666666666,
             "#ed7953"
            ],
            [
             0.7777777777777778,
             "#fb9f3a"
            ],
            [
             0.8888888888888888,
             "#fdca26"
            ],
            [
             1,
             "#f0f921"
            ]
           ],
           "sequentialminus": [
            [
             0,
             "#0d0887"
            ],
            [
             0.1111111111111111,
             "#46039f"
            ],
            [
             0.2222222222222222,
             "#7201a8"
            ],
            [
             0.3333333333333333,
             "#9c179e"
            ],
            [
             0.4444444444444444,
             "#bd3786"
            ],
            [
             0.5555555555555556,
             "#d8576b"
            ],
            [
             0.6666666666666666,
             "#ed7953"
            ],
            [
             0.7777777777777778,
             "#fb9f3a"
            ],
            [
             0.8888888888888888,
             "#fdca26"
            ],
            [
             1,
             "#f0f921"
            ]
           ]
          },
          "colorway": [
           "#636efa",
           "#EF553B",
           "#00cc96",
           "#ab63fa",
           "#FFA15A",
           "#19d3f3",
           "#FF6692",
           "#B6E880",
           "#FF97FF",
           "#FECB52"
          ],
          "font": {
           "color": "#2a3f5f"
          },
          "geo": {
           "bgcolor": "white",
           "lakecolor": "white",
           "landcolor": "white",
           "showlakes": true,
           "showland": true,
           "subunitcolor": "#C8D4E3"
          },
          "hoverlabel": {
           "align": "left"
          },
          "hovermode": "closest",
          "mapbox": {
           "style": "light"
          },
          "paper_bgcolor": "white",
          "plot_bgcolor": "white",
          "polar": {
           "angularaxis": {
            "gridcolor": "#EBF0F8",
            "linecolor": "#EBF0F8",
            "ticks": ""
           },
           "bgcolor": "white",
           "radialaxis": {
            "gridcolor": "#EBF0F8",
            "linecolor": "#EBF0F8",
            "ticks": ""
           }
          },
          "scene": {
           "xaxis": {
            "backgroundcolor": "white",
            "gridcolor": "#DFE8F3",
            "gridwidth": 2,
            "linecolor": "#EBF0F8",
            "showbackground": true,
            "ticks": "",
            "zerolinecolor": "#EBF0F8"
           },
           "yaxis": {
            "backgroundcolor": "white",
            "gridcolor": "#DFE8F3",
            "gridwidth": 2,
            "linecolor": "#EBF0F8",
            "showbackground": true,
            "ticks": "",
            "zerolinecolor": "#EBF0F8"
           },
           "zaxis": {
            "backgroundcolor": "white",
            "gridcolor": "#DFE8F3",
            "gridwidth": 2,
            "linecolor": "#EBF0F8",
            "showbackground": true,
            "ticks": "",
            "zerolinecolor": "#EBF0F8"
           }
          },
          "shapedefaults": {
           "line": {
            "color": "#2a3f5f"
           }
          },
          "ternary": {
           "aaxis": {
            "gridcolor": "#DFE8F3",
            "linecolor": "#A2B1C6",
            "ticks": ""
           },
           "baxis": {
            "gridcolor": "#DFE8F3",
            "linecolor": "#A2B1C6",
            "ticks": ""
           },
           "bgcolor": "white",
           "caxis": {
            "gridcolor": "#DFE8F3",
            "linecolor": "#A2B1C6",
            "ticks": ""
           }
          },
          "title": {
           "x": 0.05
          },
          "xaxis": {
           "automargin": true,
           "gridcolor": "#EBF0F8",
           "linecolor": "#EBF0F8",
           "ticks": "",
           "title": {
            "standoff": 15
           },
           "zerolinecolor": "#EBF0F8",
           "zerolinewidth": 2
          },
          "yaxis": {
           "automargin": true,
           "gridcolor": "#EBF0F8",
           "linecolor": "#EBF0F8",
           "ticks": "",
           "title": {
            "standoff": 15
           },
           "zerolinecolor": "#EBF0F8",
           "zerolinewidth": 2
          }
         }
        },
        "title": {
         "text": "Dự đoán doanh thu cho nhóm sản phẩm phần mềm"
        },
        "width": 1000,
        "xaxis": {
         "title": {
          "text": "Thời gian"
         }
        },
        "yaxis": {
         "title": {
          "text": "Doanh thu"
         }
        }
       }
      }
     },
     "metadata": {},
     "output_type": "display_data"
    }
   ],
   "source": [
    "import plotly.graph_objects as go\n",
    "\n",
    "# Tạo một figure\n",
    "fig = go.Figure()\n",
    "\n",
    "# Thêm dữ liệu thực tế (Doanh thu thực tế)\n",
    "fig.add_trace(go.Scatter(\n",
    "    x=monthly_data_pm['ds'],\n",
    "    y=actual_data_pm,\n",
    "    mode='lines',\n",
    "    name='Doanh thu thực tế',\n",
    "    line=dict(color='green'),\n",
    "    hoverinfo='x+y+name',  # Hiển thị x và y khi hover\n",
    "))\n",
    "\n",
    "# Thêm dữ liệu dự đoán (Doanh thu dự đoán)\n",
    "fig.add_trace(go.Scatter(\n",
    "    x=monthly_data_pm['ds'],\n",
    "    y=fitted_data_pm,\n",
    "    mode='lines',\n",
    "    name='Doanh thu dự đoán',\n",
    "    line=dict(color='blue'),\n",
    "    hoverinfo='x+y+name',\n",
    "))\n",
    "\n",
    "# Thêm dữ liệu dự báo (Doanh thu dự báo tương lai)\n",
    "fig.add_trace(go.Scatter(\n",
    "    x=forecast['ds'][len(monthly_data_pm):],\n",
    "    y=forecast_data_pm,\n",
    "    mode='lines',\n",
    "    name='Doanh thu dự báo 12 tháng tiếp theo',\n",
    "    line=dict(color='red'),\n",
    "    hoverinfo='x+y+name',\n",
    "))\n",
    "\n",
    "# Cập nhật layout\n",
    "fig.update_layout(\n",
    "    title=\"Mô hình dự đoán Prophet\",\n",
    "    xaxis_title=\"Thời gian\",\n",
    "    yaxis_title=\"Doanh thu\",\n",
    "    legend_title=\"Dữ liệu\",\n",
    "    template=\"plotly_white\"  # Bạn có thể thay đổi giao diện tại đây\n",
    ")\n",
    "\n",
    "# Hiển thị biểu đồ\n",
    "fig.update_layout(\n",
    "    title=\"Dự đoán doanh thu cho nhóm sản phẩm phần mềm\",\n",
    "    xaxis_title=\"Thời gian\",\n",
    "    yaxis_title=\"Doanh thu\",\n",
    "    legend_title=\"Dữ liệu\",\n",
    "    template=\"plotly_white\",\n",
    "    width=1000,   # Chiều rộng biểu đồ (px)\n",
    "    height=400   # Chiều cao biểu đồ (px)\n",
    ")\n"
   ]
  },
  {
   "cell_type": "code",
   "execution_count": 14,
   "metadata": {},
   "outputs": [
    {
     "name": "stdout",
     "output_type": "stream",
     "text": [
      "R-squared score for fitted data: 0.97\n"
     ]
    }
   ],
   "source": [
    "# Tính chỉ số R-squared để đánh giá mức độ khớp (fitted) của mô hình trên dữ liệu lịch sử\n",
    "r2_fitted_pm = 1 - np.sum((actual_data_pm - fitted_data_pm) ** 2) / np.sum((actual_data_pm - actual_data_pm.mean()) ** 2)\n",
    "\n",
    "# Hiển thị giá trị R-squared đã tính toán\n",
    "print(f\"R-squared score for fitted data: {r2_fitted_pm:.2f}\")\n"
   ]
  },
  {
   "cell_type": "markdown",
   "metadata": {},
   "source": [
    "### Dự đoán doanh thu cho nhóm sản phẩm phụ kiện"
   ]
  },
  {
   "cell_type": "markdown",
   "metadata": {},
   "source": [
    "***Phân rã chuỗi thời gian***"
   ]
  },
  {
   "cell_type": "code",
   "execution_count": null,
   "metadata": {},
   "outputs": [
    {
     "data": {
      "image/png": "[encoded data removed]",
      "text/plain": [
       "<Figure size 640x480 with 4 Axes>"
      ]
     },
     "metadata": {},
     "output_type": "display_data"
    }
   ],
   "source": [
    "import statsmodels.api as sm\n",
    "\n",
    "ts_pk = df_pk_monthly.set_index('matg')['doanhthu']\n",
    "res_add = sm.tsa.seasonal_decompose(ts_pk, model='additive', period=12)\n",
    "res_add.plot()\n",
    "plt.show()\n"
   ]
  },
  {
   "cell_type": "markdown",
   "metadata": {},
   "source": [
    "***Chuẩn bị dữ liệu cho huấn luyện mô hình***"
   ]
  },
  {
   "cell_type": "code",
   "execution_count": null,
   "metadata": {},
   "outputs": [
    {
     "data": {
      "text/html": [
       "<div>\n",
       "<style scoped>\n",
       "    .dataframe tbody tr th:only-of-type {\n",
       "        vertical-align: middle;\n",
       "    }\n",
       "\n",
       "    .dataframe tbody tr th {\n",
       "        vertical-align: top;\n",
       "    }\n",
       "\n",
       "    .dataframe thead th {\n",
       "        text-align: right;\n",
       "    }\n",
       "</style>\n",
       "<table border=\"1\" class=\"dataframe\">\n",
       "  <thead>\n",
       "    <tr style=\"text-align: right;\">\n",
       "      <th></th>\n",
       "      <th>ds</th>\n",
       "      <th>y</th>\n",
       "    </tr>\n",
       "  </thead>\n",
       "  <tbody>\n",
       "    <tr>\n",
       "      <th>0</th>\n",
       "      <td>2022-01-31</td>\n",
       "      <td>3.875355e+09</td>\n",
       "    </tr>\n",
       "    <tr>\n",
       "      <th>1</th>\n",
       "      <td>2022-02-28</td>\n",
       "      <td>1.687497e+10</td>\n",
       "    </tr>\n",
       "    <tr>\n",
       "      <th>2</th>\n",
       "      <td>2022-03-31</td>\n",
       "      <td>2.299172e+10</td>\n",
       "    </tr>\n",
       "    <tr>\n",
       "      <th>3</th>\n",
       "      <td>2022-04-30</td>\n",
       "      <td>2.252974e+10</td>\n",
       "    </tr>\n",
       "    <tr>\n",
       "      <th>4</th>\n",
       "      <td>2022-05-31</td>\n",
       "      <td>2.058302e+10</td>\n",
       "    </tr>\n",
       "  </tbody>\n",
       "</table>\n",
       "</div>"
      ],
      "text/plain": [
       "          ds             y\n",
       "0 2022-01-31  3.875355e+09\n",
       "1 2022-02-28  1.687497e+10\n",
       "2 2022-03-31  2.299172e+10\n",
       "3 2022-04-30  2.252974e+10\n",
       "4 2022-05-31  2.058302e+10"
      ]
     },
     "execution_count": 16,
     "metadata": {},
     "output_type": "execute_result"
    }
   ],
   "source": [
    "\n",
    "# Đổi tên các cột để phù hợp với yêu cầu của Prophet:\n",
    "# 'Order_Date' đổi thành 'ds' và 'Sales' đổi thành 'y' (giá trị cần dự báo)\n",
    "monthly_data_pk = df_pk_monthly.rename(columns={'matg': 'ds', 'doanhthu': 'y'})\n",
    "\n",
    "# Hiển thị 5 dòng đầu của dữ liệu đã xử lý\n",
    "monthly_data_pk.head(5)"
   ]
  },
  {
   "cell_type": "markdown",
   "metadata": {},
   "source": [
    "***Huấn luyện mô hình***"
   ]
  },
  {
   "cell_type": "code",
   "execution_count": null,
   "metadata": {},
   "outputs": [
    {
     "name": "stderr",
     "output_type": "stream",
     "text": [
      "09:48:58 - cmdstanpy - INFO - Chain [1] start processing\n",
      "09:48:58 - cmdstanpy - INFO - Chain [1] done processing\n"
     ]
    }
   ],
   "source": [
    "from prophet import Prophet\n",
    "\n",
    "# Tạo DataFrame chứa ngày lễ và ảnh hưởng chiến dịch\n",
    "holidays = pd.DataFrame({\n",
    "  'holiday': ['Tet2022', 'ChuyenDoiSo2022', 'Tet2023', 'ChuyenDoiSo2023', 'Tet2024', 'ChuyenDoiSo2024'],\n",
    "  'ds': pd.to_datetime(['2022-02-01', '2022-10-10'\n",
    "                         '2023-01-22', '2023-10-10', \n",
    "                         '2024-02-10', '2024-10-10']), \n",
    "  'lower_window': [-7, -7, -7, -7, -7, -7],  # Ảnh hưởng trước ngày lễ (7 ngày trước Tết và ngày 10-10)\n",
    "  'upper_window': [7, 1, 7, 1, 7, 1],        # Ảnh hưởng sau ngày lễ (7 ngày sau Tết, 1 ngày sau ngày 10-10)\n",
    "})\n",
    "\n",
    "holidays['ds'] = pd.to_datetime(holidays['ds'])  # Chuyển đổi thuộc tính thời gian của ngày lễ thành datetime\n",
    "\n",
    "# Huấn luyện mô hình Prophet\n",
    "model = Prophet(holidays=holidays, yearly_seasonality=True) \n",
    "model.fit(monthly_data_pk)\n",
    "\n",
    "# Tạo một DataFrame mới chứa các mốc thời gian lịch sử và tương lai (12 tháng tiếp theo).\n",
    "future = model.make_future_dataframe(periods=12, freq='M')\n",
    "\n",
    "# Dự báo giá trị tương lai dựa trên mô hình Prophet đã huấn luyện\n",
    "forecast = model.predict(future)\n",
    "forecast['yhat'] = forecast['yhat'].apply(lambda x: max(x, 1000000000))\n",
    "# Lấy doanh thu thực tế trong dữ liệu lịch sử\n",
    "actual_data_pk = monthly_data_pk['y']\n",
    "\n",
    "# Lấy giá trị dự báo mà Prophet đã khớp trên dữ liệu lịch sử (fitted values)\n",
    "fitted_data_pk = forecast['yhat'][:len(monthly_data_pk)]\n",
    "\n",
    "# Lấy giá trị dự báo cho 12 tháng tiếp theo (giá trị tương lai)\n",
    "forecast_data_pk = forecast['yhat'][len(monthly_data_pk):]\n"
   ]
  },
  {
   "cell_type": "markdown",
   "metadata": {},
   "source": [
    "***Trực quan hóa kết quả dự báo***"
   ]
  },
  {
   "cell_type": "code",
   "execution_count": 28,
   "metadata": {},
   "outputs": [
    {
     "data": {
      "application/vnd.plotly.v1+json": {
       "config": {
        "plotlyServerURL": "https://plot.ly"
       },
       "data": [
        {
         "hoverinfo": "x+y+name",
         "line": {
          "color": "green"
         },
         "mode": "lines",
         "name": "Doanh thu thực tế",
         "type": "scatter",
         "x": [
          "2022-01-31T00:00:00",
          "2022-02-28T00:00:00",
          "2022-03-31T00:00:00",
          "2022-04-30T00:00:00",
          "2022-05-31T00:00:00",
          "2022-06-30T00:00:00",
          "2022-07-31T00:00:00",
          "2022-08-31T00:00:00",
          "2022-09-30T00:00:00",
          "2022-10-31T00:00:00",
          "2022-11-30T00:00:00",
          "2022-12-31T00:00:00",
          "2023-01-31T00:00:00",
          "2023-02-28T00:00:00",
          "2023-03-31T00:00:00",
          "2023-04-30T00:00:00",
          "2023-05-31T00:00:00",
          "2023-06-30T00:00:00",
          "2023-07-31T00:00:00",
          "2023-08-31T00:00:00",
          "2023-09-30T00:00:00",
          "2023-10-31T00:00:00",
          "2023-11-30T00:00:00",
          "2023-12-31T00:00:00",
          "2024-01-31T00:00:00",
          "2024-02-29T00:00:00",
          "2024-03-31T00:00:00",
          "2024-04-30T00:00:00",
          "2024-05-31T00:00:00",
          "2024-06-30T00:00:00",
          "2024-07-31T00:00:00",
          "2024-08-31T00:00:00",
          "2024-09-30T00:00:00",
          "2024-10-31T00:00:00",
          "2024-11-30T00:00:00",
          "2024-12-31T00:00:00"
         ],
         "y": [
          3875355000,
          16874970000,
          22991715000,
          22529745000,
          20583015000,
          9742935000,
          21445380000,
          16322310000,
          18217335000,
          23024295000,
          19219980000,
          21219180000,
          3233775000,
          15411675000,
          19961055000,
          16861650000,
          17862795000,
          8043690000,
          17648130000,
          12634185000,
          14320515000,
          22280235000,
          18426390000,
          16684170000,
          3743130000,
          14203170000,
          24520950000,
          16010985000,
          17273715000,
          10693440000,
          19704000000,
          12887655000,
          15978855000,
          18963690000,
          18358440000,
          17023245000
         ]
        },
        {
         "hoverinfo": "x+y+name",
         "line": {
          "color": "blue"
         },
         "mode": "lines",
         "name": "Doanh thu dự đoán",
         "type": "scatter",
         "x": [
          "2022-01-31T00:00:00",
          "2022-02-28T00:00:00",
          "2022-03-31T00:00:00",
          "2022-04-30T00:00:00",
          "2022-05-31T00:00:00",
          "2022-06-30T00:00:00",
          "2022-07-31T00:00:00",
          "2022-08-31T00:00:00",
          "2022-09-30T00:00:00",
          "2022-10-31T00:00:00",
          "2022-11-30T00:00:00",
          "2022-12-31T00:00:00",
          "2023-01-31T00:00:00",
          "2023-02-28T00:00:00",
          "2023-03-31T00:00:00",
          "2023-04-30T00:00:00",
          "2023-05-31T00:00:00",
          "2023-06-30T00:00:00",
          "2023-07-31T00:00:00",
          "2023-08-31T00:00:00",
          "2023-09-30T00:00:00",
          "2023-10-31T00:00:00",
          "2023-11-30T00:00:00",
          "2023-12-31T00:00:00",
          "2024-01-31T00:00:00",
          "2024-02-29T00:00:00",
          "2024-03-31T00:00:00",
          "2024-04-30T00:00:00",
          "2024-05-31T00:00:00",
          "2024-06-30T00:00:00",
          "2024-07-31T00:00:00",
          "2024-08-31T00:00:00",
          "2024-09-30T00:00:00",
          "2024-10-31T00:00:00",
          "2024-11-30T00:00:00",
          "2024-12-31T00:00:00"
         ],
         "y": [
          3874403831.4000263,
          17323572403.728813,
          23708149187.72589,
          20418026379.733624,
          20454111885.860023,
          10882917899.404716,
          20973855819.759747,
          15392164294.276142,
          17293539221.53485,
          22912195844.57383,
          19655699867.29017,
          19233221918.02393,
          3740205908.6152515,
          15300034089.142172,
          20077786786.826126,
          19169109841.62617,
          19004955827.378765,
          8341608606.332783,
          18819032810.01032,
          13838127691.14019,
          15171382000.837751,
          22258688164.442894,
          17849388600.884705,
          17693361906.34633,
          3231180854.6898193,
          13856833311.434204,
          23677103492.851536,
          15811805522.66081,
          16256213666.719152,
          9259655657.329964,
          19010178939.59713,
          12620714771.390862,
          16060914924.492002,
          19103755670.585686,
          18501115274.222008,
          17998902993.91996
         ]
        },
        {
         "hoverinfo": "x+y+name",
         "line": {
          "color": "red"
         },
         "mode": "lines",
         "name": "Doanh thu dự báo 12 tháng tiếp theo",
         "type": "scatter",
         "x": [
          "2025-01-31T00:00:00",
          "2025-02-28T00:00:00",
          "2025-03-31T00:00:00",
          "2025-04-30T00:00:00",
          "2025-05-31T00:00:00",
          "2025-06-30T00:00:00",
          "2025-07-31T00:00:00",
          "2025-08-31T00:00:00",
          "2025-09-30T00:00:00",
          "2025-10-31T00:00:00",
          "2025-11-30T00:00:00",
          "2025-12-31T00:00:00"
         ],
         "y": [
          1000000000,
          13425408333.888851,
          21578788942.54018,
          16053702695.65617,
          16380171196.413294,
          8158446532.370172,
          18138037953.55441,
          12217723848.019657,
          14948356419.998356,
          19349603761.44818,
          17489291140.091923,
          17082581004.156248
         ]
        }
       ],
       "layout": {
        "height": 400,
        "legend": {
         "title": {
          "text": "Dữ liệu"
         }
        },
        "template": {
         "data": {
          "bar": [
           {
            "error_x": {
             "color": "#2a3f5f"
            },
            "error_y": {
             "color": "#2a3f5f"
            },
            "marker": {
             "line": {
              "color": "white",
              "width": 0.5
             },
             "pattern": {
              "fillmode": "overlay",
              "size": 10,
              "solidity": 0.2
             }
            },
            "type": "bar"
           }
          ],
          "barpolar": [
           {
            "marker": {
             "line": {
              "color": "white",
              "width": 0.5
             },
             "pattern": {
              "fillmode": "overlay",
              "size": 10,
              "solidity": 0.2
             }
            },
            "type": "barpolar"
           }
          ],
          "carpet": [
           {
            "aaxis": {
             "endlinecolor": "#2a3f5f",
             "gridcolor": "#C8D4E3",
             "linecolor": "#C8D4E3",
             "minorgridcolor": "#C8D4E3",
             "startlinecolor": "#2a3f5f"
            },
            "baxis": {
             "endlinecolor": "#2a3f5f",
             "gridcolor": "#C8D4E3",
             "linecolor": "#C8D4E3",
             "minorgridcolor": "#C8D4E3",
             "startlinecolor": "#2a3f5f"
            },
            "type": "carpet"
           }
          ],
          "choropleth": [
           {
            "colorbar": {
             "outlinewidth": 0,
             "ticks": ""
            },
            "type": "choropleth"
           }
          ],
          "contour": [
           {
            "colorbar": {
             "outlinewidth": 0,
             "ticks": ""
            },
            "colorscale": [
             [
              0,
              "#0d0887"
             ],
             [
              0.1111111111111111,
              "#46039f"
             ],
             [
              0.2222222222222222,
              "#7201a8"
             ],
             [
              0.3333333333333333,
              "#9c179e"
             ],
             [
              0.4444444444444444,
              "#bd3786"
             ],
             [
              0.5555555555555556,
              "#d8576b"
             ],
             [
              0.6666666666666666,
              "#ed7953"
             ],
             [
              0.7777777777777778,
              "#fb9f3a"
             ],
             [
              0.8888888888888888,
              "#fdca26"
             ],
             [
              1,
              "#f0f921"
             ]
            ],
            "type": "contour"
           }
          ],
          "contourcarpet": [
           {
            "colorbar": {
             "outlinewidth": 0,
             "ticks": ""
            },
            "type": "contourcarpet"
           }
          ],
          "heatmap": [
           {
            "colorbar": {
             "outlinewidth": 0,
             "ticks": ""
            },
            "colorscale": [
             [
              0,
              "#0d0887"
             ],
             [
              0.1111111111111111,
              "#46039f"
             ],
             [
              0.2222222222222222,
              "#7201a8"
             ],
             [
              0.3333333333333333,
              "#9c179e"
             ],
             [
              0.4444444444444444,
              "#bd3786"
             ],
             [
              0.5555555555555556,
              "#d8576b"
             ],
             [
              0.6666666666666666,
              "#ed7953"
             ],
             [
              0.7777777777777778,
              "#fb9f3a"
             ],
             [
              0.8888888888888888,
              "#fdca26"
             ],
             [
              1,
              "#f0f921"
             ]
            ],
            "type": "heatmap"
           }
          ],
          "heatmapgl": [
           {
            "colorbar": {
             "outlinewidth": 0,
             "ticks": ""
            },
            "colorscale": [
             [
              0,
              "#0d0887"
             ],
             [
              0.1111111111111111,
              "#46039f"
             ],
             [
              0.2222222222222222,
              "#7201a8"
             ],
             [
              0.3333333333333333,
              "#9c179e"
             ],
             [
              0.4444444444444444,
              "#bd3786"
             ],
             [
              0.5555555555555556,
              "#d8576b"
             ],
             [
              0.6666666666666666,
              "#ed7953"
             ],
             [
              0.7777777777777778,
              "#fb9f3a"
             ],
             [
              0.8888888888888888,
              "#fdca26"
             ],
             [
              1,
              "#f0f921"
             ]
            ],
            "type": "heatmapgl"
           }
          ],
          "histogram": [
           {
            "marker": {
             "pattern": {
              "fillmode": "overlay",
              "size": 10,
              "solidity": 0.2
             }
            },
            "type": "histogram"
           }
          ],
          "histogram2d": [
           {
            "colorbar": {
             "outlinewidth": 0,
             "ticks": ""
            },
            "colorscale": [
             [
              0,
              "#0d0887"
             ],
             [
              0.1111111111111111,
              "#46039f"
             ],
             [
              0.2222222222222222,
              "#7201a8"
             ],
             [
              0.3333333333333333,
              "#9c179e"
             ],
             [
              0.4444444444444444,
              "#bd3786"
             ],
             [
              0.5555555555555556,
              "#d8576b"
             ],
             [
              0.6666666666666666,
              "#ed7953"
             ],
             [
              0.7777777777777778,
              "#fb9f3a"
             ],
             [
              0.8888888888888888,
              "#fdca26"
             ],
             [
              1,
              "#f0f921"
             ]
            ],
            "type": "histogram2d"
           }
          ],
          "histogram2dcontour": [
           {
            "colorbar": {
             "outlinewidth": 0,
             "ticks": ""
            },
            "colorscale": [
             [
              0,
              "#0d0887"
             ],
             [
              0.1111111111111111,
              "#46039f"
             ],
             [
              0.2222222222222222,
              "#7201a8"
             ],
             [
              0.3333333333333333,
              "#9c179e"
             ],
             [
              0.4444444444444444,
              "#bd3786"
             ],
             [
              0.5555555555555556,
              "#d8576b"
             ],
             [
              0.6666666666666666,
              "#ed7953"
             ],
             [
              0.7777777777777778,
              "#fb9f3a"
             ],
             [
              0.8888888888888888,
              "#fdca26"
             ],
             [
              1,
              "#f0f921"
             ]
            ],
            "type": "histogram2dcontour"
           }
          ],
          "mesh3d": [
           {
            "colorbar": {
             "outlinewidth": 0,
             "ticks": ""
            },
            "type": "mesh3d"
           }
          ],
          "parcoords": [
           {
            "line": {
             "colorbar": {
              "outlinewidth": 0,
              "ticks": ""
             }
            },
            "type": "parcoords"
           }
          ],
          "pie": [
           {
            "automargin": true,
            "type": "pie"
           }
          ],
          "scatter": [
           {
            "fillpattern": {
             "fillmode": "overlay",
             "size": 10,
             "solidity": 0.2
            },
            "type": "scatter"
           }
          ],
          "scatter3d": [
           {
            "line": {
             "colorbar": {
              "outlinewidth": 0,
              "ticks": ""
             }
            },
            "marker": {
             "colorbar": {
              "outlinewidth": 0,
              "ticks": ""
             }
            },
            "type": "scatter3d"
           }
          ],
          "scattercarpet": [
           {
            "marker": {
             "colorbar": {
              "outlinewidth": 0,
              "ticks": ""
             }
            },
            "type": "scattercarpet"
           }
          ],
          "scattergeo": [
           {
            "marker": {
             "colorbar": {
              "outlinewidth": 0,
              "ticks": ""
             }
            },
            "type": "scattergeo"
           }
          ],
          "scattergl": [
           {
            "marker": {
             "colorbar": {
              "outlinewidth": 0,
              "ticks": ""
             }
            },
            "type": "scattergl"
           }
          ],
          "scattermapbox": [
           {
            "marker": {
             "colorbar": {
              "outlinewidth": 0,
              "ticks": ""
             }
            },
            "type": "scattermapbox"
           }
          ],
          "scatterpolar": [
           {
            "marker": {
             "colorbar": {
              "outlinewidth": 0,
              "ticks": ""
             }
            },
            "type": "scatterpolar"
           }
          ],
          "scatterpolargl": [
           {
            "marker": {
             "colorbar": {
              "outlinewidth": 0,
              "ticks": ""
             }
            },
            "type": "scatterpolargl"
           }
          ],
          "scatterternary": [
           {
            "marker": {
             "colorbar": {
              "outlinewidth": 0,
              "ticks": ""
             }
            },
            "type": "scatterternary"
           }
          ],
          "surface": [
           {
            "colorbar": {
             "outlinewidth": 0,
             "ticks": ""
            },
            "colorscale": [
             [
              0,
              "#0d0887"
             ],
             [
              0.1111111111111111,
              "#46039f"
             ],
             [
              0.2222222222222222,
              "#7201a8"
             ],
             [
              0.3333333333333333,
              "#9c179e"
             ],
             [
              0.4444444444444444,
              "#bd3786"
             ],
             [
              0.5555555555555556,
              "#d8576b"
             ],
             [
              0.6666666666666666,
              "#ed7953"
             ],
             [
              0.7777777777777778,
              "#fb9f3a"
             ],
             [
              0.8888888888888888,
              "#fdca26"
             ],
             [
              1,
              "#f0f921"
             ]
            ],
            "type": "surface"
           }
          ],
          "table": [
           {
            "cells": {
             "fill": {
              "color": "#EBF0F8"
             },
             "line": {
              "color": "white"
             }
            },
            "header": {
             "fill": {
              "color": "#C8D4E3"
             },
             "line": {
              "color": "white"
             }
            },
            "type": "table"
           }
          ]
         },
         "layout": {
          "annotationdefaults": {
           "arrowcolor": "#2a3f5f",
           "arrowhead": 0,
           "arrowwidth": 1
          },
          "autotypenumbers": "strict",
          "coloraxis": {
           "colorbar": {
            "outlinewidth": 0,
            "ticks": ""
           }
          },
          "colorscale": {
           "diverging": [
            [
             0,
             "#8e0152"
            ],
            [
             0.1,
             "#c51b7d"
            ],
            [
             0.2,
             "#de77ae"
            ],
            [
             0.3,
             "#f1b6da"
            ],
            [
             0.4,
             "#fde0ef"
            ],
            [
             0.5,
             "#f7f7f7"
            ],
            [
             0.6,
             "#e6f5d0"
            ],
            [
             0.7,
             "#b8e186"
            ],
            [
             0.8,
             "#7fbc41"
            ],
            [
             0.9,
             "#4d9221"
            ],
            [
             1,
             "#276419"
            ]
           ],
           "sequential": [
            [
             0,
             "#0d0887"
            ],
            [
             0.1111111111111111,
             "#46039f"
            ],
            [
             0.2222222222222222,
             "#7201a8"
            ],
            [
             0.3333333333333333,
             "#9c179e"
            ],
            [
             0.4444444444444444,
             "#bd3786"
            ],
            [
             0.5555555555555556,
             "#d8576b"
            ],
            [
             0.6666666666666666,
             "#ed7953"
            ],
            [
             0.7777777777777778,
             "#fb9f3a"
            ],
            [
             0.8888888888888888,
             "#fdca26"
            ],
            [
             1,
             "#f0f921"
            ]
           ],
           "sequentialminus": [
            [
             0,
             "#0d0887"
            ],
            [
             0.1111111111111111,
             "#46039f"
            ],
            [
             0.2222222222222222,
             "#7201a8"
            ],
            [
             0.3333333333333333,
             "#9c179e"
            ],
            [
             0.4444444444444444,
             "#bd3786"
            ],
            [
             0.5555555555555556,
             "#d8576b"
            ],
            [
             0.6666666666666666,
             "#ed7953"
            ],
            [
             0.7777777777777778,
             "#fb9f3a"
            ],
            [
             0.8888888888888888,
             "#fdca26"
            ],
            [
             1,
             "#f0f921"
            ]
           ]
          },
          "colorway": [
           "#636efa",
           "#EF553B",
           "#00cc96",
           "#ab63fa",
           "#FFA15A",
           "#19d3f3",
           "#FF6692",
           "#B6E880",
           "#FF97FF",
           "#FECB52"
          ],
          "font": {
           "color": "#2a3f5f"
          },
          "geo": {
           "bgcolor": "white",
           "lakecolor": "white",
           "landcolor": "white",
           "showlakes": true,
           "showland": true,
           "subunitcolor": "#C8D4E3"
          },
          "hoverlabel": {
           "align": "left"
          },
          "hovermode": "closest",
          "mapbox": {
           "style": "light"
          },
          "paper_bgcolor": "white",
          "plot_bgcolor": "white",
          "polar": {
           "angularaxis": {
            "gridcolor": "#EBF0F8",
            "linecolor": "#EBF0F8",
            "ticks": ""
           },
           "bgcolor": "white",
           "radialaxis": {
            "gridcolor": "#EBF0F8",
            "linecolor": "#EBF0F8",
            "ticks": ""
           }
          },
          "scene": {
           "xaxis": {
            "backgroundcolor": "white",
            "gridcolor": "#DFE8F3",
            "gridwidth": 2,
            "linecolor": "#EBF0F8",
            "showbackground": true,
            "ticks": "",
            "zerolinecolor": "#EBF0F8"
           },
           "yaxis": {
            "backgroundcolor": "white",
            "gridcolor": "#DFE8F3",
            "gridwidth": 2,
            "linecolor": "#EBF0F8",
            "showbackground": true,
            "ticks": "",
            "zerolinecolor": "#EBF0F8"
           },
           "zaxis": {
            "backgroundcolor": "white",
            "gridcolor": "#DFE8F3",
            "gridwidth": 2,
            "linecolor": "#EBF0F8",
            "showbackground": true,
            "ticks": "",
            "zerolinecolor": "#EBF0F8"
           }
          },
          "shapedefaults": {
           "line": {
            "color": "#2a3f5f"
           }
          },
          "ternary": {
           "aaxis": {
            "gridcolor": "#DFE8F3",
            "linecolor": "#A2B1C6",
            "ticks": ""
           },
           "baxis": {
            "gridcolor": "#DFE8F3",
            "linecolor": "#A2B1C6",
            "ticks": ""
           },
           "bgcolor": "white",
           "caxis": {
            "gridcolor": "#DFE8F3",
            "linecolor": "#A2B1C6",
            "ticks": ""
           }
          },
          "title": {
           "x": 0.05
          },
          "xaxis": {
           "automargin": true,
           "gridcolor": "#EBF0F8",
           "linecolor": "#EBF0F8",
           "ticks": "",
           "title": {
            "standoff": 15
           },
           "zerolinecolor": "#EBF0F8",
           "zerolinewidth": 2
          },
          "yaxis": {
           "automargin": true,
           "gridcolor": "#EBF0F8",
           "linecolor": "#EBF0F8",
           "ticks": "",
           "title": {
            "standoff": 15
           },
           "zerolinecolor": "#EBF0F8",
           "zerolinewidth": 2
          }
         }
        },
        "title": {
         "text": "Dự đoán doanh thu cho nhóm sản phẩm phụ kiện"
        },
        "width": 1000,
        "xaxis": {
         "title": {
          "text": "Thời gian"
         }
        },
        "yaxis": {
         "title": {
          "text": "Doanh thu"
         }
        }
       }
      }
     },
     "metadata": {},
     "output_type": "display_data"
    }
   ],
   "source": [
    "import plotly.graph_objects as go\n",
    "\n",
    "# Tạo một figure\n",
    "fig = go.Figure()\n",
    "\n",
    "# Thêm dữ liệu thực tế (Doanh thu thực tế)\n",
    "fig.add_trace(go.Scatter(\n",
    "    x=monthly_data_pk['ds'],\n",
    "    y=actual_data_pk,\n",
    "    mode='lines',\n",
    "    name='Doanh thu thực tế',\n",
    "    line=dict(color='green'),\n",
    "    hoverinfo='x+y+name',  # Hiển thị x và y khi hover\n",
    "))\n",
    "\n",
    "# Thêm dữ liệu dự đoán (Doanh thu dự đoán)\n",
    "fig.add_trace(go.Scatter(\n",
    "    x=monthly_data_pk['ds'],\n",
    "    y=fitted_data_pk,\n",
    "    mode='lines',\n",
    "    name='Doanh thu dự đoán',\n",
    "    line=dict(color='blue'),\n",
    "    hoverinfo='x+y+name',\n",
    "))\n",
    "\n",
    "# Thêm dữ liệu dự báo (Doanh thu dự báo tương lai)\n",
    "fig.add_trace(go.Scatter(\n",
    "    x=forecast['ds'][len(monthly_data_pk):],\n",
    "    y=forecast_data_pk,\n",
    "    mode='lines',\n",
    "    name='Doanh thu dự báo 12 tháng tiếp theo',\n",
    "    line=dict(color='red'),\n",
    "    hoverinfo='x+y+name',\n",
    "))\n",
    "\n",
    "# Hiển thị biểu đồ\n",
    "fig.update_layout(\n",
    "    title=\"Dự đoán doanh thu cho nhóm sản phẩm phụ kiện\",\n",
    "    xaxis_title=\"Thời gian\",\n",
    "    yaxis_title=\"Doanh thu\",\n",
    "    legend_title=\"Dữ liệu\",\n",
    "    template=\"plotly_white\",\n",
    "    width=1000,   # Chiều rộng biểu đồ (px)\n",
    "    height=400   # Chiều cao biểu đồ (px)\n",
    ")\n",
    "\n",
    "\n",
    "# Hiển thị biểu đồ\n",
    "fig.show()\n"
   ]
  },
  {
   "cell_type": "markdown",
   "metadata": {},
   "source": [
    "### Đánh giá mô hình dự báo"
   ]
  },
  {
   "cell_type": "code",
   "execution_count": 31,
   "metadata": {},
   "outputs": [
    {
     "name": "stdout",
     "output_type": "stream",
     "text": [
      "R² score phụ kiện: 0.9704\n",
      "MAE phụ kiện: 704,873,565\n"
     ]
    }
   ],
   "source": [
    "from sklearn.metrics import r2_score, mean_absolute_error, mean_squared_error\n",
    "import numpy as np\n",
    "\n",
    "# So sánh giữa dữ liệu thực tế và dữ liệu mô hình đã khớp (fitted)\n",
    "y_true = actual_data_pk.values\n",
    "y_pred = fitted_data_pk.values\n",
    "\n",
    "# Tính R², MAE, RMSE\n",
    "r2 = r2_score(y_true, y_pred)\n",
    "mae = mean_absolute_error(y_true, y_pred)\n",
    "rmse = np.sqrt(mean_squared_error(y_true, y_pred))\n",
    "\n",
    "# In kết quả đánh giá\n",
    "print(f\"R² score phụ kiện: {r2:.4f}\")\n",
    "print(f\"MAE phụ kiện: {mae:,.0f}\")"
   ]
  },
  {
   "cell_type": "code",
   "execution_count": 32,
   "metadata": {},
   "outputs": [
    {
     "name": "stdout",
     "output_type": "stream",
     "text": [
      "R² score phần mềm: 0.9662\n",
      "MAE phần mềm: 2,563,937,444\n"
     ]
    }
   ],
   "source": [
    "from sklearn.metrics import r2_score, mean_absolute_error, mean_squared_error\n",
    "import numpy as np\n",
    "\n",
    "# So sánh giữa dữ liệu thực tế và dữ liệu mô hình đã khớp (fitted)\n",
    "y_true = actual_data_pm.values\n",
    "y_pred = fitted_data_pm.values\n",
    "\n",
    "# Tính R², MAE, RMSE\n",
    "r2 = r2_score(y_true, y_pred)\n",
    "mae = mean_absolute_error(y_true, y_pred)\n",
    "rmse = np.sqrt(mean_squared_error(y_true, y_pred))\n",
    "\n",
    "# In kết quả đánh giá\n",
    "print(f\"R² score phần mềm: {r2:.4f}\")\n",
    "print(f\"MAE phần mềm: {mae:,.0f}\")"
   ]
  },
  {
   "cell_type": "code",
   "execution_count": 33,
   "metadata": {},
   "outputs": [
    {
     "name": "stdout",
     "output_type": "stream",
     "text": [
      "R² score máy tính: 0.9457\n",
      "MAE máy tính: 816,323,352\n"
     ]
    }
   ],
   "source": [
    "from sklearn.metrics import r2_score, mean_absolute_error, mean_squared_error\n",
    "import numpy as np\n",
    "\n",
    "# So sánh giữa dữ liệu thực tế và dữ liệu mô hình đã khớp (fitted)\n",
    "y_true = actual_data_mt.values\n",
    "y_pred = fitted_data_mt.values\n",
    "\n",
    "# Tính R², MAE, RMSE\n",
    "r2 = r2_score(y_true, y_pred)\n",
    "mae = mean_absolute_error(y_true, y_pred)\n",
    "rmse = np.sqrt(mean_squared_error(y_true, y_pred))\n",
    "\n",
    "# In kết quả đánh giá\n",
    "print(f\"R² score máy tính: {r2:.4f}\")\n",
    "print(f\"MAE máy tính: {mae:,.0f}\")"
   ]
  }
 ],
 "metadata": {
  "kernelspec": {
   "display_name": "base",
   "language": "python",
   "name": "python3"
  },
  "language_info": {
   "codemirror_mode": {
    "name": "ipython",
    "version": 3
   },
   "file_extension": ".py",
   "mimetype": "text/x-python",
   "name": "python",
   "nbconvert_exporter": "python",
   "pygments_lexer": "ipython3",
   "version": "3.11.4"
  }
 },
 "nbformat": 4,
 "nbformat_minor": 2
}
