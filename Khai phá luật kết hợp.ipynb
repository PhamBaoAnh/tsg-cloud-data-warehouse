{
 "cells": [
  {
   "cell_type": "markdown",
   "metadata": {},
   "source": [
    "<h2 style=\"font-family: 'Arial', sans-serif; text-align: center; color: #4B8BBE;\">\n",
    "    🔍 Khai phá luật kết hợp trong phân tích hành vi khách hàng\n",
    "</h2>\n"
   ]
  },
  {
   "cell_type": "code",
   "execution_count": 27,
   "metadata": {},
   "outputs": [
    {
     "name": "stderr",
     "output_type": "stream",
     "text": [
      "c:\\Users\\ADMIN\\anaconda3\\Lib\\site-packages\\redshift_connector\\core.py:654: DeprecationWarning:\n",
      "\n",
      "ssl.SSLContext() without protocol argument is deprecated.\n",
      "\n",
      "c:\\Users\\ADMIN\\anaconda3\\Lib\\site-packages\\redshift_connector\\core.py:654: DeprecationWarning:\n",
      "\n",
      "ssl.PROTOCOL_TLS is deprecated\n",
      "\n"
     ]
    },
    {
     "data": {
      "text/html": [
       "<div>\n",
       "<style scoped>\n",
       "    .dataframe tbody tr th:only-of-type {\n",
       "        vertical-align: middle;\n",
       "    }\n",
       "\n",
       "    .dataframe tbody tr th {\n",
       "        vertical-align: top;\n",
       "    }\n",
       "\n",
       "    .dataframe thead th {\n",
       "        text-align: right;\n",
       "    }\n",
       "</style>\n",
       "<table border=\"1\" class=\"dataframe\">\n",
       "  <thead>\n",
       "    <tr style=\"text-align: right;\">\n",
       "      <th></th>\n",
       "      <th>madh</th>\n",
       "      <th>tensp</th>\n",
       "      <th>soluong</th>\n",
       "    </tr>\n",
       "  </thead>\n",
       "  <tbody>\n",
       "    <tr>\n",
       "      <th>0</th>\n",
       "      <td>ĐH5965450</td>\n",
       "      <td>Phần mềm Win Pro 10 SNGL Upgrd OLP NL FQC-09525</td>\n",
       "      <td>6</td>\n",
       "    </tr>\n",
       "    <tr>\n",
       "      <th>1</th>\n",
       "      <td>ĐH1173864</td>\n",
       "      <td>Dịch vụ bảo hành mở rộng hai năm cho Laptop De...</td>\n",
       "      <td>8</td>\n",
       "    </tr>\n",
       "    <tr>\n",
       "      <th>2</th>\n",
       "      <td>ĐH6526583</td>\n",
       "      <td>Dịch vụ bảo hành mở rộng hai năm cho Laptop De...</td>\n",
       "      <td>8</td>\n",
       "    </tr>\n",
       "    <tr>\n",
       "      <th>3</th>\n",
       "      <td>ĐH4243666</td>\n",
       "      <td>Máy tính chủ HP DL 380 G9 CTO 2xE5-2660V3(2.6G...</td>\n",
       "      <td>3</td>\n",
       "    </tr>\n",
       "    <tr>\n",
       "      <th>4</th>\n",
       "      <td>ĐH1911811</td>\n",
       "      <td>Laptop Dell Latitude 3440 Corei5 (L4I5H005)</td>\n",
       "      <td>9</td>\n",
       "    </tr>\n",
       "  </tbody>\n",
       "</table>\n",
       "</div>"
      ],
      "text/plain": [
       "        madh                                              tensp  soluong\n",
       "0  ĐH5965450    Phần mềm Win Pro 10 SNGL Upgrd OLP NL FQC-09525        6\n",
       "1  ĐH1173864  Dịch vụ bảo hành mở rộng hai năm cho Laptop De...        8\n",
       "2  ĐH6526583  Dịch vụ bảo hành mở rộng hai năm cho Laptop De...        8\n",
       "3  ĐH4243666  Máy tính chủ HP DL 380 G9 CTO 2xE5-2660V3(2.6G...        3\n",
       "4  ĐH1911811        Laptop Dell Latitude 3440 Corei5 (L4I5H005)        9"
      ]
     },
     "execution_count": 27,
     "metadata": {},
     "output_type": "execute_result"
    }
   ],
   "source": [
    "#Khai báo các thư viện \n",
    "import pandas as pd\n",
    "from matplotlib import pyplot as plt\n",
    "import plotly.express as px\n",
    "import redshift_connector\n",
    "\n",
    "conn = redshift_connector.connect(\n",
    "    host     = \"datnvn.870889396351.us-east-1.redshift-serverless.amazonaws.com\",\n",
    "    port     = 5439,\n",
    "    database = \"dev\",\n",
    "    user     = \"admin\",\n",
    "    password  = 'Datn1234'\n",
    ")\n",
    "\n",
    "cursor = conn.cursor()\n",
    "cursor.execute(\"SELECT b.madh, s.tensp, b.soluong  FROM  Fact_BanHang b join Dim_SanPham s   ON b.masp = s.masp \")\n",
    "# Directly fetch the results as a pandas DataFrame\n",
    "df = cursor.fetch_dataframe()\n",
    "df.head(5)"
   ]
  },
  {
   "cell_type": "markdown",
   "metadata": {},
   "source": [
    "<h2 style=\"font-family: 'Arial', sans-serif;\">\n",
    "    🔄 Khám phá và Tiền xử lý dữ liệu\n",
    "</h2>\n"
   ]
  },
  {
   "cell_type": "code",
   "execution_count": 28,
   "metadata": {},
   "outputs": [
    {
     "name": "stdout",
     "output_type": "stream",
     "text": [
      "Số lượng bản ghi: 29129\n",
      "\n",
      "Các cột dữ liệu: ['madh', 'tensp', 'soluong']\n",
      "\n",
      "Kiểu dữ liệu của các cột: \n",
      " madh       object\n",
      "tensp      object\n",
      "soluong     int64\n",
      "dtype: object\n"
     ]
    }
   ],
   "source": [
    "# Hiển thị số lượng bản ghi, các cột dữ liệu và kiểu dữ liệu của cột tương ứng\n",
    "print(\"Số lượng bản ghi:\", len(df))\n",
    "print(\"\\nCác cột dữ liệu:\", list(df.columns))\n",
    "print(\"\\nKiểu dữ liệu của các cột: \\n\",df.dtypes)"
   ]
  },
  {
   "cell_type": "code",
   "execution_count": 29,
   "metadata": {},
   "outputs": [
    {
     "name": "stdout",
     "output_type": "stream",
     "text": [
      "Số lượng sản phẩm của công ty là : 784\n",
      "\n",
      "Số lượng giao dịch là : 9796\n"
     ]
    }
   ],
   "source": [
    "#Số lượng sản phẩm công ty cung cấp\n",
    "sl_hang= df['tensp'].nunique()\n",
    "print(\"Số lượng sản phẩm của công ty là :\", sl_hang)\n",
    "#Số lượng giao dịch\n",
    "sl_giaodich= df['madh'].nunique()\n",
    "print(\"\\nSố lượng giao dịch là :\", sl_giaodich)"
   ]
  },
  {
   "cell_type": "code",
   "execution_count": 30,
   "metadata": {},
   "outputs": [
    {
     "data": {
      "text/html": [
       "<div>\n",
       "<style scoped>\n",
       "    .dataframe tbody tr th:only-of-type {\n",
       "        vertical-align: middle;\n",
       "    }\n",
       "\n",
       "    .dataframe tbody tr th {\n",
       "        vertical-align: top;\n",
       "    }\n",
       "\n",
       "    .dataframe thead th {\n",
       "        text-align: right;\n",
       "    }\n",
       "</style>\n",
       "<table border=\"1\" class=\"dataframe\">\n",
       "  <thead>\n",
       "    <tr style=\"text-align: right;\">\n",
       "      <th></th>\n",
       "      <th>madh</th>\n",
       "      <th>tensp</th>\n",
       "      <th>soluong</th>\n",
       "    </tr>\n",
       "  </thead>\n",
       "  <tbody>\n",
       "    <tr>\n",
       "      <th>0</th>\n",
       "      <td>ĐH5965450</td>\n",
       "      <td>Phần mềm Win Pro</td>\n",
       "      <td>6</td>\n",
       "    </tr>\n",
       "    <tr>\n",
       "      <th>1</th>\n",
       "      <td>ĐH1173864</td>\n",
       "      <td>Dịch vụ bảo hành</td>\n",
       "      <td>8</td>\n",
       "    </tr>\n",
       "    <tr>\n",
       "      <th>2</th>\n",
       "      <td>ĐH6526583</td>\n",
       "      <td>Dịch vụ bảo hành</td>\n",
       "      <td>8</td>\n",
       "    </tr>\n",
       "    <tr>\n",
       "      <th>3</th>\n",
       "      <td>ĐH4243666</td>\n",
       "      <td>Máy tính chủ HP</td>\n",
       "      <td>3</td>\n",
       "    </tr>\n",
       "    <tr>\n",
       "      <th>4</th>\n",
       "      <td>ĐH1911811</td>\n",
       "      <td>Laptop Dell Latitude 3440</td>\n",
       "      <td>9</td>\n",
       "    </tr>\n",
       "    <tr>\n",
       "      <th>...</th>\n",
       "      <td>...</td>\n",
       "      <td>...</td>\n",
       "      <td>...</td>\n",
       "    </tr>\n",
       "    <tr>\n",
       "      <th>29124</th>\n",
       "      <td>ĐH7273877</td>\n",
       "      <td>Bộ nhớ trong Kingston</td>\n",
       "      <td>3</td>\n",
       "    </tr>\n",
       "    <tr>\n",
       "      <th>29125</th>\n",
       "      <td>ĐH5412954</td>\n",
       "      <td>Máy tính xách tay</td>\n",
       "      <td>5</td>\n",
       "    </tr>\n",
       "    <tr>\n",
       "      <th>29126</th>\n",
       "      <td>ĐH7121478</td>\n",
       "      <td>Phần mềm Product Design</td>\n",
       "      <td>6</td>\n",
       "    </tr>\n",
       "    <tr>\n",
       "      <th>29127</th>\n",
       "      <td>ĐH9352026</td>\n",
       "      <td>Máy tính xách tay</td>\n",
       "      <td>9</td>\n",
       "    </tr>\n",
       "    <tr>\n",
       "      <th>29128</th>\n",
       "      <td>ĐH1625754</td>\n",
       "      <td>Bộ nhớ trong Kingston</td>\n",
       "      <td>6</td>\n",
       "    </tr>\n",
       "  </tbody>\n",
       "</table>\n",
       "<p>29129 rows × 3 columns</p>\n",
       "</div>"
      ],
      "text/plain": [
       "            madh                      tensp  soluong\n",
       "0      ĐH5965450           Phần mềm Win Pro        6\n",
       "1      ĐH1173864           Dịch vụ bảo hành        8\n",
       "2      ĐH6526583           Dịch vụ bảo hành        8\n",
       "3      ĐH4243666            Máy tính chủ HP        3\n",
       "4      ĐH1911811  Laptop Dell Latitude 3440        9\n",
       "...          ...                        ...      ...\n",
       "29124  ĐH7273877      Bộ nhớ trong Kingston        3\n",
       "29125  ĐH5412954          Máy tính xách tay        5\n",
       "29126  ĐH7121478    Phần mềm Product Design        6\n",
       "29127  ĐH9352026          Máy tính xách tay        9\n",
       "29128  ĐH1625754      Bộ nhớ trong Kingston        6\n",
       "\n",
       "[29129 rows x 3 columns]"
      ]
     },
     "execution_count": 30,
     "metadata": {},
     "output_type": "execute_result"
    }
   ],
   "source": [
    "#Chuẩn hóa tên sản phẩm\n",
    "df['tensp'] = df['tensp'].apply(lambda x: ' '.join(x.split()[:4]))\n",
    "df"
   ]
  },
  {
   "cell_type": "code",
   "execution_count": 31,
   "metadata": {},
   "outputs": [
    {
     "name": "stderr",
     "output_type": "stream",
     "text": [
      "c:\\Users\\ADMIN\\anaconda3\\Lib\\site-packages\\plotly\\io\\_renderers.py:395: DeprecationWarning:\n",
      "\n",
      "distutils Version classes are deprecated. Use packaging.version instead.\n",
      "\n",
      "c:\\Users\\ADMIN\\anaconda3\\Lib\\site-packages\\plotly\\io\\_renderers.py:395: DeprecationWarning:\n",
      "\n",
      "distutils Version classes are deprecated. Use packaging.version instead.\n",
      "\n"
     ]
    },
    {
     "data": {
      "application/vnd.plotly.v1+json": {
       "config": {
        "plotlyServerURL": "https://plot.ly"
       },
       "data": [
        {
         "branchvalues": "total",
         "customdata": [
          [
           1986
          ],
          [
           1599
          ],
          [
           2664
          ],
          [
           1154
          ],
          [
           1277
          ],
          [
           4148
          ],
          [
           2134
          ],
          [
           4753
          ],
          [
           3344
          ],
          [
           2013
          ],
          [
           2126
          ],
          [
           1259
          ],
          [
           1362
          ],
          [
           2306
          ],
          [
           1567
          ],
          [
           1411
          ],
          [
           1993
          ],
          [
           4485
          ],
          [
           1366
          ],
          [
           1248
          ]
         ],
         "domain": {
          "x": [
           0,
           1
          ],
          "y": [
           0,
           1
          ]
         },
         "hovertemplate": "labels=%{label}<br>soluong_sum=%{value}<br>parent=%{parent}<br>id=%{id}<br>soluong=%{color}<extra></extra>",
         "ids": [
          "Bản quyền phần mềm",
          "Bộ nhớ trong Kingston",
          "Dịch vụ phần mềm",
          "Gia hạn bản quyền",
          "Máy tính chủ HP",
          "Máy tính xách tay",
          "Máy tính để bàn",
          "Phí sử dụng phần",
          "Phần mềm Autodesk AutoCAD",
          "Phần mềm Creative Cloud",
          "Phần mềm Endpoint Protection,",
          "Phần mềm Foxit PhantomPDF",
          "Phần mềm Illustrator CC",
          "Phần mềm Kaspersky Endpoint",
          "Phần mềm Microsoft Office",
          "Phần mềm Office 365",
          "Phần mềm Photoshop CC",
          "Phần mềm SYMC ENDPOINT",
          "Phần mềm Trend Micro",
          "Phần mềm Win Pro"
         ],
         "labels": [
          "Bản quyền phần mềm",
          "Bộ nhớ trong Kingston",
          "Dịch vụ phần mềm",
          "Gia hạn bản quyền",
          "Máy tính chủ HP",
          "Máy tính xách tay",
          "Máy tính để bàn",
          "Phí sử dụng phần",
          "Phần mềm Autodesk AutoCAD",
          "Phần mềm Creative Cloud",
          "Phần mềm Endpoint Protection,",
          "Phần mềm Foxit PhantomPDF",
          "Phần mềm Illustrator CC",
          "Phần mềm Kaspersky Endpoint",
          "Phần mềm Microsoft Office",
          "Phần mềm Office 365",
          "Phần mềm Photoshop CC",
          "Phần mềm SYMC ENDPOINT",
          "Phần mềm Trend Micro",
          "Phần mềm Win Pro"
         ],
         "marker": {
          "coloraxis": "coloraxis",
          "colors": [
           1986,
           1599,
           2664,
           1154,
           1277,
           4148,
           2134,
           4753,
           3344,
           2013,
           2126,
           1259,
           1362,
           2306,
           1567,
           1411,
           1993,
           4485,
           1366,
           1248
          ]
         },
         "name": "",
         "parents": [
          "",
          "",
          "",
          "",
          "",
          "",
          "",
          "",
          "",
          "",
          "",
          "",
          "",
          "",
          "",
          "",
          "",
          "",
          "",
          ""
         ],
         "type": "treemap",
         "values": [
          1986,
          1599,
          2664,
          1154,
          1277,
          4148,
          2134,
          4753,
          3344,
          2013,
          2126,
          1259,
          1362,
          2306,
          1567,
          1411,
          1993,
          4485,
          1366,
          1248
         ]
        }
       ],
       "layout": {
        "coloraxis": {
         "colorbar": {
          "title": {
           "text": "soluong"
          }
         },
         "colorscale": [
          [
           0,
           "rgb(247,251,255)"
          ],
          [
           0.125,
           "rgb(222,235,247)"
          ],
          [
           0.25,
           "rgb(198,219,239)"
          ],
          [
           0.375,
           "rgb(158,202,225)"
          ],
          [
           0.5,
           "rgb(107,174,214)"
          ],
          [
           0.625,
           "rgb(66,146,198)"
          ],
          [
           0.75,
           "rgb(33,113,181)"
          ],
          [
           0.875,
           "rgb(8,81,156)"
          ],
          [
           1,
           "rgb(8,48,107)"
          ]
         ]
        },
        "legend": {
         "tracegroupgap": 0
        },
        "margin": {
         "b": 0,
         "l": 40,
         "r": 660,
         "t": 40
        },
        "template": {
         "data": {
          "bar": [
           {
            "error_x": {
             "color": "#2a3f5f"
            },
            "error_y": {
             "color": "#2a3f5f"
            },
            "marker": {
             "line": {
              "color": "#E5ECF6",
              "width": 0.5
             },
             "pattern": {
              "fillmode": "overlay",
              "size": 10,
              "solidity": 0.2
             }
            },
            "type": "bar"
           }
          ],
          "barpolar": [
           {
            "marker": {
             "line": {
              "color": "#E5ECF6",
              "width": 0.5
             },
             "pattern": {
              "fillmode": "overlay",
              "size": 10,
              "solidity": 0.2
             }
            },
            "type": "barpolar"
           }
          ],
          "carpet": [
           {
            "aaxis": {
             "endlinecolor": "#2a3f5f",
             "gridcolor": "white",
             "linecolor": "white",
             "minorgridcolor": "white",
             "startlinecolor": "#2a3f5f"
            },
            "baxis": {
             "endlinecolor": "#2a3f5f",
             "gridcolor": "white",
             "linecolor": "white",
             "minorgridcolor": "white",
             "startlinecolor": "#2a3f5f"
            },
            "type": "carpet"
           }
          ],
          "choropleth": [
           {
            "colorbar": {
             "outlinewidth": 0,
             "ticks": ""
            },
            "type": "choropleth"
           }
          ],
          "contour": [
           {
            "colorbar": {
             "outlinewidth": 0,
             "ticks": ""
            },
            "colorscale": [
             [
              0,
              "#0d0887"
             ],
             [
              0.1111111111111111,
              "#46039f"
             ],
             [
              0.2222222222222222,
              "#7201a8"
             ],
             [
              0.3333333333333333,
              "#9c179e"
             ],
             [
              0.4444444444444444,
              "#bd3786"
             ],
             [
              0.5555555555555556,
              "#d8576b"
             ],
             [
              0.6666666666666666,
              "#ed7953"
             ],
             [
              0.7777777777777778,
              "#fb9f3a"
             ],
             [
              0.8888888888888888,
              "#fdca26"
             ],
             [
              1,
              "#f0f921"
             ]
            ],
            "type": "contour"
           }
          ],
          "contourcarpet": [
           {
            "colorbar": {
             "outlinewidth": 0,
             "ticks": ""
            },
            "type": "contourcarpet"
           }
          ],
          "heatmap": [
           {
            "colorbar": {
             "outlinewidth": 0,
             "ticks": ""
            },
            "colorscale": [
             [
              0,
              "#0d0887"
             ],
             [
              0.1111111111111111,
              "#46039f"
             ],
             [
              0.2222222222222222,
              "#7201a8"
             ],
             [
              0.3333333333333333,
              "#9c179e"
             ],
             [
              0.4444444444444444,
              "#bd3786"
             ],
             [
              0.5555555555555556,
              "#d8576b"
             ],
             [
              0.6666666666666666,
              "#ed7953"
             ],
             [
              0.7777777777777778,
              "#fb9f3a"
             ],
             [
              0.8888888888888888,
              "#fdca26"
             ],
             [
              1,
              "#f0f921"
             ]
            ],
            "type": "heatmap"
           }
          ],
          "heatmapgl": [
           {
            "colorbar": {
             "outlinewidth": 0,
             "ticks": ""
            },
            "colorscale": [
             [
              0,
              "#0d0887"
             ],
             [
              0.1111111111111111,
              "#46039f"
             ],
             [
              0.2222222222222222,
              "#7201a8"
             ],
             [
              0.3333333333333333,
              "#9c179e"
             ],
             [
              0.4444444444444444,
              "#bd3786"
             ],
             [
              0.5555555555555556,
              "#d8576b"
             ],
             [
              0.6666666666666666,
              "#ed7953"
             ],
             [
              0.7777777777777778,
              "#fb9f3a"
             ],
             [
              0.8888888888888888,
              "#fdca26"
             ],
             [
              1,
              "#f0f921"
             ]
            ],
            "type": "heatmapgl"
           }
          ],
          "histogram": [
           {
            "marker": {
             "pattern": {
              "fillmode": "overlay",
              "size": 10,
              "solidity": 0.2
             }
            },
            "type": "histogram"
           }
          ],
          "histogram2d": [
           {
            "colorbar": {
             "outlinewidth": 0,
             "ticks": ""
            },
            "colorscale": [
             [
              0,
              "#0d0887"
             ],
             [
              0.1111111111111111,
              "#46039f"
             ],
             [
              0.2222222222222222,
              "#7201a8"
             ],
             [
              0.3333333333333333,
              "#9c179e"
             ],
             [
              0.4444444444444444,
              "#bd3786"
             ],
             [
              0.5555555555555556,
              "#d8576b"
             ],
             [
              0.6666666666666666,
              "#ed7953"
             ],
             [
              0.7777777777777778,
              "#fb9f3a"
             ],
             [
              0.8888888888888888,
              "#fdca26"
             ],
             [
              1,
              "#f0f921"
             ]
            ],
            "type": "histogram2d"
           }
          ],
          "histogram2dcontour": [
           {
            "colorbar": {
             "outlinewidth": 0,
             "ticks": ""
            },
            "colorscale": [
             [
              0,
              "#0d0887"
             ],
             [
              0.1111111111111111,
              "#46039f"
             ],
             [
              0.2222222222222222,
              "#7201a8"
             ],
             [
              0.3333333333333333,
              "#9c179e"
             ],
             [
              0.4444444444444444,
              "#bd3786"
             ],
             [
              0.5555555555555556,
              "#d8576b"
             ],
             [
              0.6666666666666666,
              "#ed7953"
             ],
             [
              0.7777777777777778,
              "#fb9f3a"
             ],
             [
              0.8888888888888888,
              "#fdca26"
             ],
             [
              1,
              "#f0f921"
             ]
            ],
            "type": "histogram2dcontour"
           }
          ],
          "mesh3d": [
           {
            "colorbar": {
             "outlinewidth": 0,
             "ticks": ""
            },
            "type": "mesh3d"
           }
          ],
          "parcoords": [
           {
            "line": {
             "colorbar": {
              "outlinewidth": 0,
              "ticks": ""
             }
            },
            "type": "parcoords"
           }
          ],
          "pie": [
           {
            "automargin": true,
            "type": "pie"
           }
          ],
          "scatter": [
           {
            "fillpattern": {
             "fillmode": "overlay",
             "size": 10,
             "solidity": 0.2
            },
            "type": "scatter"
           }
          ],
          "scatter3d": [
           {
            "line": {
             "colorbar": {
              "outlinewidth": 0,
              "ticks": ""
             }
            },
            "marker": {
             "colorbar": {
              "outlinewidth": 0,
              "ticks": ""
             }
            },
            "type": "scatter3d"
           }
          ],
          "scattercarpet": [
           {
            "marker": {
             "colorbar": {
              "outlinewidth": 0,
              "ticks": ""
             }
            },
            "type": "scattercarpet"
           }
          ],
          "scattergeo": [
           {
            "marker": {
             "colorbar": {
              "outlinewidth": 0,
              "ticks": ""
             }
            },
            "type": "scattergeo"
           }
          ],
          "scattergl": [
           {
            "marker": {
             "colorbar": {
              "outlinewidth": 0,
              "ticks": ""
             }
            },
            "type": "scattergl"
           }
          ],
          "scattermapbox": [
           {
            "marker": {
             "colorbar": {
              "outlinewidth": 0,
              "ticks": ""
             }
            },
            "type": "scattermapbox"
           }
          ],
          "scatterpolar": [
           {
            "marker": {
             "colorbar": {
              "outlinewidth": 0,
              "ticks": ""
             }
            },
            "type": "scatterpolar"
           }
          ],
          "scatterpolargl": [
           {
            "marker": {
             "colorbar": {
              "outlinewidth": 0,
              "ticks": ""
             }
            },
            "type": "scatterpolargl"
           }
          ],
          "scatterternary": [
           {
            "marker": {
             "colorbar": {
              "outlinewidth": 0,
              "ticks": ""
             }
            },
            "type": "scatterternary"
           }
          ],
          "surface": [
           {
            "colorbar": {
             "outlinewidth": 0,
             "ticks": ""
            },
            "colorscale": [
             [
              0,
              "#0d0887"
             ],
             [
              0.1111111111111111,
              "#46039f"
             ],
             [
              0.2222222222222222,
              "#7201a8"
             ],
             [
              0.3333333333333333,
              "#9c179e"
             ],
             [
              0.4444444444444444,
              "#bd3786"
             ],
             [
              0.5555555555555556,
              "#d8576b"
             ],
             [
              0.6666666666666666,
              "#ed7953"
             ],
             [
              0.7777777777777778,
              "#fb9f3a"
             ],
             [
              0.8888888888888888,
              "#fdca26"
             ],
             [
              1,
              "#f0f921"
             ]
            ],
            "type": "surface"
           }
          ],
          "table": [
           {
            "cells": {
             "fill": {
              "color": "#EBF0F8"
             },
             "line": {
              "color": "white"
             }
            },
            "header": {
             "fill": {
              "color": "#C8D4E3"
             },
             "line": {
              "color": "white"
             }
            },
            "type": "table"
           }
          ]
         },
         "layout": {
          "annotationdefaults": {
           "arrowcolor": "#2a3f5f",
           "arrowhead": 0,
           "arrowwidth": 1
          },
          "autotypenumbers": "strict",
          "coloraxis": {
           "colorbar": {
            "outlinewidth": 0,
            "ticks": ""
           }
          },
          "colorscale": {
           "diverging": [
            [
             0,
             "#8e0152"
            ],
            [
             0.1,
             "#c51b7d"
            ],
            [
             0.2,
             "#de77ae"
            ],
            [
             0.3,
             "#f1b6da"
            ],
            [
             0.4,
             "#fde0ef"
            ],
            [
             0.5,
             "#f7f7f7"
            ],
            [
             0.6,
             "#e6f5d0"
            ],
            [
             0.7,
             "#b8e186"
            ],
            [
             0.8,
             "#7fbc41"
            ],
            [
             0.9,
             "#4d9221"
            ],
            [
             1,
             "#276419"
            ]
           ],
           "sequential": [
            [
             0,
             "#0d0887"
            ],
            [
             0.1111111111111111,
             "#46039f"
            ],
            [
             0.2222222222222222,
             "#7201a8"
            ],
            [
             0.3333333333333333,
             "#9c179e"
            ],
            [
             0.4444444444444444,
             "#bd3786"
            ],
            [
             0.5555555555555556,
             "#d8576b"
            ],
            [
             0.6666666666666666,
             "#ed7953"
            ],
            [
             0.7777777777777778,
             "#fb9f3a"
            ],
            [
             0.8888888888888888,
             "#fdca26"
            ],
            [
             1,
             "#f0f921"
            ]
           ],
           "sequentialminus": [
            [
             0,
             "#0d0887"
            ],
            [
             0.1111111111111111,
             "#46039f"
            ],
            [
             0.2222222222222222,
             "#7201a8"
            ],
            [
             0.3333333333333333,
             "#9c179e"
            ],
            [
             0.4444444444444444,
             "#bd3786"
            ],
            [
             0.5555555555555556,
             "#d8576b"
            ],
            [
             0.6666666666666666,
             "#ed7953"
            ],
            [
             0.7777777777777778,
             "#fb9f3a"
            ],
            [
             0.8888888888888888,
             "#fdca26"
            ],
            [
             1,
             "#f0f921"
            ]
           ]
          },
          "colorway": [
           "#636efa",
           "#EF553B",
           "#00cc96",
           "#ab63fa",
           "#FFA15A",
           "#19d3f3",
           "#FF6692",
           "#B6E880",
           "#FF97FF",
           "#FECB52"
          ],
          "font": {
           "color": "#2a3f5f"
          },
          "geo": {
           "bgcolor": "white",
           "lakecolor": "white",
           "landcolor": "#E5ECF6",
           "showlakes": true,
           "showland": true,
           "subunitcolor": "white"
          },
          "hoverlabel": {
           "align": "left"
          },
          "hovermode": "closest",
          "mapbox": {
           "style": "light"
          },
          "paper_bgcolor": "white",
          "plot_bgcolor": "#E5ECF6",
          "polar": {
           "angularaxis": {
            "gridcolor": "white",
            "linecolor": "white",
            "ticks": ""
           },
           "bgcolor": "#E5ECF6",
           "radialaxis": {
            "gridcolor": "white",
            "linecolor": "white",
            "ticks": ""
           }
          },
          "scene": {
           "xaxis": {
            "backgroundcolor": "#E5ECF6",
            "gridcolor": "white",
            "gridwidth": 2,
            "linecolor": "white",
            "showbackground": true,
            "ticks": "",
            "zerolinecolor": "white"
           },
           "yaxis": {
            "backgroundcolor": "#E5ECF6",
            "gridcolor": "white",
            "gridwidth": 2,
            "linecolor": "white",
            "showbackground": true,
            "ticks": "",
            "zerolinecolor": "white"
           },
           "zaxis": {
            "backgroundcolor": "#E5ECF6",
            "gridcolor": "white",
            "gridwidth": 2,
            "linecolor": "white",
            "showbackground": true,
            "ticks": "",
            "zerolinecolor": "white"
           }
          },
          "shapedefaults": {
           "line": {
            "color": "#2a3f5f"
           }
          },
          "ternary": {
           "aaxis": {
            "gridcolor": "white",
            "linecolor": "white",
            "ticks": ""
           },
           "baxis": {
            "gridcolor": "white",
            "linecolor": "white",
            "ticks": ""
           },
           "bgcolor": "#E5ECF6",
           "caxis": {
            "gridcolor": "white",
            "linecolor": "white",
            "ticks": ""
           }
          },
          "title": {
           "x": 0.05
          },
          "xaxis": {
           "automargin": true,
           "gridcolor": "white",
           "linecolor": "white",
           "ticks": "",
           "title": {
            "standoff": 15
           },
           "zerolinecolor": "white",
           "zerolinewidth": 2
          },
          "yaxis": {
           "automargin": true,
           "gridcolor": "white",
           "linecolor": "white",
           "ticks": "",
           "title": {
            "standoff": 15
           },
           "zerolinecolor": "white",
           "zerolinewidth": 2
          }
         }
        },
        "title": {
         "text": "Top 30 Sản Phẩm Bán Chạy Nhất"
        }
       }
      }
     },
     "metadata": {},
     "output_type": "display_data"
    }
   ],
   "source": [
    "# Nhóm theo 'Mã Sản Phẩm' và 'Sản phẩm' để tính tổng 'Số lượng bán' cho mỗi sản phẩm\n",
    "grouped_data = df.groupby(['tensp']).agg({'soluong': 'sum'}).reset_index()\n",
    "\n",
    "# Sắp xếp theo 'Số lượng bán' giảm dần và lấy 30 sản phẩm bán chạy nhất\n",
    "top_20_products = grouped_data.sort_values(by='soluong', ascending=False).head(20)\n",
    "\n",
    "\n",
    "# Tạo treemap\n",
    "fig = px.treemap(top_20_products,\n",
    "                 path=['tensp'],  # Hiển thị tên sản phẩm trong treemap\n",
    "                 values='soluong',  # Số lượng bán làm giá trị cho kích thước\n",
    "                 color='soluong',  # Màu sắc theo số lượng bán\n",
    "                 color_continuous_scale='Blues',  # Dải màu cho biểu đồ\n",
    "                 title=\"Top 30 Sản Phẩm Bán Chạy Nhất\"\n",
    ")\n",
    "fig.update_layout(\n",
    "    margin={\"t\": 40, \"l\": 40, \"b\": 0, \"r\": 660},  # Điều chỉnh margin để hiển thị 3 hàng\n",
    ")\n",
    "# Hiển thị biểu đồ\n",
    "fig.show()"
   ]
  },
  {
   "cell_type": "code",
   "execution_count": 32,
   "metadata": {},
   "outputs": [
    {
     "data": {
      "image/png": "[encoded data removed]",
      "text/plain": [
       "<Figure size 1000x800 with 1 Axes>"
      ]
     },
     "metadata": {},
     "output_type": "display_data"
    }
   ],
   "source": [
    "from matplotlib import pyplot as plt\n",
    "\n",
    "# Nhóm dữ liệu theo 'Sản Phẩm' và tính tổng 'Số Lượng'\n",
    "data_sum = df.groupby(\"tensp\")[\"soluong\"].sum().sort_values(ascending=True)\n",
    "\n",
    "# Lấy 10 sản phẩm có số lượng bán thấp nhất (ít được quan tâm)\n",
    "top_10_items = data_sum.head(10)\n",
    "\n",
    "top_10_items.index = top_10_items.index.str[:38]\n",
    "\n",
    "# Vẽ biểu đồ\n",
    "plt.figure(figsize=(10, 8))\n",
    "top_10_items.plot(kind='barh')\n",
    "plt.title('Top 10 sản phẩm ít được quan tâm')\n",
    "plt.xlabel('Tổng Số Lượng Bán Ra')\n",
    "plt.ylabel('Tên Sản Phẩm ')\n",
    "plt.show()"
   ]
  },
  {
   "cell_type": "code",
   "execution_count": 33,
   "metadata": {},
   "outputs": [
    {
     "name": "stderr",
     "output_type": "stream",
     "text": [
      "C:\\Users\\ADMIN\\AppData\\Local\\Temp\\ipykernel_24192\\2504194677.py:12: FutureWarning:\n",
      "\n",
      "DataFrame.applymap has been deprecated. Use DataFrame.map instead.\n",
      "\n"
     ]
    },
    {
     "data": {
      "text/html": [
       "<div>\n",
       "<style scoped>\n",
       "    .dataframe tbody tr th:only-of-type {\n",
       "        vertical-align: middle;\n",
       "    }\n",
       "\n",
       "    .dataframe tbody tr th {\n",
       "        vertical-align: top;\n",
       "    }\n",
       "\n",
       "    .dataframe thead th {\n",
       "        text-align: right;\n",
       "    }\n",
       "</style>\n",
       "<table border=\"1\" class=\"dataframe\">\n",
       "  <thead>\n",
       "    <tr style=\"text-align: right;\">\n",
       "      <th>tensp</th>\n",
       "      <th>Bo mạch chính ASUS</th>\n",
       "      <th>Bàn phím Dell KB216B</th>\n",
       "      <th>Bàn phím Genius KB-110</th>\n",
       "      <th>Bàn phím Genuis KB110USB</th>\n",
       "      <th>Bàn phím vi tính</th>\n",
       "      <th>Bản quyền Phần mềm</th>\n",
       "      <th>Bản quyền phần mềm</th>\n",
       "      <th>Bảng mạch chính ASUS</th>\n",
       "      <th>Bộ bàn phím chuột</th>\n",
       "      <th>Bộ chuyển mạch HP</th>\n",
       "      <th>...</th>\n",
       "      <th>Ổ cứng SSD Transcend</th>\n",
       "      <th>Ổ cứng Western 1tb</th>\n",
       "      <th>Ổ cứng Western Blue</th>\n",
       "      <th>Ổ cứng Western Purple</th>\n",
       "      <th>Ổ cứng Western SSD</th>\n",
       "      <th>Ổ cứng cắm ngoài</th>\n",
       "      <th>Ổ cứng dùng cho</th>\n",
       "      <th>Ổ cứng gắn ngoài</th>\n",
       "      <th>Ổ cứng gắn trong</th>\n",
       "      <th>Ổ cứng lắp trong</th>\n",
       "    </tr>\n",
       "    <tr>\n",
       "      <th>madh</th>\n",
       "      <th></th>\n",
       "      <th></th>\n",
       "      <th></th>\n",
       "      <th></th>\n",
       "      <th></th>\n",
       "      <th></th>\n",
       "      <th></th>\n",
       "      <th></th>\n",
       "      <th></th>\n",
       "      <th></th>\n",
       "      <th></th>\n",
       "      <th></th>\n",
       "      <th></th>\n",
       "      <th></th>\n",
       "      <th></th>\n",
       "      <th></th>\n",
       "      <th></th>\n",
       "      <th></th>\n",
       "      <th></th>\n",
       "      <th></th>\n",
       "      <th></th>\n",
       "    </tr>\n",
       "  </thead>\n",
       "  <tbody>\n",
       "    <tr>\n",
       "      <th>ĐH1000658</th>\n",
       "      <td>False</td>\n",
       "      <td>False</td>\n",
       "      <td>False</td>\n",
       "      <td>False</td>\n",
       "      <td>False</td>\n",
       "      <td>False</td>\n",
       "      <td>False</td>\n",
       "      <td>False</td>\n",
       "      <td>False</td>\n",
       "      <td>False</td>\n",
       "      <td>...</td>\n",
       "      <td>False</td>\n",
       "      <td>False</td>\n",
       "      <td>False</td>\n",
       "      <td>False</td>\n",
       "      <td>False</td>\n",
       "      <td>False</td>\n",
       "      <td>False</td>\n",
       "      <td>False</td>\n",
       "      <td>False</td>\n",
       "      <td>False</td>\n",
       "    </tr>\n",
       "    <tr>\n",
       "      <th>ĐH1005727</th>\n",
       "      <td>False</td>\n",
       "      <td>False</td>\n",
       "      <td>False</td>\n",
       "      <td>False</td>\n",
       "      <td>False</td>\n",
       "      <td>False</td>\n",
       "      <td>False</td>\n",
       "      <td>False</td>\n",
       "      <td>False</td>\n",
       "      <td>False</td>\n",
       "      <td>...</td>\n",
       "      <td>False</td>\n",
       "      <td>False</td>\n",
       "      <td>False</td>\n",
       "      <td>False</td>\n",
       "      <td>False</td>\n",
       "      <td>False</td>\n",
       "      <td>False</td>\n",
       "      <td>False</td>\n",
       "      <td>False</td>\n",
       "      <td>False</td>\n",
       "    </tr>\n",
       "    <tr>\n",
       "      <th>ĐH1006391</th>\n",
       "      <td>False</td>\n",
       "      <td>False</td>\n",
       "      <td>False</td>\n",
       "      <td>False</td>\n",
       "      <td>False</td>\n",
       "      <td>False</td>\n",
       "      <td>False</td>\n",
       "      <td>False</td>\n",
       "      <td>False</td>\n",
       "      <td>False</td>\n",
       "      <td>...</td>\n",
       "      <td>False</td>\n",
       "      <td>False</td>\n",
       "      <td>False</td>\n",
       "      <td>False</td>\n",
       "      <td>False</td>\n",
       "      <td>False</td>\n",
       "      <td>False</td>\n",
       "      <td>False</td>\n",
       "      <td>False</td>\n",
       "      <td>False</td>\n",
       "    </tr>\n",
       "    <tr>\n",
       "      <th>ĐH1008676</th>\n",
       "      <td>False</td>\n",
       "      <td>False</td>\n",
       "      <td>False</td>\n",
       "      <td>False</td>\n",
       "      <td>False</td>\n",
       "      <td>False</td>\n",
       "      <td>False</td>\n",
       "      <td>False</td>\n",
       "      <td>False</td>\n",
       "      <td>False</td>\n",
       "      <td>...</td>\n",
       "      <td>False</td>\n",
       "      <td>False</td>\n",
       "      <td>False</td>\n",
       "      <td>False</td>\n",
       "      <td>False</td>\n",
       "      <td>False</td>\n",
       "      <td>False</td>\n",
       "      <td>False</td>\n",
       "      <td>False</td>\n",
       "      <td>False</td>\n",
       "    </tr>\n",
       "    <tr>\n",
       "      <th>ĐH1008967</th>\n",
       "      <td>False</td>\n",
       "      <td>False</td>\n",
       "      <td>False</td>\n",
       "      <td>False</td>\n",
       "      <td>False</td>\n",
       "      <td>False</td>\n",
       "      <td>False</td>\n",
       "      <td>False</td>\n",
       "      <td>False</td>\n",
       "      <td>False</td>\n",
       "      <td>...</td>\n",
       "      <td>False</td>\n",
       "      <td>False</td>\n",
       "      <td>False</td>\n",
       "      <td>False</td>\n",
       "      <td>False</td>\n",
       "      <td>False</td>\n",
       "      <td>False</td>\n",
       "      <td>False</td>\n",
       "      <td>False</td>\n",
       "      <td>False</td>\n",
       "    </tr>\n",
       "    <tr>\n",
       "      <th>...</th>\n",
       "      <td>...</td>\n",
       "      <td>...</td>\n",
       "      <td>...</td>\n",
       "      <td>...</td>\n",
       "      <td>...</td>\n",
       "      <td>...</td>\n",
       "      <td>...</td>\n",
       "      <td>...</td>\n",
       "      <td>...</td>\n",
       "      <td>...</td>\n",
       "      <td>...</td>\n",
       "      <td>...</td>\n",
       "      <td>...</td>\n",
       "      <td>...</td>\n",
       "      <td>...</td>\n",
       "      <td>...</td>\n",
       "      <td>...</td>\n",
       "      <td>...</td>\n",
       "      <td>...</td>\n",
       "      <td>...</td>\n",
       "      <td>...</td>\n",
       "    </tr>\n",
       "    <tr>\n",
       "      <th>ĐH9997095</th>\n",
       "      <td>False</td>\n",
       "      <td>False</td>\n",
       "      <td>False</td>\n",
       "      <td>False</td>\n",
       "      <td>False</td>\n",
       "      <td>False</td>\n",
       "      <td>False</td>\n",
       "      <td>False</td>\n",
       "      <td>False</td>\n",
       "      <td>False</td>\n",
       "      <td>...</td>\n",
       "      <td>False</td>\n",
       "      <td>False</td>\n",
       "      <td>False</td>\n",
       "      <td>False</td>\n",
       "      <td>False</td>\n",
       "      <td>False</td>\n",
       "      <td>False</td>\n",
       "      <td>False</td>\n",
       "      <td>False</td>\n",
       "      <td>False</td>\n",
       "    </tr>\n",
       "    <tr>\n",
       "      <th>ĐH9998269</th>\n",
       "      <td>False</td>\n",
       "      <td>False</td>\n",
       "      <td>False</td>\n",
       "      <td>False</td>\n",
       "      <td>False</td>\n",
       "      <td>False</td>\n",
       "      <td>False</td>\n",
       "      <td>False</td>\n",
       "      <td>False</td>\n",
       "      <td>False</td>\n",
       "      <td>...</td>\n",
       "      <td>False</td>\n",
       "      <td>False</td>\n",
       "      <td>False</td>\n",
       "      <td>False</td>\n",
       "      <td>False</td>\n",
       "      <td>False</td>\n",
       "      <td>False</td>\n",
       "      <td>False</td>\n",
       "      <td>False</td>\n",
       "      <td>False</td>\n",
       "    </tr>\n",
       "    <tr>\n",
       "      <th>ĐH9999012</th>\n",
       "      <td>False</td>\n",
       "      <td>False</td>\n",
       "      <td>False</td>\n",
       "      <td>False</td>\n",
       "      <td>False</td>\n",
       "      <td>False</td>\n",
       "      <td>False</td>\n",
       "      <td>False</td>\n",
       "      <td>False</td>\n",
       "      <td>False</td>\n",
       "      <td>...</td>\n",
       "      <td>False</td>\n",
       "      <td>False</td>\n",
       "      <td>False</td>\n",
       "      <td>False</td>\n",
       "      <td>False</td>\n",
       "      <td>False</td>\n",
       "      <td>False</td>\n",
       "      <td>False</td>\n",
       "      <td>False</td>\n",
       "      <td>True</td>\n",
       "    </tr>\n",
       "    <tr>\n",
       "      <th>ĐH9999314</th>\n",
       "      <td>False</td>\n",
       "      <td>False</td>\n",
       "      <td>False</td>\n",
       "      <td>False</td>\n",
       "      <td>False</td>\n",
       "      <td>False</td>\n",
       "      <td>False</td>\n",
       "      <td>False</td>\n",
       "      <td>False</td>\n",
       "      <td>False</td>\n",
       "      <td>...</td>\n",
       "      <td>False</td>\n",
       "      <td>False</td>\n",
       "      <td>False</td>\n",
       "      <td>False</td>\n",
       "      <td>False</td>\n",
       "      <td>False</td>\n",
       "      <td>False</td>\n",
       "      <td>False</td>\n",
       "      <td>False</td>\n",
       "      <td>False</td>\n",
       "    </tr>\n",
       "    <tr>\n",
       "      <th>ĐH9999474</th>\n",
       "      <td>False</td>\n",
       "      <td>False</td>\n",
       "      <td>False</td>\n",
       "      <td>False</td>\n",
       "      <td>False</td>\n",
       "      <td>False</td>\n",
       "      <td>False</td>\n",
       "      <td>False</td>\n",
       "      <td>False</td>\n",
       "      <td>False</td>\n",
       "      <td>...</td>\n",
       "      <td>False</td>\n",
       "      <td>False</td>\n",
       "      <td>False</td>\n",
       "      <td>False</td>\n",
       "      <td>False</td>\n",
       "      <td>False</td>\n",
       "      <td>False</td>\n",
       "      <td>False</td>\n",
       "      <td>False</td>\n",
       "      <td>False</td>\n",
       "    </tr>\n",
       "  </tbody>\n",
       "</table>\n",
       "<p>9796 rows × 481 columns</p>\n",
       "</div>"
      ],
      "text/plain": [
       "tensp      Bo mạch chính ASUS  Bàn phím Dell KB216B  Bàn phím Genius KB-110  \\\n",
       "madh                                                                          \n",
       "ĐH1000658               False                 False                   False   \n",
       "ĐH1005727               False                 False                   False   \n",
       "ĐH1006391               False                 False                   False   \n",
       "ĐH1008676               False                 False                   False   \n",
       "ĐH1008967               False                 False                   False   \n",
       "...                       ...                   ...                     ...   \n",
       "ĐH9997095               False                 False                   False   \n",
       "ĐH9998269               False                 False                   False   \n",
       "ĐH9999012               False                 False                   False   \n",
       "ĐH9999314               False                 False                   False   \n",
       "ĐH9999474               False                 False                   False   \n",
       "\n",
       "tensp      Bàn phím Genuis KB110USB  Bàn phím vi tính  Bản quyền Phần mềm  \\\n",
       "madh                                                                        \n",
       "ĐH1000658                     False             False               False   \n",
       "ĐH1005727                     False             False               False   \n",
       "ĐH1006391                     False             False               False   \n",
       "ĐH1008676                     False             False               False   \n",
       "ĐH1008967                     False             False               False   \n",
       "...                             ...               ...                 ...   \n",
       "ĐH9997095                     False             False               False   \n",
       "ĐH9998269                     False             False               False   \n",
       "ĐH9999012                     False             False               False   \n",
       "ĐH9999314                     False             False               False   \n",
       "ĐH9999474                     False             False               False   \n",
       "\n",
       "tensp      Bản quyền phần mềm  Bảng mạch chính ASUS  Bộ bàn phím chuột  \\\n",
       "madh                                                                     \n",
       "ĐH1000658               False                 False              False   \n",
       "ĐH1005727               False                 False              False   \n",
       "ĐH1006391               False                 False              False   \n",
       "ĐH1008676               False                 False              False   \n",
       "ĐH1008967               False                 False              False   \n",
       "...                       ...                   ...                ...   \n",
       "ĐH9997095               False                 False              False   \n",
       "ĐH9998269               False                 False              False   \n",
       "ĐH9999012               False                 False              False   \n",
       "ĐH9999314               False                 False              False   \n",
       "ĐH9999474               False                 False              False   \n",
       "\n",
       "tensp      Bộ chuyển mạch HP  ...  Ổ cứng SSD Transcend  Ổ cứng Western 1tb  \\\n",
       "madh                          ...                                             \n",
       "ĐH1000658              False  ...                 False               False   \n",
       "ĐH1005727              False  ...                 False               False   \n",
       "ĐH1006391              False  ...                 False               False   \n",
       "ĐH1008676              False  ...                 False               False   \n",
       "ĐH1008967              False  ...                 False               False   \n",
       "...                      ...  ...                   ...                 ...   \n",
       "ĐH9997095              False  ...                 False               False   \n",
       "ĐH9998269              False  ...                 False               False   \n",
       "ĐH9999012              False  ...                 False               False   \n",
       "ĐH9999314              False  ...                 False               False   \n",
       "ĐH9999474              False  ...                 False               False   \n",
       "\n",
       "tensp      Ổ cứng Western Blue  Ổ cứng Western Purple  Ổ cứng Western SSD  \\\n",
       "madh                                                                        \n",
       "ĐH1000658                False                  False               False   \n",
       "ĐH1005727                False                  False               False   \n",
       "ĐH1006391                False                  False               False   \n",
       "ĐH1008676                False                  False               False   \n",
       "ĐH1008967                False                  False               False   \n",
       "...                        ...                    ...                 ...   \n",
       "ĐH9997095                False                  False               False   \n",
       "ĐH9998269                False                  False               False   \n",
       "ĐH9999012                False                  False               False   \n",
       "ĐH9999314                False                  False               False   \n",
       "ĐH9999474                False                  False               False   \n",
       "\n",
       "tensp      Ổ cứng cắm ngoài  Ổ cứng dùng cho  Ổ cứng gắn ngoài  \\\n",
       "madh                                                             \n",
       "ĐH1000658             False            False             False   \n",
       "ĐH1005727             False            False             False   \n",
       "ĐH1006391             False            False             False   \n",
       "ĐH1008676             False            False             False   \n",
       "ĐH1008967             False            False             False   \n",
       "...                     ...              ...               ...   \n",
       "ĐH9997095             False            False             False   \n",
       "ĐH9998269             False            False             False   \n",
       "ĐH9999012             False            False             False   \n",
       "ĐH9999314             False            False             False   \n",
       "ĐH9999474             False            False             False   \n",
       "\n",
       "tensp      Ổ cứng gắn trong  Ổ cứng lắp trong  \n",
       "madh                                           \n",
       "ĐH1000658             False             False  \n",
       "ĐH1005727             False             False  \n",
       "ĐH1006391             False             False  \n",
       "ĐH1008676             False             False  \n",
       "ĐH1008967             False             False  \n",
       "...                     ...               ...  \n",
       "ĐH9997095             False             False  \n",
       "ĐH9998269             False             False  \n",
       "ĐH9999012             False              True  \n",
       "ĐH9999314             False             False  \n",
       "ĐH9999474             False             False  \n",
       "\n",
       "[9796 rows x 481 columns]"
      ]
     },
     "execution_count": 33,
     "metadata": {},
     "output_type": "execute_result"
    }
   ],
   "source": [
    "# Chuyển dữ liệu về dạng ma trận phục vụ cho xây dụng mô hình\n",
    "basket= (df.groupby(['madh','tensp'])['soluong']\n",
    "        .sum().unstack().reset_index().fillna(0)\n",
    "        .set_index('madh'))\n",
    "# Định nghĩa một hàm để chuyển đổi dữ liệu thành kiểu true false\n",
    "def encode_units(x):\n",
    "    if x <= 0:\n",
    "        return False\n",
    "    if x >= 1:\n",
    "        return True\n",
    "# Chuyển đổi dữ liệu\n",
    "basket_sets=basket.applymap(encode_units).astype(bool)\n",
    "basket_sets"
   ]
  },
  {
   "cell_type": "markdown",
   "metadata": {},
   "source": [
    "<h2 style=\"font-family: 'Arial', sans-serif; \">\n",
    "    🧑‍💻 Áp dụng thuật toán Apriori\n",
    "</h2>\n"
   ]
  },
  {
   "cell_type": "code",
   "execution_count": 34,
   "metadata": {},
   "outputs": [
    {
     "data": {
      "text/html": [
       "<div>\n",
       "<style scoped>\n",
       "    .dataframe tbody tr th:only-of-type {\n",
       "        vertical-align: middle;\n",
       "    }\n",
       "\n",
       "    .dataframe tbody tr th {\n",
       "        vertical-align: top;\n",
       "    }\n",
       "\n",
       "    .dataframe thead th {\n",
       "        text-align: right;\n",
       "    }\n",
       "</style>\n",
       "<table border=\"1\" class=\"dataframe\">\n",
       "  <thead>\n",
       "    <tr style=\"text-align: right;\">\n",
       "      <th></th>\n",
       "      <th>support</th>\n",
       "      <th>itemsets</th>\n",
       "    </tr>\n",
       "  </thead>\n",
       "  <tbody>\n",
       "    <tr>\n",
       "      <th>0</th>\n",
       "      <td>0.001940</td>\n",
       "      <td>(Bàn phím Dell KB216B)</td>\n",
       "    </tr>\n",
       "    <tr>\n",
       "      <th>1</th>\n",
       "      <td>0.001327</td>\n",
       "      <td>(Bàn phím Genius KB-110)</td>\n",
       "    </tr>\n",
       "    <tr>\n",
       "      <th>2</th>\n",
       "      <td>0.001327</td>\n",
       "      <td>(Bàn phím Genuis KB110USB)</td>\n",
       "    </tr>\n",
       "    <tr>\n",
       "      <th>3</th>\n",
       "      <td>0.001225</td>\n",
       "      <td>(Bàn phím vi tính)</td>\n",
       "    </tr>\n",
       "    <tr>\n",
       "      <th>4</th>\n",
       "      <td>0.001940</td>\n",
       "      <td>(Bản quyền Phần mềm)</td>\n",
       "    </tr>\n",
       "    <tr>\n",
       "      <th>...</th>\n",
       "      <td>...</td>\n",
       "      <td>...</td>\n",
       "    </tr>\n",
       "    <tr>\n",
       "      <th>424</th>\n",
       "      <td>0.009392</td>\n",
       "      <td>(Phần mềm Photoshop CC, Phần mềm Illustrator CC)</td>\n",
       "    </tr>\n",
       "    <tr>\n",
       "      <th>425</th>\n",
       "      <td>0.002246</td>\n",
       "      <td>(phần mềm Photoshop CC, Phần mềm Illustrator CC)</td>\n",
       "    </tr>\n",
       "    <tr>\n",
       "      <th>426</th>\n",
       "      <td>0.004900</td>\n",
       "      <td>(Phần mềm VMware vSphere, Phần mềm Kaspersky E...</td>\n",
       "    </tr>\n",
       "    <tr>\n",
       "      <th>427</th>\n",
       "      <td>0.001123</td>\n",
       "      <td>(Bộ bàn phím chuột, Dịch vụ bảo hành, Máy tính...</td>\n",
       "    </tr>\n",
       "    <tr>\n",
       "      <th>428</th>\n",
       "      <td>0.001021</td>\n",
       "      <td>(Máy chiếu Sony VPL-CH350, Bộ micro và loa, Mà...</td>\n",
       "    </tr>\n",
       "  </tbody>\n",
       "</table>\n",
       "<p>429 rows × 2 columns</p>\n",
       "</div>"
      ],
      "text/plain": [
       "      support                                           itemsets\n",
       "0    0.001940                             (Bàn phím Dell KB216B)\n",
       "1    0.001327                           (Bàn phím Genius KB-110)\n",
       "2    0.001327                         (Bàn phím Genuis KB110USB)\n",
       "3    0.001225                                 (Bàn phím vi tính)\n",
       "4    0.001940                               (Bản quyền Phần mềm)\n",
       "..        ...                                                ...\n",
       "424  0.009392   (Phần mềm Photoshop CC, Phần mềm Illustrator CC)\n",
       "425  0.002246   (phần mềm Photoshop CC, Phần mềm Illustrator CC)\n",
       "426  0.004900  (Phần mềm VMware vSphere, Phần mềm Kaspersky E...\n",
       "427  0.001123  (Bộ bàn phím chuột, Dịch vụ bảo hành, Máy tính...\n",
       "428  0.001021  (Máy chiếu Sony VPL-CH350, Bộ micro và loa, Mà...\n",
       "\n",
       "[429 rows x 2 columns]"
      ]
     },
     "execution_count": 34,
     "metadata": {},
     "output_type": "execute_result"
    }
   ],
   "source": [
    "from mlxtend.frequent_patterns import apriori\n",
    "from mlxtend.frequent_patterns import association_rules\n",
    "\n",
    "# tìm các tập phổ biến với minsupport = 0.001\n",
    "frequent_itemsets = apriori(basket_sets, min_support=0.001, use_colnames=True)\n",
    "frequent_itemsets "
   ]
  },
  {
   "cell_type": "code",
   "execution_count": 35,
   "metadata": {},
   "outputs": [
    {
     "data": {
      "text/html": [
       "<div>\n",
       "<style scoped>\n",
       "    .dataframe tbody tr th:only-of-type {\n",
       "        vertical-align: middle;\n",
       "    }\n",
       "\n",
       "    .dataframe tbody tr th {\n",
       "        vertical-align: top;\n",
       "    }\n",
       "\n",
       "    .dataframe thead th {\n",
       "        text-align: right;\n",
       "    }\n",
       "</style>\n",
       "<table border=\"1\" class=\"dataframe\">\n",
       "  <thead>\n",
       "    <tr style=\"text-align: right;\">\n",
       "      <th></th>\n",
       "      <th>antecedents</th>\n",
       "      <th>consequents</th>\n",
       "      <th>antecedent support</th>\n",
       "      <th>consequent support</th>\n",
       "      <th>support</th>\n",
       "      <th>confidence</th>\n",
       "      <th>lift</th>\n",
       "      <th>leverage</th>\n",
       "      <th>conviction</th>\n",
       "      <th>zhangs_metric</th>\n",
       "    </tr>\n",
       "  </thead>\n",
       "  <tbody>\n",
       "    <tr>\n",
       "      <th>0</th>\n",
       "      <td>(Bộ bàn phím chuột, Dịch vụ bảo hành)</td>\n",
       "      <td>(Máy tính xách tay)</td>\n",
       "      <td>0.001225</td>\n",
       "      <td>0.023785</td>\n",
       "      <td>0.001123</td>\n",
       "      <td>0.916667</td>\n",
       "      <td>38.539342</td>\n",
       "      <td>0.001094</td>\n",
       "      <td>11.714577</td>\n",
       "      <td>0.975247</td>\n",
       "    </tr>\n",
       "    <tr>\n",
       "      <th>1</th>\n",
       "      <td>(Máy chiếu Sony VPL-CH350, Bộ micro và loa)</td>\n",
       "      <td>(Màn chiếu điện Grandview)</td>\n",
       "      <td>0.001123</td>\n",
       "      <td>0.002348</td>\n",
       "      <td>0.001021</td>\n",
       "      <td>0.909091</td>\n",
       "      <td>387.193676</td>\n",
       "      <td>0.001018</td>\n",
       "      <td>10.974173</td>\n",
       "      <td>0.998539</td>\n",
       "    </tr>\n",
       "    <tr>\n",
       "      <th>2</th>\n",
       "      <td>(Camera quan sát VP3402)</td>\n",
       "      <td>(Bộ lưu điện UPS)</td>\n",
       "      <td>0.001531</td>\n",
       "      <td>0.003675</td>\n",
       "      <td>0.001327</td>\n",
       "      <td>0.866667</td>\n",
       "      <td>235.829630</td>\n",
       "      <td>0.001321</td>\n",
       "      <td>7.472438</td>\n",
       "      <td>0.997287</td>\n",
       "    </tr>\n",
       "    <tr>\n",
       "      <th>3</th>\n",
       "      <td>(Máy chiếu Sony VPL-CH350)</td>\n",
       "      <td>(Màn chiếu điện Grandview)</td>\n",
       "      <td>0.001429</td>\n",
       "      <td>0.002348</td>\n",
       "      <td>0.001225</td>\n",
       "      <td>0.857143</td>\n",
       "      <td>365.068323</td>\n",
       "      <td>0.001222</td>\n",
       "      <td>6.983565</td>\n",
       "      <td>0.998688</td>\n",
       "    </tr>\n",
       "    <tr>\n",
       "      <th>4</th>\n",
       "      <td>(Bộ bàn phím chuột, Máy tính xách tay)</td>\n",
       "      <td>(Dịch vụ bảo hành)</td>\n",
       "      <td>0.001327</td>\n",
       "      <td>0.002552</td>\n",
       "      <td>0.001123</td>\n",
       "      <td>0.846154</td>\n",
       "      <td>331.556923</td>\n",
       "      <td>0.001120</td>\n",
       "      <td>6.483412</td>\n",
       "      <td>0.998309</td>\n",
       "    </tr>\n",
       "    <tr>\n",
       "      <th>5</th>\n",
       "      <td>(Dịch vụ bảo hành, Máy tính xách tay)</td>\n",
       "      <td>(Bộ bàn phím chuột)</td>\n",
       "      <td>0.001327</td>\n",
       "      <td>0.004083</td>\n",
       "      <td>0.001123</td>\n",
       "      <td>0.846154</td>\n",
       "      <td>207.223077</td>\n",
       "      <td>0.001117</td>\n",
       "      <td>6.473459</td>\n",
       "      <td>0.996497</td>\n",
       "    </tr>\n",
       "    <tr>\n",
       "      <th>6</th>\n",
       "      <td>(Phần mềm VMware vSphere)</td>\n",
       "      <td>(Phần mềm Kaspersky Endpoint)</td>\n",
       "      <td>0.005819</td>\n",
       "      <td>0.011433</td>\n",
       "      <td>0.004900</td>\n",
       "      <td>0.842105</td>\n",
       "      <td>73.654135</td>\n",
       "      <td>0.004833</td>\n",
       "      <td>6.260923</td>\n",
       "      <td>0.992196</td>\n",
       "    </tr>\n",
       "    <tr>\n",
       "      <th>7</th>\n",
       "      <td>(Máy chiếu Sony VPL-CH350, Màn chiếu điện Gran...</td>\n",
       "      <td>(Bộ micro và loa)</td>\n",
       "      <td>0.001225</td>\n",
       "      <td>0.002348</td>\n",
       "      <td>0.001021</td>\n",
       "      <td>0.833333</td>\n",
       "      <td>354.927536</td>\n",
       "      <td>0.001018</td>\n",
       "      <td>5.985913</td>\n",
       "      <td>0.998406</td>\n",
       "    </tr>\n",
       "    <tr>\n",
       "      <th>8</th>\n",
       "      <td>(Bộ micro và loa, Màn chiếu điện Grandview)</td>\n",
       "      <td>(Máy chiếu Sony VPL-CH350)</td>\n",
       "      <td>0.001225</td>\n",
       "      <td>0.001429</td>\n",
       "      <td>0.001021</td>\n",
       "      <td>0.833333</td>\n",
       "      <td>583.095238</td>\n",
       "      <td>0.001019</td>\n",
       "      <td>5.991425</td>\n",
       "      <td>0.999509</td>\n",
       "    </tr>\n",
       "    <tr>\n",
       "      <th>9</th>\n",
       "      <td>(Máy chiếu Sony VPL-CH350)</td>\n",
       "      <td>(Bộ micro và loa)</td>\n",
       "      <td>0.001429</td>\n",
       "      <td>0.002348</td>\n",
       "      <td>0.001123</td>\n",
       "      <td>0.785714</td>\n",
       "      <td>334.645963</td>\n",
       "      <td>0.001120</td>\n",
       "      <td>4.655710</td>\n",
       "      <td>0.998439</td>\n",
       "    </tr>\n",
       "    <tr>\n",
       "      <th>10</th>\n",
       "      <td>(Phần mềm SketchUp Pro)</td>\n",
       "      <td>(Phần mềm Autodesk AutoCAD)</td>\n",
       "      <td>0.004696</td>\n",
       "      <td>0.019294</td>\n",
       "      <td>0.003471</td>\n",
       "      <td>0.739130</td>\n",
       "      <td>38.309639</td>\n",
       "      <td>0.003380</td>\n",
       "      <td>3.759375</td>\n",
       "      <td>0.978492</td>\n",
       "    </tr>\n",
       "    <tr>\n",
       "      <th>11</th>\n",
       "      <td>(Phần mềm Photoshop CC)</td>\n",
       "      <td>(Phần mềm Illustrator CC)</td>\n",
       "      <td>0.012964</td>\n",
       "      <td>0.022152</td>\n",
       "      <td>0.009392</td>\n",
       "      <td>0.724409</td>\n",
       "      <td>32.701912</td>\n",
       "      <td>0.009104</td>\n",
       "      <td>3.548192</td>\n",
       "      <td>0.982154</td>\n",
       "    </tr>\n",
       "    <tr>\n",
       "      <th>12</th>\n",
       "      <td>(Máy chiếu Sony VPL-CH350)</td>\n",
       "      <td>(Bộ micro và loa, Màn chiếu điện Grandview)</td>\n",
       "      <td>0.001429</td>\n",
       "      <td>0.001225</td>\n",
       "      <td>0.001021</td>\n",
       "      <td>0.714286</td>\n",
       "      <td>583.095238</td>\n",
       "      <td>0.001019</td>\n",
       "      <td>3.495713</td>\n",
       "      <td>0.999714</td>\n",
       "    </tr>\n",
       "  </tbody>\n",
       "</table>\n",
       "</div>"
      ],
      "text/plain": [
       "                                          antecedents  \\\n",
       "0               (Bộ bàn phím chuột, Dịch vụ bảo hành)   \n",
       "1         (Máy chiếu Sony VPL-CH350, Bộ micro và loa)   \n",
       "2                            (Camera quan sát VP3402)   \n",
       "3                          (Máy chiếu Sony VPL-CH350)   \n",
       "4              (Bộ bàn phím chuột, Máy tính xách tay)   \n",
       "5               (Dịch vụ bảo hành, Máy tính xách tay)   \n",
       "6                           (Phần mềm VMware vSphere)   \n",
       "7   (Máy chiếu Sony VPL-CH350, Màn chiếu điện Gran...   \n",
       "8         (Bộ micro và loa, Màn chiếu điện Grandview)   \n",
       "9                          (Máy chiếu Sony VPL-CH350)   \n",
       "10                            (Phần mềm SketchUp Pro)   \n",
       "11                            (Phần mềm Photoshop CC)   \n",
       "12                         (Máy chiếu Sony VPL-CH350)   \n",
       "\n",
       "                                    consequents  antecedent support  \\\n",
       "0                           (Máy tính xách tay)            0.001225   \n",
       "1                    (Màn chiếu điện Grandview)            0.001123   \n",
       "2                             (Bộ lưu điện UPS)            0.001531   \n",
       "3                    (Màn chiếu điện Grandview)            0.001429   \n",
       "4                            (Dịch vụ bảo hành)            0.001327   \n",
       "5                           (Bộ bàn phím chuột)            0.001327   \n",
       "6                 (Phần mềm Kaspersky Endpoint)            0.005819   \n",
       "7                             (Bộ micro và loa)            0.001225   \n",
       "8                    (Máy chiếu Sony VPL-CH350)            0.001225   \n",
       "9                             (Bộ micro và loa)            0.001429   \n",
       "10                  (Phần mềm Autodesk AutoCAD)            0.004696   \n",
       "11                    (Phần mềm Illustrator CC)            0.012964   \n",
       "12  (Bộ micro và loa, Màn chiếu điện Grandview)            0.001429   \n",
       "\n",
       "    consequent support   support  confidence        lift  leverage  \\\n",
       "0             0.023785  0.001123    0.916667   38.539342  0.001094   \n",
       "1             0.002348  0.001021    0.909091  387.193676  0.001018   \n",
       "2             0.003675  0.001327    0.866667  235.829630  0.001321   \n",
       "3             0.002348  0.001225    0.857143  365.068323  0.001222   \n",
       "4             0.002552  0.001123    0.846154  331.556923  0.001120   \n",
       "5             0.004083  0.001123    0.846154  207.223077  0.001117   \n",
       "6             0.011433  0.004900    0.842105   73.654135  0.004833   \n",
       "7             0.002348  0.001021    0.833333  354.927536  0.001018   \n",
       "8             0.001429  0.001021    0.833333  583.095238  0.001019   \n",
       "9             0.002348  0.001123    0.785714  334.645963  0.001120   \n",
       "10            0.019294  0.003471    0.739130   38.309639  0.003380   \n",
       "11            0.022152  0.009392    0.724409   32.701912  0.009104   \n",
       "12            0.001225  0.001021    0.714286  583.095238  0.001019   \n",
       "\n",
       "    conviction  zhangs_metric  \n",
       "0    11.714577       0.975247  \n",
       "1    10.974173       0.998539  \n",
       "2     7.472438       0.997287  \n",
       "3     6.983565       0.998688  \n",
       "4     6.483412       0.998309  \n",
       "5     6.473459       0.996497  \n",
       "6     6.260923       0.992196  \n",
       "7     5.985913       0.998406  \n",
       "8     5.991425       0.999509  \n",
       "9     4.655710       0.998439  \n",
       "10    3.759375       0.978492  \n",
       "11    3.548192       0.982154  \n",
       "12    3.495713       0.999714  "
      ]
     },
     "execution_count": 35,
     "metadata": {},
     "output_type": "execute_result"
    }
   ],
   "source": [
    "#Tìm các luật kết hợp từ tập phổ biến với lift tối thiểu bằng 1 và độ tin cậy lớn hơn 0.5\n",
    "rules = association_rules(frequent_itemsets, metric=\"lift\", min_threshold=1)\n",
    "rules = rules[rules['confidence']>0.6]\n",
    "\n",
    "#Hiển thị theo độ tin cậy giảm dần\n",
    "rules.sort_values(['confidence'],ascending=False).reset_index(drop=True)"
   ]
  },
  {
   "cell_type": "markdown",
   "metadata": {},
   "source": [
    "<h2 style=\"font-family: 'Arial', sans-serif;  \">\n",
    "    🤖 Thuật toán FP-Growth\n",
    "</h2>\n"
   ]
  },
  {
   "cell_type": "code",
   "execution_count": 36,
   "metadata": {},
   "outputs": [
    {
     "data": {
      "text/html": [
       "<div>\n",
       "<style scoped>\n",
       "    .dataframe tbody tr th:only-of-type {\n",
       "        vertical-align: middle;\n",
       "    }\n",
       "\n",
       "    .dataframe tbody tr th {\n",
       "        vertical-align: top;\n",
       "    }\n",
       "\n",
       "    .dataframe thead th {\n",
       "        text-align: right;\n",
       "    }\n",
       "</style>\n",
       "<table border=\"1\" class=\"dataframe\">\n",
       "  <thead>\n",
       "    <tr style=\"text-align: right;\">\n",
       "      <th></th>\n",
       "      <th>support</th>\n",
       "      <th>itemsets</th>\n",
       "    </tr>\n",
       "  </thead>\n",
       "  <tbody>\n",
       "    <tr>\n",
       "      <th>0</th>\n",
       "      <td>0.011127</td>\n",
       "      <td>(Phần mềm Creative Cloud)</td>\n",
       "    </tr>\n",
       "    <tr>\n",
       "      <th>1</th>\n",
       "      <td>0.001735</td>\n",
       "      <td>(Phần mềm Mdeamon Pro)</td>\n",
       "    </tr>\n",
       "    <tr>\n",
       "      <th>2</th>\n",
       "      <td>0.015210</td>\n",
       "      <td>(Dịch vụ phần mềm)</td>\n",
       "    </tr>\n",
       "    <tr>\n",
       "      <th>3</th>\n",
       "      <td>0.004798</td>\n",
       "      <td>(Phần mềm Adobe Premiere)</td>\n",
       "    </tr>\n",
       "    <tr>\n",
       "      <th>4</th>\n",
       "      <td>0.002042</td>\n",
       "      <td>(Phần mềm Bluebeam Revu)</td>\n",
       "    </tr>\n",
       "    <tr>\n",
       "      <th>...</th>\n",
       "      <td>...</td>\n",
       "      <td>...</td>\n",
       "    </tr>\n",
       "    <tr>\n",
       "      <th>424</th>\n",
       "      <td>0.001225</td>\n",
       "      <td>(Bộ micro và loa, Màn chiếu điện Grandview)</td>\n",
       "    </tr>\n",
       "    <tr>\n",
       "      <th>425</th>\n",
       "      <td>0.001225</td>\n",
       "      <td>(Máy chiếu Sony VPL-CH350, Màn chiếu điện Gran...</td>\n",
       "    </tr>\n",
       "    <tr>\n",
       "      <th>426</th>\n",
       "      <td>0.001123</td>\n",
       "      <td>(Máy chiếu Sony VPL-CH350, Bộ micro và loa)</td>\n",
       "    </tr>\n",
       "    <tr>\n",
       "      <th>427</th>\n",
       "      <td>0.001021</td>\n",
       "      <td>(Máy chiếu Sony VPL-CH350, Bộ micro và loa, Mà...</td>\n",
       "    </tr>\n",
       "    <tr>\n",
       "      <th>428</th>\n",
       "      <td>0.001327</td>\n",
       "      <td>(Camera quan sát VP3402, Bộ lưu điện UPS)</td>\n",
       "    </tr>\n",
       "  </tbody>\n",
       "</table>\n",
       "<p>429 rows × 2 columns</p>\n",
       "</div>"
      ],
      "text/plain": [
       "      support                                           itemsets\n",
       "0    0.011127                          (Phần mềm Creative Cloud)\n",
       "1    0.001735                             (Phần mềm Mdeamon Pro)\n",
       "2    0.015210                                 (Dịch vụ phần mềm)\n",
       "3    0.004798                          (Phần mềm Adobe Premiere)\n",
       "4    0.002042                           (Phần mềm Bluebeam Revu)\n",
       "..        ...                                                ...\n",
       "424  0.001225        (Bộ micro và loa, Màn chiếu điện Grandview)\n",
       "425  0.001225  (Máy chiếu Sony VPL-CH350, Màn chiếu điện Gran...\n",
       "426  0.001123        (Máy chiếu Sony VPL-CH350, Bộ micro và loa)\n",
       "427  0.001021  (Máy chiếu Sony VPL-CH350, Bộ micro và loa, Mà...\n",
       "428  0.001327          (Camera quan sát VP3402, Bộ lưu điện UPS)\n",
       "\n",
       "[429 rows x 2 columns]"
      ]
     },
     "execution_count": 36,
     "metadata": {},
     "output_type": "execute_result"
    }
   ],
   "source": [
    "from mlxtend.frequent_patterns import fpgrowth\n",
    "from mlxtend.frequent_patterns import association_rules\n",
    "\n",
    "# tìm các tập mục thường xuyên với min support = 0.001\n",
    "frequentItems_of_FP = fpgrowth(basket_sets, use_colnames=True, min_support=0.001)\n",
    "frequentItems_of_FP"
   ]
  },
  {
   "cell_type": "code",
   "execution_count": 37,
   "metadata": {},
   "outputs": [
    {
     "data": {
      "text/html": [
       "<div>\n",
       "<style scoped>\n",
       "    .dataframe tbody tr th:only-of-type {\n",
       "        vertical-align: middle;\n",
       "    }\n",
       "\n",
       "    .dataframe tbody tr th {\n",
       "        vertical-align: top;\n",
       "    }\n",
       "\n",
       "    .dataframe thead th {\n",
       "        text-align: right;\n",
       "    }\n",
       "</style>\n",
       "<table border=\"1\" class=\"dataframe\">\n",
       "  <thead>\n",
       "    <tr style=\"text-align: right;\">\n",
       "      <th></th>\n",
       "      <th>antecedents</th>\n",
       "      <th>consequents</th>\n",
       "      <th>antecedent support</th>\n",
       "      <th>consequent support</th>\n",
       "      <th>support</th>\n",
       "      <th>confidence</th>\n",
       "      <th>lift</th>\n",
       "      <th>leverage</th>\n",
       "      <th>conviction</th>\n",
       "      <th>zhangs_metric</th>\n",
       "    </tr>\n",
       "  </thead>\n",
       "  <tbody>\n",
       "    <tr>\n",
       "      <th>0</th>\n",
       "      <td>(Bộ bàn phím chuột, Dịch vụ bảo hành)</td>\n",
       "      <td>(Máy tính xách tay)</td>\n",
       "      <td>0.001225</td>\n",
       "      <td>0.023785</td>\n",
       "      <td>0.001123</td>\n",
       "      <td>0.916667</td>\n",
       "      <td>38.539342</td>\n",
       "      <td>0.001094</td>\n",
       "      <td>11.714577</td>\n",
       "      <td>0.975247</td>\n",
       "    </tr>\n",
       "    <tr>\n",
       "      <th>1</th>\n",
       "      <td>(Máy chiếu Sony VPL-CH350, Bộ micro và loa)</td>\n",
       "      <td>(Màn chiếu điện Grandview)</td>\n",
       "      <td>0.001123</td>\n",
       "      <td>0.002348</td>\n",
       "      <td>0.001021</td>\n",
       "      <td>0.909091</td>\n",
       "      <td>387.193676</td>\n",
       "      <td>0.001018</td>\n",
       "      <td>10.974173</td>\n",
       "      <td>0.998539</td>\n",
       "    </tr>\n",
       "    <tr>\n",
       "      <th>2</th>\n",
       "      <td>(Camera quan sát VP3402)</td>\n",
       "      <td>(Bộ lưu điện UPS)</td>\n",
       "      <td>0.001531</td>\n",
       "      <td>0.003675</td>\n",
       "      <td>0.001327</td>\n",
       "      <td>0.866667</td>\n",
       "      <td>235.829630</td>\n",
       "      <td>0.001321</td>\n",
       "      <td>7.472438</td>\n",
       "      <td>0.997287</td>\n",
       "    </tr>\n",
       "    <tr>\n",
       "      <th>3</th>\n",
       "      <td>(Máy chiếu Sony VPL-CH350)</td>\n",
       "      <td>(Màn chiếu điện Grandview)</td>\n",
       "      <td>0.001429</td>\n",
       "      <td>0.002348</td>\n",
       "      <td>0.001225</td>\n",
       "      <td>0.857143</td>\n",
       "      <td>365.068323</td>\n",
       "      <td>0.001222</td>\n",
       "      <td>6.983565</td>\n",
       "      <td>0.998688</td>\n",
       "    </tr>\n",
       "    <tr>\n",
       "      <th>4</th>\n",
       "      <td>(Bộ bàn phím chuột, Máy tính xách tay)</td>\n",
       "      <td>(Dịch vụ bảo hành)</td>\n",
       "      <td>0.001327</td>\n",
       "      <td>0.002552</td>\n",
       "      <td>0.001123</td>\n",
       "      <td>0.846154</td>\n",
       "      <td>331.556923</td>\n",
       "      <td>0.001120</td>\n",
       "      <td>6.483412</td>\n",
       "      <td>0.998309</td>\n",
       "    </tr>\n",
       "    <tr>\n",
       "      <th>5</th>\n",
       "      <td>(Dịch vụ bảo hành, Máy tính xách tay)</td>\n",
       "      <td>(Bộ bàn phím chuột)</td>\n",
       "      <td>0.001327</td>\n",
       "      <td>0.004083</td>\n",
       "      <td>0.001123</td>\n",
       "      <td>0.846154</td>\n",
       "      <td>207.223077</td>\n",
       "      <td>0.001117</td>\n",
       "      <td>6.473459</td>\n",
       "      <td>0.996497</td>\n",
       "    </tr>\n",
       "    <tr>\n",
       "      <th>6</th>\n",
       "      <td>(Phần mềm VMware vSphere)</td>\n",
       "      <td>(Phần mềm Kaspersky Endpoint)</td>\n",
       "      <td>0.005819</td>\n",
       "      <td>0.011433</td>\n",
       "      <td>0.004900</td>\n",
       "      <td>0.842105</td>\n",
       "      <td>73.654135</td>\n",
       "      <td>0.004833</td>\n",
       "      <td>6.260923</td>\n",
       "      <td>0.992196</td>\n",
       "    </tr>\n",
       "    <tr>\n",
       "      <th>7</th>\n",
       "      <td>(Máy chiếu Sony VPL-CH350, Màn chiếu điện Gran...</td>\n",
       "      <td>(Bộ micro và loa)</td>\n",
       "      <td>0.001225</td>\n",
       "      <td>0.002348</td>\n",
       "      <td>0.001021</td>\n",
       "      <td>0.833333</td>\n",
       "      <td>354.927536</td>\n",
       "      <td>0.001018</td>\n",
       "      <td>5.985913</td>\n",
       "      <td>0.998406</td>\n",
       "    </tr>\n",
       "    <tr>\n",
       "      <th>8</th>\n",
       "      <td>(Bộ micro và loa, Màn chiếu điện Grandview)</td>\n",
       "      <td>(Máy chiếu Sony VPL-CH350)</td>\n",
       "      <td>0.001225</td>\n",
       "      <td>0.001429</td>\n",
       "      <td>0.001021</td>\n",
       "      <td>0.833333</td>\n",
       "      <td>583.095238</td>\n",
       "      <td>0.001019</td>\n",
       "      <td>5.991425</td>\n",
       "      <td>0.999509</td>\n",
       "    </tr>\n",
       "    <tr>\n",
       "      <th>9</th>\n",
       "      <td>(Máy chiếu Sony VPL-CH350)</td>\n",
       "      <td>(Bộ micro và loa)</td>\n",
       "      <td>0.001429</td>\n",
       "      <td>0.002348</td>\n",
       "      <td>0.001123</td>\n",
       "      <td>0.785714</td>\n",
       "      <td>334.645963</td>\n",
       "      <td>0.001120</td>\n",
       "      <td>4.655710</td>\n",
       "      <td>0.998439</td>\n",
       "    </tr>\n",
       "    <tr>\n",
       "      <th>10</th>\n",
       "      <td>(Phần mềm SketchUp Pro)</td>\n",
       "      <td>(Phần mềm Autodesk AutoCAD)</td>\n",
       "      <td>0.004696</td>\n",
       "      <td>0.019294</td>\n",
       "      <td>0.003471</td>\n",
       "      <td>0.739130</td>\n",
       "      <td>38.309639</td>\n",
       "      <td>0.003380</td>\n",
       "      <td>3.759375</td>\n",
       "      <td>0.978492</td>\n",
       "    </tr>\n",
       "    <tr>\n",
       "      <th>11</th>\n",
       "      <td>(Phần mềm Photoshop CC)</td>\n",
       "      <td>(Phần mềm Illustrator CC)</td>\n",
       "      <td>0.012964</td>\n",
       "      <td>0.022152</td>\n",
       "      <td>0.009392</td>\n",
       "      <td>0.724409</td>\n",
       "      <td>32.701912</td>\n",
       "      <td>0.009104</td>\n",
       "      <td>3.548192</td>\n",
       "      <td>0.982154</td>\n",
       "    </tr>\n",
       "    <tr>\n",
       "      <th>12</th>\n",
       "      <td>(Máy chiếu Sony VPL-CH350)</td>\n",
       "      <td>(Bộ micro và loa, Màn chiếu điện Grandview)</td>\n",
       "      <td>0.001429</td>\n",
       "      <td>0.001225</td>\n",
       "      <td>0.001021</td>\n",
       "      <td>0.714286</td>\n",
       "      <td>583.095238</td>\n",
       "      <td>0.001019</td>\n",
       "      <td>3.495713</td>\n",
       "      <td>0.999714</td>\n",
       "    </tr>\n",
       "  </tbody>\n",
       "</table>\n",
       "</div>"
      ],
      "text/plain": [
       "                                          antecedents  \\\n",
       "0               (Bộ bàn phím chuột, Dịch vụ bảo hành)   \n",
       "1         (Máy chiếu Sony VPL-CH350, Bộ micro và loa)   \n",
       "2                            (Camera quan sát VP3402)   \n",
       "3                          (Máy chiếu Sony VPL-CH350)   \n",
       "4              (Bộ bàn phím chuột, Máy tính xách tay)   \n",
       "5               (Dịch vụ bảo hành, Máy tính xách tay)   \n",
       "6                           (Phần mềm VMware vSphere)   \n",
       "7   (Máy chiếu Sony VPL-CH350, Màn chiếu điện Gran...   \n",
       "8         (Bộ micro và loa, Màn chiếu điện Grandview)   \n",
       "9                          (Máy chiếu Sony VPL-CH350)   \n",
       "10                            (Phần mềm SketchUp Pro)   \n",
       "11                            (Phần mềm Photoshop CC)   \n",
       "12                         (Máy chiếu Sony VPL-CH350)   \n",
       "\n",
       "                                    consequents  antecedent support  \\\n",
       "0                           (Máy tính xách tay)            0.001225   \n",
       "1                    (Màn chiếu điện Grandview)            0.001123   \n",
       "2                             (Bộ lưu điện UPS)            0.001531   \n",
       "3                    (Màn chiếu điện Grandview)            0.001429   \n",
       "4                            (Dịch vụ bảo hành)            0.001327   \n",
       "5                           (Bộ bàn phím chuột)            0.001327   \n",
       "6                 (Phần mềm Kaspersky Endpoint)            0.005819   \n",
       "7                             (Bộ micro và loa)            0.001225   \n",
       "8                    (Máy chiếu Sony VPL-CH350)            0.001225   \n",
       "9                             (Bộ micro và loa)            0.001429   \n",
       "10                  (Phần mềm Autodesk AutoCAD)            0.004696   \n",
       "11                    (Phần mềm Illustrator CC)            0.012964   \n",
       "12  (Bộ micro và loa, Màn chiếu điện Grandview)            0.001429   \n",
       "\n",
       "    consequent support   support  confidence        lift  leverage  \\\n",
       "0             0.023785  0.001123    0.916667   38.539342  0.001094   \n",
       "1             0.002348  0.001021    0.909091  387.193676  0.001018   \n",
       "2             0.003675  0.001327    0.866667  235.829630  0.001321   \n",
       "3             0.002348  0.001225    0.857143  365.068323  0.001222   \n",
       "4             0.002552  0.001123    0.846154  331.556923  0.001120   \n",
       "5             0.004083  0.001123    0.846154  207.223077  0.001117   \n",
       "6             0.011433  0.004900    0.842105   73.654135  0.004833   \n",
       "7             0.002348  0.001021    0.833333  354.927536  0.001018   \n",
       "8             0.001429  0.001021    0.833333  583.095238  0.001019   \n",
       "9             0.002348  0.001123    0.785714  334.645963  0.001120   \n",
       "10            0.019294  0.003471    0.739130   38.309639  0.003380   \n",
       "11            0.022152  0.009392    0.724409   32.701912  0.009104   \n",
       "12            0.001225  0.001021    0.714286  583.095238  0.001019   \n",
       "\n",
       "    conviction  zhangs_metric  \n",
       "0    11.714577       0.975247  \n",
       "1    10.974173       0.998539  \n",
       "2     7.472438       0.997287  \n",
       "3     6.983565       0.998688  \n",
       "4     6.483412       0.998309  \n",
       "5     6.473459       0.996497  \n",
       "6     6.260923       0.992196  \n",
       "7     5.985913       0.998406  \n",
       "8     5.991425       0.999509  \n",
       "9     4.655710       0.998439  \n",
       "10    3.759375       0.978492  \n",
       "11    3.548192       0.982154  \n",
       "12    3.495713       0.999714  "
      ]
     },
     "execution_count": 37,
     "metadata": {},
     "output_type": "execute_result"
    }
   ],
   "source": [
    "#Tìm các luật kết hợp từ tập phổ biến với lift tối thiểu bằng 1 và độ tin cậy lớn hơn 0.5\n",
    "rules = association_rules(frequentItems_of_FP, metric=\"lift\", min_threshold=1)\n",
    "rules = rules[rules['confidence']>0.6]\n",
    "\n",
    "#Hiển thị theo độ tin cậy giảm dần\n",
    "rules.sort_values(['confidence'],ascending=False).reset_index(drop=True)"
   ]
  },
  {
   "cell_type": "code",
   "execution_count": 38,
   "metadata": {},
   "outputs": [],
   "source": [
    "rules.to_csv('lkh.csv', index=False)"
   ]
  },
  {
   "cell_type": "markdown",
   "metadata": {},
   "source": [
    "## 📊 **Trực quan hóa các luật kết hợp**\n"
   ]
  },
  {
   "cell_type": "code",
   "execution_count": 39,
   "metadata": {},
   "outputs": [
    {
     "name": "stderr",
     "output_type": "stream",
     "text": [
      "c:\\Users\\ADMIN\\anaconda3\\Lib\\site-packages\\plotly\\io\\_renderers.py:395: DeprecationWarning:\n",
      "\n",
      "distutils Version classes are deprecated. Use packaging.version instead.\n",
      "\n",
      "c:\\Users\\ADMIN\\anaconda3\\Lib\\site-packages\\plotly\\io\\_renderers.py:395: DeprecationWarning:\n",
      "\n",
      "distutils Version classes are deprecated. Use packaging.version instead.\n",
      "\n"
     ]
    },
    {
     "data": {
      "application/vnd.plotly.v1+json": {
       "config": {
        "plotlyServerURL": "https://plot.ly"
       },
       "data": [
        {
         "customdata": [
          [
           73.65413533834587
          ],
          [
           32.701912260967376
          ],
          [
           38.539341917024316
          ],
          [
           331.5569230769231
          ],
          [
           207.22307692307692
          ],
          [
           38.30963883137797
          ],
          [
           365.06832298136646
          ],
          [
           334.64596273291926
          ],
          [
           387.19367588932806
          ],
          [
           354.92753623188406
          ],
          [
           583.0952380952381
          ],
          [
           583.0952380952381
          ],
          [
           235.82962962962964
          ]
         ],
         "hovertemplate": "<b>%{hovertext}</b><br><br>Support=%{x}<br>Confidence=%{y}<br>lift=%{marker.color}<extra></extra>",
         "hovertext": [
          "['Phần mềm VMware vSphere'] -> ['Phần mềm Kaspersky Endpoint']",
          "['Phần mềm Photoshop CC'] -> ['Phần mềm Illustrator CC']",
          "['Bộ bàn phím chuột', 'Dịch vụ bảo hành'] -> ['Máy tính xách tay']",
          "['Bộ bàn phím chuột', 'Máy tính xách tay'] -> ['Dịch vụ bảo hành']",
          "['Dịch vụ bảo hành', 'Máy tính xách tay'] -> ['Bộ bàn phím chuột']",
          "['Phần mềm SketchUp Pro'] -> ['Phần mềm Autodesk AutoCAD']",
          "['Máy chiếu Sony VPL-CH350'] -> ['Màn chiếu điện Grandview']",
          "['Máy chiếu Sony VPL-CH350'] -> ['Bộ micro và loa']",
          "['Máy chiếu Sony VPL-CH350', 'Bộ micro và loa'] -> ['Màn chiếu điện Grandview']",
          "['Máy chiếu Sony VPL-CH350', 'Màn chiếu điện Grandview'] -> ['Bộ micro và loa']",
          "['Bộ micro và loa', 'Màn chiếu điện Grandview'] -> ['Máy chiếu Sony VPL-CH350']",
          "['Máy chiếu Sony VPL-CH350'] -> ['Bộ micro và loa', 'Màn chiếu điện Grandview']",
          "['Camera quan sát VP3402'] -> ['Bộ lưu điện UPS']"
         ],
         "legendgroup": "",
         "marker": {
          "color": [
           73.65413533834587,
           32.701912260967376,
           38.539341917024316,
           331.5569230769231,
           207.22307692307692,
           38.30963883137797,
           365.06832298136646,
           334.64596273291926,
           387.19367588932806,
           354.92753623188406,
           583.0952380952381,
           583.0952380952381,
           235.82962962962964
          ],
          "coloraxis": "coloraxis",
          "size": [
           73.65413533834587,
           32.701912260967376,
           38.539341917024316,
           331.5569230769231,
           207.22307692307692,
           38.30963883137797,
           365.06832298136646,
           334.64596273291926,
           387.19367588932806,
           354.92753623188406,
           583.0952380952381,
           583.0952380952381,
           235.82962962962964
          ],
          "sizemode": "area",
          "sizeref": 1.4577380952380952,
          "symbol": "circle"
         },
         "mode": "markers",
         "name": "",
         "orientation": "v",
         "showlegend": false,
         "type": "scatter",
         "x": [
          0.004899959167006942,
          0.009391588403429971,
          0.0011229073091057575,
          0.0011229073091057575,
          0.0011229073091057575,
          0.0034708044099632505,
          0.0012249897917517355,
          0.0011229073091057575,
          0.0010208248264597796,
          0.0010208248264597796,
          0.0010208248264597796,
          0.0010208248264597796,
          0.0013270722743977134
         ],
         "xaxis": "x",
         "y": [
          0.8421052631578948,
          0.7244094488188976,
          0.9166666666666666,
          0.8461538461538461,
          0.8461538461538461,
          0.7391304347826088,
          0.8571428571428571,
          0.7857142857142857,
          0.9090909090909091,
          0.8333333333333334,
          0.8333333333333334,
          0.7142857142857143,
          0.8666666666666667
         ],
         "yaxis": "y"
        }
       ],
       "layout": {
        "coloraxis": {
         "colorbar": {
          "title": {
           "text": "Lift"
          }
         },
         "colorscale": [
          [
           0,
           "#0d0887"
          ],
          [
           0.1111111111111111,
           "#46039f"
          ],
          [
           0.2222222222222222,
           "#7201a8"
          ],
          [
           0.3333333333333333,
           "#9c179e"
          ],
          [
           0.4444444444444444,
           "#bd3786"
          ],
          [
           0.5555555555555556,
           "#d8576b"
          ],
          [
           0.6666666666666666,
           "#ed7953"
          ],
          [
           0.7777777777777778,
           "#fb9f3a"
          ],
          [
           0.8888888888888888,
           "#fdca26"
          ],
          [
           1,
           "#f0f921"
          ]
         ]
        },
        "height": 400,
        "legend": {
         "itemsizing": "constant",
         "tracegroupgap": 0
        },
        "showlegend": true,
        "template": {
         "data": {
          "bar": [
           {
            "error_x": {
             "color": "#2a3f5f"
            },
            "error_y": {
             "color": "#2a3f5f"
            },
            "marker": {
             "line": {
              "color": "#E5ECF6",
              "width": 0.5
             },
             "pattern": {
              "fillmode": "overlay",
              "size": 10,
              "solidity": 0.2
             }
            },
            "type": "bar"
           }
          ],
          "barpolar": [
           {
            "marker": {
             "line": {
              "color": "#E5ECF6",
              "width": 0.5
             },
             "pattern": {
              "fillmode": "overlay",
              "size": 10,
              "solidity": 0.2
             }
            },
            "type": "barpolar"
           }
          ],
          "carpet": [
           {
            "aaxis": {
             "endlinecolor": "#2a3f5f",
             "gridcolor": "white",
             "linecolor": "white",
             "minorgridcolor": "white",
             "startlinecolor": "#2a3f5f"
            },
            "baxis": {
             "endlinecolor": "#2a3f5f",
             "gridcolor": "white",
             "linecolor": "white",
             "minorgridcolor": "white",
             "startlinecolor": "#2a3f5f"
            },
            "type": "carpet"
           }
          ],
          "choropleth": [
           {
            "colorbar": {
             "outlinewidth": 0,
             "ticks": ""
            },
            "type": "choropleth"
           }
          ],
          "contour": [
           {
            "colorbar": {
             "outlinewidth": 0,
             "ticks": ""
            },
            "colorscale": [
             [
              0,
              "#0d0887"
             ],
             [
              0.1111111111111111,
              "#46039f"
             ],
             [
              0.2222222222222222,
              "#7201a8"
             ],
             [
              0.3333333333333333,
              "#9c179e"
             ],
             [
              0.4444444444444444,
              "#bd3786"
             ],
             [
              0.5555555555555556,
              "#d8576b"
             ],
             [
              0.6666666666666666,
              "#ed7953"
             ],
             [
              0.7777777777777778,
              "#fb9f3a"
             ],
             [
              0.8888888888888888,
              "#fdca26"
             ],
             [
              1,
              "#f0f921"
             ]
            ],
            "type": "contour"
           }
          ],
          "contourcarpet": [
           {
            "colorbar": {
             "outlinewidth": 0,
             "ticks": ""
            },
            "type": "contourcarpet"
           }
          ],
          "heatmap": [
           {
            "colorbar": {
             "outlinewidth": 0,
             "ticks": ""
            },
            "colorscale": [
             [
              0,
              "#0d0887"
             ],
             [
              0.1111111111111111,
              "#46039f"
             ],
             [
              0.2222222222222222,
              "#7201a8"
             ],
             [
              0.3333333333333333,
              "#9c179e"
             ],
             [
              0.4444444444444444,
              "#bd3786"
             ],
             [
              0.5555555555555556,
              "#d8576b"
             ],
             [
              0.6666666666666666,
              "#ed7953"
             ],
             [
              0.7777777777777778,
              "#fb9f3a"
             ],
             [
              0.8888888888888888,
              "#fdca26"
             ],
             [
              1,
              "#f0f921"
             ]
            ],
            "type": "heatmap"
           }
          ],
          "heatmapgl": [
           {
            "colorbar": {
             "outlinewidth": 0,
             "ticks": ""
            },
            "colorscale": [
             [
              0,
              "#0d0887"
             ],
             [
              0.1111111111111111,
              "#46039f"
             ],
             [
              0.2222222222222222,
              "#7201a8"
             ],
             [
              0.3333333333333333,
              "#9c179e"
             ],
             [
              0.4444444444444444,
              "#bd3786"
             ],
             [
              0.5555555555555556,
              "#d8576b"
             ],
             [
              0.6666666666666666,
              "#ed7953"
             ],
             [
              0.7777777777777778,
              "#fb9f3a"
             ],
             [
              0.8888888888888888,
              "#fdca26"
             ],
             [
              1,
              "#f0f921"
             ]
            ],
            "type": "heatmapgl"
           }
          ],
          "histogram": [
           {
            "marker": {
             "pattern": {
              "fillmode": "overlay",
              "size": 10,
              "solidity": 0.2
             }
            },
            "type": "histogram"
           }
          ],
          "histogram2d": [
           {
            "colorbar": {
             "outlinewidth": 0,
             "ticks": ""
            },
            "colorscale": [
             [
              0,
              "#0d0887"
             ],
             [
              0.1111111111111111,
              "#46039f"
             ],
             [
              0.2222222222222222,
              "#7201a8"
             ],
             [
              0.3333333333333333,
              "#9c179e"
             ],
             [
              0.4444444444444444,
              "#bd3786"
             ],
             [
              0.5555555555555556,
              "#d8576b"
             ],
             [
              0.6666666666666666,
              "#ed7953"
             ],
             [
              0.7777777777777778,
              "#fb9f3a"
             ],
             [
              0.8888888888888888,
              "#fdca26"
             ],
             [
              1,
              "#f0f921"
             ]
            ],
            "type": "histogram2d"
           }
          ],
          "histogram2dcontour": [
           {
            "colorbar": {
             "outlinewidth": 0,
             "ticks": ""
            },
            "colorscale": [
             [
              0,
              "#0d0887"
             ],
             [
              0.1111111111111111,
              "#46039f"
             ],
             [
              0.2222222222222222,
              "#7201a8"
             ],
             [
              0.3333333333333333,
              "#9c179e"
             ],
             [
              0.4444444444444444,
              "#bd3786"
             ],
             [
              0.5555555555555556,
              "#d8576b"
             ],
             [
              0.6666666666666666,
              "#ed7953"
             ],
             [
              0.7777777777777778,
              "#fb9f3a"
             ],
             [
              0.8888888888888888,
              "#fdca26"
             ],
             [
              1,
              "#f0f921"
             ]
            ],
            "type": "histogram2dcontour"
           }
          ],
          "mesh3d": [
           {
            "colorbar": {
             "outlinewidth": 0,
             "ticks": ""
            },
            "type": "mesh3d"
           }
          ],
          "parcoords": [
           {
            "line": {
             "colorbar": {
              "outlinewidth": 0,
              "ticks": ""
             }
            },
            "type": "parcoords"
           }
          ],
          "pie": [
           {
            "automargin": true,
            "type": "pie"
           }
          ],
          "scatter": [
           {
            "fillpattern": {
             "fillmode": "overlay",
             "size": 10,
             "solidity": 0.2
            },
            "type": "scatter"
           }
          ],
          "scatter3d": [
           {
            "line": {
             "colorbar": {
              "outlinewidth": 0,
              "ticks": ""
             }
            },
            "marker": {
             "colorbar": {
              "outlinewidth": 0,
              "ticks": ""
             }
            },
            "type": "scatter3d"
           }
          ],
          "scattercarpet": [
           {
            "marker": {
             "colorbar": {
              "outlinewidth": 0,
              "ticks": ""
             }
            },
            "type": "scattercarpet"
           }
          ],
          "scattergeo": [
           {
            "marker": {
             "colorbar": {
              "outlinewidth": 0,
              "ticks": ""
             }
            },
            "type": "scattergeo"
           }
          ],
          "scattergl": [
           {
            "marker": {
             "colorbar": {
              "outlinewidth": 0,
              "ticks": ""
             }
            },
            "type": "scattergl"
           }
          ],
          "scattermapbox": [
           {
            "marker": {
             "colorbar": {
              "outlinewidth": 0,
              "ticks": ""
             }
            },
            "type": "scattermapbox"
           }
          ],
          "scatterpolar": [
           {
            "marker": {
             "colorbar": {
              "outlinewidth": 0,
              "ticks": ""
             }
            },
            "type": "scatterpolar"
           }
          ],
          "scatterpolargl": [
           {
            "marker": {
             "colorbar": {
              "outlinewidth": 0,
              "ticks": ""
             }
            },
            "type": "scatterpolargl"
           }
          ],
          "scatterternary": [
           {
            "marker": {
             "colorbar": {
              "outlinewidth": 0,
              "ticks": ""
             }
            },
            "type": "scatterternary"
           }
          ],
          "surface": [
           {
            "colorbar": {
             "outlinewidth": 0,
             "ticks": ""
            },
            "colorscale": [
             [
              0,
              "#0d0887"
             ],
             [
              0.1111111111111111,
              "#46039f"
             ],
             [
              0.2222222222222222,
              "#7201a8"
             ],
             [
              0.3333333333333333,
              "#9c179e"
             ],
             [
              0.4444444444444444,
              "#bd3786"
             ],
             [
              0.5555555555555556,
              "#d8576b"
             ],
             [
              0.6666666666666666,
              "#ed7953"
             ],
             [
              0.7777777777777778,
              "#fb9f3a"
             ],
             [
              0.8888888888888888,
              "#fdca26"
             ],
             [
              1,
              "#f0f921"
             ]
            ],
            "type": "surface"
           }
          ],
          "table": [
           {
            "cells": {
             "fill": {
              "color": "#EBF0F8"
             },
             "line": {
              "color": "white"
             }
            },
            "header": {
             "fill": {
              "color": "#C8D4E3"
             },
             "line": {
              "color": "white"
             }
            },
            "type": "table"
           }
          ]
         },
         "layout": {
          "annotationdefaults": {
           "arrowcolor": "#2a3f5f",
           "arrowhead": 0,
           "arrowwidth": 1
          },
          "autotypenumbers": "strict",
          "coloraxis": {
           "colorbar": {
            "outlinewidth": 0,
            "ticks": ""
           }
          },
          "colorscale": {
           "diverging": [
            [
             0,
             "#8e0152"
            ],
            [
             0.1,
             "#c51b7d"
            ],
            [
             0.2,
             "#de77ae"
            ],
            [
             0.3,
             "#f1b6da"
            ],
            [
             0.4,
             "#fde0ef"
            ],
            [
             0.5,
             "#f7f7f7"
            ],
            [
             0.6,
             "#e6f5d0"
            ],
            [
             0.7,
             "#b8e186"
            ],
            [
             0.8,
             "#7fbc41"
            ],
            [
             0.9,
             "#4d9221"
            ],
            [
             1,
             "#276419"
            ]
           ],
           "sequential": [
            [
             0,
             "#0d0887"
            ],
            [
             0.1111111111111111,
             "#46039f"
            ],
            [
             0.2222222222222222,
             "#7201a8"
            ],
            [
             0.3333333333333333,
             "#9c179e"
            ],
            [
             0.4444444444444444,
             "#bd3786"
            ],
            [
             0.5555555555555556,
             "#d8576b"
            ],
            [
             0.6666666666666666,
             "#ed7953"
            ],
            [
             0.7777777777777778,
             "#fb9f3a"
            ],
            [
             0.8888888888888888,
             "#fdca26"
            ],
            [
             1,
             "#f0f921"
            ]
           ],
           "sequentialminus": [
            [
             0,
             "#0d0887"
            ],
            [
             0.1111111111111111,
             "#46039f"
            ],
            [
             0.2222222222222222,
             "#7201a8"
            ],
            [
             0.3333333333333333,
             "#9c179e"
            ],
            [
             0.4444444444444444,
             "#bd3786"
            ],
            [
             0.5555555555555556,
             "#d8576b"
            ],
            [
             0.6666666666666666,
             "#ed7953"
            ],
            [
             0.7777777777777778,
             "#fb9f3a"
            ],
            [
             0.8888888888888888,
             "#fdca26"
            ],
            [
             1,
             "#f0f921"
            ]
           ]
          },
          "colorway": [
           "#636efa",
           "#EF553B",
           "#00cc96",
           "#ab63fa",
           "#FFA15A",
           "#19d3f3",
           "#FF6692",
           "#B6E880",
           "#FF97FF",
           "#FECB52"
          ],
          "font": {
           "color": "#2a3f5f"
          },
          "geo": {
           "bgcolor": "white",
           "lakecolor": "white",
           "landcolor": "#E5ECF6",
           "showlakes": true,
           "showland": true,
           "subunitcolor": "white"
          },
          "hoverlabel": {
           "align": "left"
          },
          "hovermode": "closest",
          "mapbox": {
           "style": "light"
          },
          "paper_bgcolor": "white",
          "plot_bgcolor": "#E5ECF6",
          "polar": {
           "angularaxis": {
            "gridcolor": "white",
            "linecolor": "white",
            "ticks": ""
           },
           "bgcolor": "#E5ECF6",
           "radialaxis": {
            "gridcolor": "white",
            "linecolor": "white",
            "ticks": ""
           }
          },
          "scene": {
           "xaxis": {
            "backgroundcolor": "#E5ECF6",
            "gridcolor": "white",
            "gridwidth": 2,
            "linecolor": "white",
            "showbackground": true,
            "ticks": "",
            "zerolinecolor": "white"
           },
           "yaxis": {
            "backgroundcolor": "#E5ECF6",
            "gridcolor": "white",
            "gridwidth": 2,
            "linecolor": "white",
            "showbackground": true,
            "ticks": "",
            "zerolinecolor": "white"
           },
           "zaxis": {
            "backgroundcolor": "#E5ECF6",
            "gridcolor": "white",
            "gridwidth": 2,
            "linecolor": "white",
            "showbackground": true,
            "ticks": "",
            "zerolinecolor": "white"
           }
          },
          "shapedefaults": {
           "line": {
            "color": "#2a3f5f"
           }
          },
          "ternary": {
           "aaxis": {
            "gridcolor": "white",
            "linecolor": "white",
            "ticks": ""
           },
           "baxis": {
            "gridcolor": "white",
            "linecolor": "white",
            "ticks": ""
           },
           "bgcolor": "#E5ECF6",
           "caxis": {
            "gridcolor": "white",
            "linecolor": "white",
            "ticks": ""
           }
          },
          "title": {
           "x": 0.05
          },
          "xaxis": {
           "automargin": true,
           "gridcolor": "white",
           "linecolor": "white",
           "ticks": "",
           "title": {
            "standoff": 15
           },
           "zerolinecolor": "white",
           "zerolinewidth": 2
          },
          "yaxis": {
           "automargin": true,
           "gridcolor": "white",
           "linecolor": "white",
           "ticks": "",
           "title": {
            "standoff": 15
           },
           "zerolinecolor": "white",
           "zerolinewidth": 2
          }
         }
        },
        "title": {
         "text": "Trực quan hóa các luật kết hợp"
        },
        "width": 900,
        "xaxis": {
         "anchor": "y",
         "domain": [
          0,
          1
         ],
         "title": {
          "text": "Support"
         }
        },
        "yaxis": {
         "anchor": "x",
         "domain": [
          0,
          1
         ],
         "title": {
          "text": "Confidence"
         }
        }
       }
      }
     },
     "metadata": {},
     "output_type": "display_data"
    }
   ],
   "source": [
    "# Import thư viện Plotly Express để vẽ biểu đồ tương tác\n",
    "import plotly.express as px\n",
    "\n",
    "# Chuyển đổi các giá trị frozenset thành list để dễ dàng serial hóa (lưu trữ) và hiển thị\n",
    "rules['antecedents'] = rules['antecedents'].apply(list)  # Áp dụng phương thức list() cho cột 'antecedents'\n",
    "rules['consequents'] = rules['consequents'].apply(list)  # Áp dụng phương thức list() cho cột 'consequents'\n",
    "\n",
    "# Kết hợp 'antecedents' và 'consequents' thành một cột mới để hiển thị khi di chuột qua (hover_name)\n",
    "rules['antecedents_consequents'] = rules['antecedents'].astype(str) + ' -> ' + rules['consequents'].astype(str)\n",
    "\n",
    "# Tạo biểu đồ phân tán (scatter plot) tương tác với các tham số:\n",
    "fig = px.scatter(rules, \n",
    "                 x=\"support\",         # Trục x là Support\n",
    "                 y=\"confidence\",      # Trục y là Confidence\n",
    "                 size=\"lift\",         # Kích thước các điểm phụ thuộc vào Lift\n",
    "                 color=\"lift\",        # Màu sắc của các điểm phụ thuộc vào Lift\n",
    "                 hover_name=\"antecedents_consequents\",  # Hiển thị tên luật khi di chuột qua\n",
    "                 hover_data={\"support\": True, \"confidence\": True, \"lift\": True},  # Hiển thị dữ liệu bổ sung khi di chuột qua\n",
    "                 title='Trực quan hóa các luật kết hợp',  # Tiêu đề biểu đồ\n",
    "                 labels={'support': 'Support', 'confidence': 'Confidence'})  # Đặt nhãn cho các trục\n",
    "\n",
    "# Tùy chỉnh bố cục của biểu đồ (layout)\n",
    "fig.update_layout(\n",
    "    xaxis_title='Support',      # Tiêu đề trục x\n",
    "    yaxis_title='Confidence',   # Tiêu đề trục y\n",
    "    coloraxis_colorbar_title='Lift',  # Tiêu đề thanh màu (colorbar) cho lift\n",
    "    showlegend=True             # Hiển thị legend (chú thích)\n",
    ")\n",
    "\n",
    "# Hiển thị biểu đồ tương tác\n",
    "fig.update_layout(\n",
    "    width=900,   # Đặt chiều rộng của biểu đồ\n",
    "    height=400   # Đặt chiều cao của biểu đồ\n",
    ")\n"
   ]
  },
  {
   "cell_type": "markdown",
   "metadata": {},
   "source": [
    "<h3>⚙️ <strong>Đánh giá hiệu suất của hai thuật toán</strong></h3>\n",
    "\n",
    "<p style=\"color:gray\">🔹 Với <code>min_support = 0.01</code>\n"
   ]
  },
  {
   "cell_type": "code",
   "execution_count": 40,
   "metadata": {},
   "outputs": [
    {
     "name": "stdout",
     "output_type": "stream",
     "text": [
      "6.13 ms ± 323 µs per loop (mean ± std. dev. of 7 runs, 100 loops each)\n"
     ]
    }
   ],
   "source": [
    "%timeit apriori(basket_sets, use_colnames=True, min_support=0.01)"
   ]
  },
  {
   "cell_type": "code",
   "execution_count": 41,
   "metadata": {},
   "outputs": [
    {
     "name": "stdout",
     "output_type": "stream",
     "text": [
      "41.7 ms ± 3.54 ms per loop (mean ± std. dev. of 7 runs, 10 loops each)\n"
     ]
    }
   ],
   "source": [
    "%timeit fpgrowth(basket_sets, use_colnames=True, min_support=0.01)"
   ]
  },
  {
   "cell_type": "markdown",
   "metadata": {},
   "source": [
    "<p style=\"color:gray\">🔹 Với <code>min_support = 0.005</code>"
   ]
  },
  {
   "cell_type": "code",
   "execution_count": 42,
   "metadata": {},
   "outputs": [
    {
     "name": "stdout",
     "output_type": "stream",
     "text": [
      "13.4 ms ± 1.46 ms per loop (mean ± std. dev. of 7 runs, 100 loops each)\n"
     ]
    }
   ],
   "source": [
    "%timeit apriori(basket_sets, use_colnames=True, min_support=0.005)"
   ]
  },
  {
   "cell_type": "code",
   "execution_count": 43,
   "metadata": {},
   "outputs": [
    {
     "name": "stdout",
     "output_type": "stream",
     "text": [
      "38.8 ms ± 922 µs per loop (mean ± std. dev. of 7 runs, 10 loops each)\n"
     ]
    }
   ],
   "source": [
    "%timeit fpgrowth(basket_sets, use_colnames=True, min_support=0.005)"
   ]
  },
  {
   "cell_type": "markdown",
   "metadata": {},
   "source": [
    "<p style=\"color:gray\">🔹 Với <code>min_support = 0.004</code>"
   ]
  },
  {
   "cell_type": "code",
   "execution_count": 44,
   "metadata": {},
   "outputs": [
    {
     "name": "stdout",
     "output_type": "stream",
     "text": [
      "23.3 ms ± 1.67 ms per loop (mean ± std. dev. of 7 runs, 10 loops each)\n"
     ]
    }
   ],
   "source": [
    "%timeit apriori(basket_sets, use_colnames=True, min_support=0.004)"
   ]
  },
  {
   "cell_type": "code",
   "execution_count": 45,
   "metadata": {},
   "outputs": [
    {
     "name": "stdout",
     "output_type": "stream",
     "text": [
      "38.2 ms ± 388 µs per loop (mean ± std. dev. of 7 runs, 10 loops each)\n"
     ]
    }
   ],
   "source": [
    "%timeit fpgrowth(basket_sets, use_colnames=True, min_support=0.004)"
   ]
  },
  {
   "cell_type": "markdown",
   "metadata": {},
   "source": [
    "<p style=\"color:gray\">🔹 Với <code>min_support = 0.003</code>"
   ]
  },
  {
   "cell_type": "code",
   "execution_count": 46,
   "metadata": {},
   "outputs": [
    {
     "name": "stdout",
     "output_type": "stream",
     "text": [
      "46.4 ms ± 2.44 ms per loop (mean ± std. dev. of 7 runs, 10 loops each)\n"
     ]
    }
   ],
   "source": [
    "%timeit apriori(basket_sets, use_colnames=True, min_support=0.003)"
   ]
  },
  {
   "cell_type": "code",
   "execution_count": 47,
   "metadata": {},
   "outputs": [
    {
     "name": "stdout",
     "output_type": "stream",
     "text": [
      "38.9 ms ± 235 µs per loop (mean ± std. dev. of 7 runs, 10 loops each)\n"
     ]
    }
   ],
   "source": [
    "%timeit fpgrowth(basket_sets, use_colnames=True, min_support=0.003)"
   ]
  },
  {
   "cell_type": "markdown",
   "metadata": {},
   "source": [
    "<p style=\"color:gray\">🔹 Với <code>min_support = 0.002</code>"
   ]
  },
  {
   "cell_type": "code",
   "execution_count": 48,
   "metadata": {},
   "outputs": [
    {
     "name": "stdout",
     "output_type": "stream",
     "text": [
      "151 ms ± 7.59 ms per loop (mean ± std. dev. of 7 runs, 1 loop each)\n"
     ]
    }
   ],
   "source": [
    "%timeit apriori(basket_sets, use_colnames=True, min_support=0.002)"
   ]
  },
  {
   "cell_type": "code",
   "execution_count": 49,
   "metadata": {},
   "outputs": [
    {
     "name": "stdout",
     "output_type": "stream",
     "text": [
      "39.4 ms ± 111 µs per loop (mean ± std. dev. of 7 runs, 10 loops each)\n"
     ]
    }
   ],
   "source": [
    "%timeit fpgrowth(basket_sets, use_colnames=True, min_support=0.002)"
   ]
  },
  {
   "cell_type": "markdown",
   "metadata": {},
   "source": [
    "<p style=\"color:gray\">🔹 Với <code>min_support = 0.001</code>"
   ]
  },
  {
   "cell_type": "code",
   "execution_count": 50,
   "metadata": {},
   "outputs": [
    {
     "name": "stdout",
     "output_type": "stream",
     "text": [
      "2.1 s ± 77.1 ms per loop (mean ± std. dev. of 7 runs, 1 loop each)\n"
     ]
    }
   ],
   "source": [
    "%timeit apriori(basket_sets, use_colnames=True, min_support=0.001)"
   ]
  },
  {
   "cell_type": "code",
   "execution_count": 51,
   "metadata": {},
   "outputs": [
    {
     "name": "stdout",
     "output_type": "stream",
     "text": [
      "43.7 ms ± 377 µs per loop (mean ± std. dev. of 7 runs, 10 loops each)\n"
     ]
    }
   ],
   "source": [
    "%timeit fpgrowth(basket_sets, use_colnames=True, min_support=0.001)"
   ]
  },
  {
   "cell_type": "markdown",
   "metadata": {},
   "source": [
    "### Đánh Giá Hiệu Suất Thuật Toán Apriori và FP-Growth\n",
    "\n",
    "## 🚀 **Apriori**:\n",
    "- Khi **min_support** giảm, thời gian thực thi của **Apriori** tăng mạnh.\n",
    "- Khi **min_support** giảm từ **0.01** xuống **0.001**, thời gian thực thi tăng từ **6.13 ms** lên **2.1 s**.\n",
    "- Điều này xảy ra do **Apriori** phải quét dữ liệu nhiều lần, dẫn đến thời gian xử lý dài hơn khi bộ dữ liệu lớn và **min_support** thấp.\n",
    "\n",
    "## 🌱 **FP-Growth**:\n",
    "- **FP-Growth** thể hiện hiệu suất ổn định hơn và thời gian thực thi không thay đổi quá nhiều khi **min_support** thay đổi.\n",
    "- Thời gian thực thi dao động từ **41.7 ms** đến **43.7 ms** khi **min_support** giảm từ **0.01** xuống **0.001**.\n",
    "- **FP-Growth** sử dụng **FP-tree** giúp giảm số lần quét dữ liệu và tối ưu hóa bộ nhớ, giúp xử lý dữ liệu lớn hiệu quả hơn.\n",
    "\n",
    "## 💡 **Khi Nào Sử Dụng Apriori và FP-Growth** ?\n",
    "\n",
    "- **Apriori**: Thích hợp với bộ dữ liệu nhỏ hoặc khi **min_support** cao, ít tập mục thường xuyên.\n",
    "- **FP-Growth**: Thích hợp với **dữ liệu lớn** hoặc khi **min_support** thấp, giúp giảm thời gian tính toán và tối ưu hóa bộ nhớ.\n",
    "\n",
    "## 📊 **Kết Luận**:\n",
    "Với bộ dữ liệu lớn và **min_support** thấp, **FP-Growth** là thuật toán phù hợp hơn, vì nó xử lý nhanh chóng và hiệu quả hơn **Apriori**\n"
   ]
  }
 ],
 "metadata": {
  "kernelspec": {
   "display_name": "base",
   "language": "python",
   "name": "python3"
  },
  "language_info": {
   "codemirror_mode": {
    "name": "ipython",
    "version": 3
   },
   "file_extension": ".py",
   "mimetype": "text/x-python",
   "name": "python",
   "nbconvert_exporter": "python",
   "pygments_lexer": "ipython3",
   "version": "3.11.4"
  }
 },
 "nbformat": 4,
 "nbformat_minor": 2
}
